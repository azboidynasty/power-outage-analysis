{
 "cells": [
  {
   "cell_type": "markdown",
   "metadata": {},
   "source": [
    "# No Power For How Long???\n",
    "\n",
    "**Name(s)**: Andrew Zhou\n",
    "\n",
    "**Website Link**: https://azboidynasty.github.io/power-outage-analysis/"
   ]
  },
  {
   "cell_type": "code",
   "execution_count": 1,
   "metadata": {
    "ExecuteTime": {
     "end_time": "2019-10-31T23:36:28.652554Z",
     "start_time": "2019-10-31T23:36:27.180520Z"
    }
   },
   "outputs": [],
   "source": [
    "import pandas as pd\n",
    "import numpy as np\n",
    "\n",
    "import plotly.express as px\n",
    "pd.options.plotting.backend = 'plotly'\n",
    "\n",
    "from lec_utils import * # Feel free to uncomment and use this. It'll make your plotly graphs look like ours in lecture!"
   ]
  },
  {
   "cell_type": "markdown",
   "metadata": {},
   "source": [
    "## Step 1: Introduction"
   ]
  },
  {
   "cell_type": "code",
   "execution_count": 2,
   "metadata": {},
   "outputs": [
    {
     "data": {
      "text/html": [
       "<div>\n",
       "<style scoped>\n",
       "    .dataframe tbody tr th:only-of-type {\n",
       "        vertical-align: middle;\n",
       "    }\n",
       "\n",
       "    .dataframe tbody tr th {\n",
       "        vertical-align: top;\n",
       "    }\n",
       "\n",
       "    .dataframe thead th {\n",
       "        text-align: right;\n",
       "    }\n",
       "</style>\n",
       "<table border=\"1\" class=\"dataframe\">\n",
       "  <thead>\n",
       "    <tr style=\"text-align: right;\">\n",
       "      <th></th>\n",
       "      <th>OBS</th>\n",
       "      <th>YEAR</th>\n",
       "      <th>MONTH</th>\n",
       "      <th>U.S._STATE</th>\n",
       "      <th>...</th>\n",
       "      <th>AREAPCT_UC</th>\n",
       "      <th>PCT_LAND</th>\n",
       "      <th>PCT_WATER_TOT</th>\n",
       "      <th>PCT_WATER_INLAND</th>\n",
       "    </tr>\n",
       "  </thead>\n",
       "  <tbody>\n",
       "    <tr>\n",
       "      <th>0</th>\n",
       "      <td>1</td>\n",
       "      <td>2011</td>\n",
       "      <td>7.0</td>\n",
       "      <td>Minnesota</td>\n",
       "      <td>...</td>\n",
       "      <td>0.60</td>\n",
       "      <td>91.59</td>\n",
       "      <td>8.41</td>\n",
       "      <td>5.48</td>\n",
       "    </tr>\n",
       "    <tr>\n",
       "      <th>1</th>\n",
       "      <td>2</td>\n",
       "      <td>2014</td>\n",
       "      <td>5.0</td>\n",
       "      <td>Minnesota</td>\n",
       "      <td>...</td>\n",
       "      <td>0.60</td>\n",
       "      <td>91.59</td>\n",
       "      <td>8.41</td>\n",
       "      <td>5.48</td>\n",
       "    </tr>\n",
       "    <tr>\n",
       "      <th>2</th>\n",
       "      <td>3</td>\n",
       "      <td>2010</td>\n",
       "      <td>10.0</td>\n",
       "      <td>Minnesota</td>\n",
       "      <td>...</td>\n",
       "      <td>0.60</td>\n",
       "      <td>91.59</td>\n",
       "      <td>8.41</td>\n",
       "      <td>5.48</td>\n",
       "    </tr>\n",
       "    <tr>\n",
       "      <th>...</th>\n",
       "      <td>...</td>\n",
       "      <td>...</td>\n",
       "      <td>...</td>\n",
       "      <td>...</td>\n",
       "      <td>...</td>\n",
       "      <td>...</td>\n",
       "      <td>...</td>\n",
       "      <td>...</td>\n",
       "      <td>...</td>\n",
       "    </tr>\n",
       "    <tr>\n",
       "      <th>1531</th>\n",
       "      <td>1532</td>\n",
       "      <td>2009</td>\n",
       "      <td>8.0</td>\n",
       "      <td>South Dakota</td>\n",
       "      <td>...</td>\n",
       "      <td>0.15</td>\n",
       "      <td>98.31</td>\n",
       "      <td>1.69</td>\n",
       "      <td>1.69</td>\n",
       "    </tr>\n",
       "    <tr>\n",
       "      <th>1532</th>\n",
       "      <td>1533</td>\n",
       "      <td>2009</td>\n",
       "      <td>8.0</td>\n",
       "      <td>South Dakota</td>\n",
       "      <td>...</td>\n",
       "      <td>0.15</td>\n",
       "      <td>98.31</td>\n",
       "      <td>1.69</td>\n",
       "      <td>1.69</td>\n",
       "    </tr>\n",
       "    <tr>\n",
       "      <th>1533</th>\n",
       "      <td>1534</td>\n",
       "      <td>2000</td>\n",
       "      <td>NaN</td>\n",
       "      <td>Alaska</td>\n",
       "      <td>...</td>\n",
       "      <td>0.02</td>\n",
       "      <td>85.76</td>\n",
       "      <td>14.24</td>\n",
       "      <td>2.90</td>\n",
       "    </tr>\n",
       "  </tbody>\n",
       "</table>\n",
       "<p>1534 rows × 56 columns</p>\n",
       "</div>"
      ],
      "text/plain": [
       "       OBS  YEAR  MONTH    U.S._STATE  ... AREAPCT_UC PCT_LAND PCT_WATER_TOT  \\\n",
       "0        1  2011    7.0     Minnesota  ...       0.60    91.59          8.41   \n",
       "1        2  2014    5.0     Minnesota  ...       0.60    91.59          8.41   \n",
       "2        3  2010   10.0     Minnesota  ...       0.60    91.59          8.41   \n",
       "...    ...   ...    ...           ...  ...        ...      ...           ...   \n",
       "1531  1532  2009    8.0  South Dakota  ...       0.15    98.31          1.69   \n",
       "1532  1533  2009    8.0  South Dakota  ...       0.15    98.31          1.69   \n",
       "1533  1534  2000    NaN        Alaska  ...       0.02    85.76         14.24   \n",
       "\n",
       "      PCT_WATER_INLAND  \n",
       "0                 5.48  \n",
       "1                 5.48  \n",
       "2                 5.48  \n",
       "...                ...  \n",
       "1531              1.69  \n",
       "1532              1.69  \n",
       "1533              2.90  \n",
       "\n",
       "[1534 rows x 56 columns]"
      ]
     },
     "execution_count": 2,
     "metadata": {},
     "output_type": "execute_result"
    }
   ],
   "source": [
    "# TODO\n",
    "\n",
    "outages = pd.read_csv('outage.csv')\n",
    "outages\n",
    "\n",
    "# For a location and month (time of year), how long do outages occur?"
   ]
  },
  {
   "cell_type": "markdown",
   "metadata": {},
   "source": [
    "## Step 2: Data Cleaning and Exploratory Data Analysis"
   ]
  },
  {
   "cell_type": "code",
   "execution_count": 3,
   "metadata": {},
   "outputs": [
    {
     "data": {
      "text/html": [
       "<div>\n",
       "<style scoped>\n",
       "    .dataframe tbody tr th:only-of-type {\n",
       "        vertical-align: middle;\n",
       "    }\n",
       "\n",
       "    .dataframe tbody tr th {\n",
       "        vertical-align: top;\n",
       "    }\n",
       "\n",
       "    .dataframe thead th {\n",
       "        text-align: right;\n",
       "    }\n",
       "</style>\n",
       "<table border=\"1\" class=\"dataframe\">\n",
       "  <thead>\n",
       "    <tr style=\"text-align: right;\">\n",
       "      <th></th>\n",
       "      <th>MONTH</th>\n",
       "      <th>POSTAL.CODE</th>\n",
       "      <th>OUTAGE.DURATION</th>\n",
       "    </tr>\n",
       "  </thead>\n",
       "  <tbody>\n",
       "    <tr>\n",
       "      <th>0</th>\n",
       "      <td>7.0</td>\n",
       "      <td>MN</td>\n",
       "      <td>3060.0</td>\n",
       "    </tr>\n",
       "    <tr>\n",
       "      <th>1</th>\n",
       "      <td>5.0</td>\n",
       "      <td>MN</td>\n",
       "      <td>1.0</td>\n",
       "    </tr>\n",
       "    <tr>\n",
       "      <th>2</th>\n",
       "      <td>10.0</td>\n",
       "      <td>MN</td>\n",
       "      <td>3000.0</td>\n",
       "    </tr>\n",
       "    <tr>\n",
       "      <th>...</th>\n",
       "      <td>...</td>\n",
       "      <td>...</td>\n",
       "      <td>...</td>\n",
       "    </tr>\n",
       "    <tr>\n",
       "      <th>1531</th>\n",
       "      <td>8.0</td>\n",
       "      <td>SD</td>\n",
       "      <td>59.0</td>\n",
       "    </tr>\n",
       "    <tr>\n",
       "      <th>1532</th>\n",
       "      <td>8.0</td>\n",
       "      <td>SD</td>\n",
       "      <td>181.0</td>\n",
       "    </tr>\n",
       "    <tr>\n",
       "      <th>1533</th>\n",
       "      <td>NaN</td>\n",
       "      <td>AK</td>\n",
       "      <td>NaN</td>\n",
       "    </tr>\n",
       "  </tbody>\n",
       "</table>\n",
       "<p>1534 rows × 3 columns</p>\n",
       "</div>"
      ],
      "text/plain": [
       "      MONTH POSTAL.CODE  OUTAGE.DURATION\n",
       "0       7.0          MN           3060.0\n",
       "1       5.0          MN              1.0\n",
       "2      10.0          MN           3000.0\n",
       "...     ...         ...              ...\n",
       "1531    8.0          SD             59.0\n",
       "1532    8.0          SD            181.0\n",
       "1533    NaN          AK              NaN\n",
       "\n",
       "[1534 rows x 3 columns]"
      ]
     },
     "execution_count": 3,
     "metadata": {},
     "output_type": "execute_result"
    }
   ],
   "source": [
    "columns_to_keep = ['MONTH', 'POSTAL.CODE', 'OUTAGE.DURATION']\n",
    "outages = outages[columns_to_keep]\n",
    "outages"
   ]
  },
  {
   "cell_type": "markdown",
   "metadata": {},
   "source": [
    "A power outage that lasts 0 minutes shouldn't really count as an outage. Also, an outage that lasts 1 minute isn't something most people would be too concerned about. Let's drop any outages that last 0 or 1 minutes."
   ]
  },
  {
   "cell_type": "code",
   "execution_count": 4,
   "metadata": {
    "ExecuteTime": {
     "end_time": "2019-10-31T23:36:28.662099Z",
     "start_time": "2019-10-31T23:36:28.660016Z"
    }
   },
   "outputs": [
    {
     "data": {
      "text/html": [
       "<div>\n",
       "<style scoped>\n",
       "    .dataframe tbody tr th:only-of-type {\n",
       "        vertical-align: middle;\n",
       "    }\n",
       "\n",
       "    .dataframe tbody tr th {\n",
       "        vertical-align: top;\n",
       "    }\n",
       "\n",
       "    .dataframe thead th {\n",
       "        text-align: right;\n",
       "    }\n",
       "</style>\n",
       "<table border=\"1\" class=\"dataframe\">\n",
       "  <thead>\n",
       "    <tr style=\"text-align: right;\">\n",
       "      <th></th>\n",
       "      <th>MONTH</th>\n",
       "      <th>POSTAL.CODE</th>\n",
       "      <th>OUTAGE.DURATION</th>\n",
       "    </tr>\n",
       "  </thead>\n",
       "  <tbody>\n",
       "    <tr>\n",
       "      <th>0</th>\n",
       "      <td>7.0</td>\n",
       "      <td>MN</td>\n",
       "      <td>3060.0</td>\n",
       "    </tr>\n",
       "    <tr>\n",
       "      <th>2</th>\n",
       "      <td>10.0</td>\n",
       "      <td>MN</td>\n",
       "      <td>3000.0</td>\n",
       "    </tr>\n",
       "    <tr>\n",
       "      <th>3</th>\n",
       "      <td>6.0</td>\n",
       "      <td>MN</td>\n",
       "      <td>2550.0</td>\n",
       "    </tr>\n",
       "    <tr>\n",
       "      <th>...</th>\n",
       "      <td>...</td>\n",
       "      <td>...</td>\n",
       "      <td>...</td>\n",
       "    </tr>\n",
       "    <tr>\n",
       "      <th>1531</th>\n",
       "      <td>8.0</td>\n",
       "      <td>SD</td>\n",
       "      <td>59.0</td>\n",
       "    </tr>\n",
       "    <tr>\n",
       "      <th>1532</th>\n",
       "      <td>8.0</td>\n",
       "      <td>SD</td>\n",
       "      <td>181.0</td>\n",
       "    </tr>\n",
       "    <tr>\n",
       "      <th>1533</th>\n",
       "      <td>NaN</td>\n",
       "      <td>AK</td>\n",
       "      <td>NaN</td>\n",
       "    </tr>\n",
       "  </tbody>\n",
       "</table>\n",
       "<p>1359 rows × 3 columns</p>\n",
       "</div>"
      ],
      "text/plain": [
       "      MONTH POSTAL.CODE  OUTAGE.DURATION\n",
       "0       7.0          MN           3060.0\n",
       "2      10.0          MN           3000.0\n",
       "3       6.0          MN           2550.0\n",
       "...     ...         ...              ...\n",
       "1531    8.0          SD             59.0\n",
       "1532    8.0          SD            181.0\n",
       "1533    NaN          AK              NaN\n",
       "\n",
       "[1359 rows x 3 columns]"
      ]
     },
     "execution_count": 4,
     "metadata": {},
     "output_type": "execute_result"
    }
   ],
   "source": [
    "# TODO\n",
    "\n",
    "# A power outage that last 0 minutes doesn't count as a power outage\n",
    "\n",
    "outages = outages[outages['OUTAGE.DURATION'] != 0]\n",
    "\n",
    "# Also drop 1 minute outages\n",
    "outages = outages[outages['OUTAGE.DURATION'] != 1]\n",
    "outages"
   ]
  },
  {
   "cell_type": "code",
   "execution_count": 5,
   "metadata": {},
   "outputs": [
    {
     "data": {
      "text/plain": [
       "(9, 0)"
      ]
     },
     "execution_count": 5,
     "metadata": {},
     "output_type": "execute_result"
    }
   ],
   "source": [
    "outages['MONTH'].isna().sum() , outages['POSTAL.CODE'].isna().sum()"
   ]
  },
  {
   "cell_type": "markdown",
   "metadata": {},
   "source": [
    "We see that there are no missing values for state postal code.\n",
    "\n",
    "Let's try grouping by state to further assist with data analysis and cleaning, especially dealing with missing values."
   ]
  },
  {
   "cell_type": "code",
   "execution_count": 6,
   "metadata": {},
   "outputs": [
    {
     "data": {
      "text/html": [
       "<div>\n",
       "<style scoped>\n",
       "    .dataframe tbody tr th:only-of-type {\n",
       "        vertical-align: middle;\n",
       "    }\n",
       "\n",
       "    .dataframe tbody tr th {\n",
       "        vertical-align: top;\n",
       "    }\n",
       "\n",
       "    .dataframe thead th {\n",
       "        text-align: right;\n",
       "    }\n",
       "</style>\n",
       "<table border=\"1\" class=\"dataframe\">\n",
       "  <thead>\n",
       "    <tr style=\"text-align: right;\">\n",
       "      <th></th>\n",
       "      <th>POSTAL.CODE</th>\n",
       "      <th>missing_months</th>\n",
       "      <th>mean_outage_duration</th>\n",
       "      <th>count_power_outage</th>\n",
       "      <th>missing_outage_duration</th>\n",
       "    </tr>\n",
       "  </thead>\n",
       "  <tbody>\n",
       "    <tr>\n",
       "      <th>0</th>\n",
       "      <td>AK</td>\n",
       "      <td>1</td>\n",
       "      <td>NaN</td>\n",
       "      <td>1</td>\n",
       "      <td>1</td>\n",
       "    </tr>\n",
       "    <tr>\n",
       "      <th>1</th>\n",
       "      <td>AL</td>\n",
       "      <td>1</td>\n",
       "      <td>1152.80</td>\n",
       "      <td>6</td>\n",
       "      <td>1</td>\n",
       "    </tr>\n",
       "    <tr>\n",
       "      <th>2</th>\n",
       "      <td>AR</td>\n",
       "      <td>0</td>\n",
       "      <td>1577.42</td>\n",
       "      <td>24</td>\n",
       "      <td>0</td>\n",
       "    </tr>\n",
       "    <tr>\n",
       "      <th>...</th>\n",
       "      <td>...</td>\n",
       "      <td>...</td>\n",
       "      <td>...</td>\n",
       "      <td>...</td>\n",
       "      <td>...</td>\n",
       "    </tr>\n",
       "    <tr>\n",
       "      <th>47</th>\n",
       "      <td>WI</td>\n",
       "      <td>0</td>\n",
       "      <td>7904.11</td>\n",
       "      <td>20</td>\n",
       "      <td>1</td>\n",
       "    </tr>\n",
       "    <tr>\n",
       "      <th>48</th>\n",
       "      <td>WV</td>\n",
       "      <td>0</td>\n",
       "      <td>9305.00</td>\n",
       "      <td>3</td>\n",
       "      <td>0</td>\n",
       "    </tr>\n",
       "    <tr>\n",
       "      <th>49</th>\n",
       "      <td>WY</td>\n",
       "      <td>0</td>\n",
       "      <td>66.33</td>\n",
       "      <td>3</td>\n",
       "      <td>0</td>\n",
       "    </tr>\n",
       "  </tbody>\n",
       "</table>\n",
       "<p>50 rows × 5 columns</p>\n",
       "</div>"
      ],
      "text/plain": [
       "   POSTAL.CODE  missing_months  mean_outage_duration  count_power_outage  \\\n",
       "0           AK               1                   NaN                   1   \n",
       "1           AL               1               1152.80                   6   \n",
       "2           AR               0               1577.42                  24   \n",
       "..         ...             ...                   ...                 ...   \n",
       "47          WI               0               7904.11                  20   \n",
       "48          WV               0               9305.00                   3   \n",
       "49          WY               0                 66.33                   3   \n",
       "\n",
       "    missing_outage_duration  \n",
       "0                         1  \n",
       "1                         1  \n",
       "2                         0  \n",
       "..                      ...  \n",
       "47                        1  \n",
       "48                        0  \n",
       "49                        0  \n",
       "\n",
       "[50 rows x 5 columns]"
      ]
     },
     "execution_count": 6,
     "metadata": {},
     "output_type": "execute_result"
    }
   ],
   "source": [
    "grouped = outages.groupby('POSTAL.CODE')\n",
    "agg_result = grouped.agg(\n",
    "    missing_months=('MONTH', lambda x: x.isna().sum()),\n",
    "    mean_outage_duration=('OUTAGE.DURATION', 'mean'),\n",
    "    count_power_outage=('POSTAL.CODE', 'count'),\n",
    "    missing_outage_duration=('OUTAGE.DURATION', lambda x: x.isna().sum())\n",
    ").reset_index()\n",
    "agg_result"
   ]
  },
  {
   "cell_type": "markdown",
   "metadata": {},
   "source": [
    "One of our independent variables (month) has some missing values.\n",
    "\n",
    "However, there are only 9 missing values for month out of over 1300 outages, and where these missing values occur doesn't seem to depend on state. Imputation is probably unnecessary here, and we can safely drop these missing values."
   ]
  },
  {
   "cell_type": "code",
   "execution_count": 7,
   "metadata": {},
   "outputs": [
    {
     "data": {
      "text/html": [
       "<div>\n",
       "<style scoped>\n",
       "    .dataframe tbody tr th:only-of-type {\n",
       "        vertical-align: middle;\n",
       "    }\n",
       "\n",
       "    .dataframe tbody tr th {\n",
       "        vertical-align: top;\n",
       "    }\n",
       "\n",
       "    .dataframe thead th {\n",
       "        text-align: right;\n",
       "    }\n",
       "</style>\n",
       "<table border=\"1\" class=\"dataframe\">\n",
       "  <thead>\n",
       "    <tr style=\"text-align: right;\">\n",
       "      <th></th>\n",
       "      <th>MONTH</th>\n",
       "      <th>POSTAL.CODE</th>\n",
       "      <th>OUTAGE.DURATION</th>\n",
       "    </tr>\n",
       "  </thead>\n",
       "  <tbody>\n",
       "    <tr>\n",
       "      <th>0</th>\n",
       "      <td>7.0</td>\n",
       "      <td>MN</td>\n",
       "      <td>3060.0</td>\n",
       "    </tr>\n",
       "    <tr>\n",
       "      <th>2</th>\n",
       "      <td>10.0</td>\n",
       "      <td>MN</td>\n",
       "      <td>3000.0</td>\n",
       "    </tr>\n",
       "    <tr>\n",
       "      <th>3</th>\n",
       "      <td>6.0</td>\n",
       "      <td>MN</td>\n",
       "      <td>2550.0</td>\n",
       "    </tr>\n",
       "    <tr>\n",
       "      <th>...</th>\n",
       "      <td>...</td>\n",
       "      <td>...</td>\n",
       "      <td>...</td>\n",
       "    </tr>\n",
       "    <tr>\n",
       "      <th>1529</th>\n",
       "      <td>12.0</td>\n",
       "      <td>ND</td>\n",
       "      <td>720.0</td>\n",
       "    </tr>\n",
       "    <tr>\n",
       "      <th>1531</th>\n",
       "      <td>8.0</td>\n",
       "      <td>SD</td>\n",
       "      <td>59.0</td>\n",
       "    </tr>\n",
       "    <tr>\n",
       "      <th>1532</th>\n",
       "      <td>8.0</td>\n",
       "      <td>SD</td>\n",
       "      <td>181.0</td>\n",
       "    </tr>\n",
       "  </tbody>\n",
       "</table>\n",
       "<p>1350 rows × 3 columns</p>\n",
       "</div>"
      ],
      "text/plain": [
       "      MONTH POSTAL.CODE  OUTAGE.DURATION\n",
       "0       7.0          MN           3060.0\n",
       "2      10.0          MN           3000.0\n",
       "3       6.0          MN           2550.0\n",
       "...     ...         ...              ...\n",
       "1529   12.0          ND            720.0\n",
       "1531    8.0          SD             59.0\n",
       "1532    8.0          SD            181.0\n",
       "\n",
       "[1350 rows x 3 columns]"
      ]
     },
     "execution_count": 7,
     "metadata": {},
     "output_type": "execute_result"
    }
   ],
   "source": [
    "outages = outages.dropna(subset=['POSTAL.CODE'])\n",
    "outages = outages.dropna(subset=['MONTH'])\n",
    "outages"
   ]
  },
  {
   "cell_type": "code",
   "execution_count": 8,
   "metadata": {},
   "outputs": [
    {
     "data": {
      "text/plain": [
       "49"
      ]
     },
     "execution_count": 8,
     "metadata": {},
     "output_type": "execute_result"
    }
   ],
   "source": [
    "outages['OUTAGE.DURATION'].isna().sum()"
   ]
  },
  {
   "cell_type": "markdown",
   "metadata": {},
   "source": [
    "We still have missing values for outage duration.\n",
    "\n",
    "Note that the only outage in Alaska in this dataset has a missing value for outage duration. Imputation might not be appropriate since we don't have a reliable method to determine the best value to impute (e.g. mean outage duration).\n",
    "\n",
    "For other states, the missing values appear to be missing at random, and a relatively small proporton of values are missing; we can drop these."
   ]
  },
  {
   "cell_type": "code",
   "execution_count": 9,
   "metadata": {},
   "outputs": [
    {
     "data": {
      "text/html": [
       "<div>\n",
       "<style scoped>\n",
       "    .dataframe tbody tr th:only-of-type {\n",
       "        vertical-align: middle;\n",
       "    }\n",
       "\n",
       "    .dataframe tbody tr th {\n",
       "        vertical-align: top;\n",
       "    }\n",
       "\n",
       "    .dataframe thead th {\n",
       "        text-align: right;\n",
       "    }\n",
       "</style>\n",
       "<table border=\"1\" class=\"dataframe\">\n",
       "  <thead>\n",
       "    <tr style=\"text-align: right;\">\n",
       "      <th></th>\n",
       "      <th>MONTH</th>\n",
       "      <th>POSTAL.CODE</th>\n",
       "      <th>OUTAGE.DURATION</th>\n",
       "    </tr>\n",
       "  </thead>\n",
       "  <tbody>\n",
       "    <tr>\n",
       "      <th>0</th>\n",
       "      <td>7.0</td>\n",
       "      <td>MN</td>\n",
       "      <td>3060.0</td>\n",
       "    </tr>\n",
       "    <tr>\n",
       "      <th>2</th>\n",
       "      <td>10.0</td>\n",
       "      <td>MN</td>\n",
       "      <td>3000.0</td>\n",
       "    </tr>\n",
       "    <tr>\n",
       "      <th>3</th>\n",
       "      <td>6.0</td>\n",
       "      <td>MN</td>\n",
       "      <td>2550.0</td>\n",
       "    </tr>\n",
       "    <tr>\n",
       "      <th>...</th>\n",
       "      <td>...</td>\n",
       "      <td>...</td>\n",
       "      <td>...</td>\n",
       "    </tr>\n",
       "    <tr>\n",
       "      <th>1529</th>\n",
       "      <td>12.0</td>\n",
       "      <td>ND</td>\n",
       "      <td>720.0</td>\n",
       "    </tr>\n",
       "    <tr>\n",
       "      <th>1531</th>\n",
       "      <td>8.0</td>\n",
       "      <td>SD</td>\n",
       "      <td>59.0</td>\n",
       "    </tr>\n",
       "    <tr>\n",
       "      <th>1532</th>\n",
       "      <td>8.0</td>\n",
       "      <td>SD</td>\n",
       "      <td>181.0</td>\n",
       "    </tr>\n",
       "  </tbody>\n",
       "</table>\n",
       "<p>1301 rows × 3 columns</p>\n",
       "</div>"
      ],
      "text/plain": [
       "      MONTH POSTAL.CODE  OUTAGE.DURATION\n",
       "0       7.0          MN           3060.0\n",
       "2      10.0          MN           3000.0\n",
       "3       6.0          MN           2550.0\n",
       "...     ...         ...              ...\n",
       "1529   12.0          ND            720.0\n",
       "1531    8.0          SD             59.0\n",
       "1532    8.0          SD            181.0\n",
       "\n",
       "[1301 rows x 3 columns]"
      ]
     },
     "execution_count": 9,
     "metadata": {},
     "output_type": "execute_result"
    }
   ],
   "source": [
    "#clean missing outage duration values\n",
    "\n",
    "outages = outages.dropna(subset=['OUTAGE.DURATION'])\n",
    "outages"
   ]
  },
  {
   "cell_type": "code",
   "execution_count": 10,
   "metadata": {},
   "outputs": [
    {
     "data": {
      "application/vnd.plotly.v1+json": {
       "config": {
        "plotlyServerURL": "https://plot.ly"
       },
       "data": [
        {
         "alignmentgroup": "True",
         "bingroup": "x",
         "hovertemplate": "OUTAGE.DURATION=%{x}<br>count=%{y}<extra></extra>",
         "legendgroup": "",
         "marker": {
          "color": "#1F77B4",
          "pattern": {
           "shape": ""
          }
         },
         "name": "",
         "nbinsx": 100,
         "offsetgroup": "",
         "orientation": "v",
         "showlegend": false,
         "type": "histogram",
         "x": [
          3060,
          3000,
          2550,
          1740,
          1860,
          2970,
          3960,
          155,
          3621,
          7740,
          8880,
          1322,
          60,
          19,
          21,
          196,
          840,
          935,
          1260,
          619,
          150,
          762,
          660,
          2700,
          4921,
          95,
          251,
          4125,
          2550,
          1200,
          310,
          2818,
          5054,
          136,
          528,
          150,
          46,
          1920,
          32,
          135,
          3000,
          32,
          108653,
          8468,
          960,
          44,
          1605,
          4410,
          388,
          480,
          1219,
          90,
          18660,
          538,
          104,
          60,
          1272,
          60,
          1000,
          17339,
          9576,
          3090,
          6510,
          5820,
          1078,
          1513,
          4830,
          3051,
          4200,
          2085,
          5730,
          4290,
          2670,
          3540,
          3637,
          1710,
          4320,
          3915,
          3120,
          4590,
          7530,
          5034,
          8160,
          3300,
          4320,
          1770,
          9857,
          4080,
          5670,
          5700,
          1995,
          300,
          5115,
          2670,
          7650,
          4338,
          761,
          5760,
          2820,
          4110,
          3360,
          3015,
          232,
          11525,
          6420,
          46080,
          5700,
          5610,
          78377,
          270,
          4050,
          5865,
          2325,
          4170,
          4485,
          2694,
          168,
          5580,
          705,
          11850,
          3494,
          4560,
          2760,
          5760,
          8922,
          6030,
          7800,
          4242,
          3120,
          5700,
          900,
          1046,
          7620,
          3630,
          1260,
          5840,
          5790,
          2820,
          600,
          4259,
          2939,
          7080,
          3600,
          1588,
          4260,
          2700,
          200,
          8430,
          85,
          9150,
          1019,
          420,
          1140,
          7440,
          4458,
          373,
          1203,
          868,
          1455,
          206,
          1195,
          1559,
          900,
          2690,
          5115,
          5,
          189,
          2142,
          360,
          225,
          2340,
          480,
          9486,
          480,
          3000,
          300,
          3020,
          766,
          1335,
          197,
          245,
          3255,
          12180,
          1077,
          600,
          186,
          690,
          27698,
          402,
          2420,
          327,
          1860,
          220,
          455,
          318,
          757,
          847,
          410,
          215,
          5,
          570,
          12124,
          2655,
          20160,
          1440,
          600,
          39,
          181,
          1185,
          1500,
          271,
          1860,
          1200,
          2159,
          6300,
          1620,
          224,
          70,
          1697,
          95,
          2220,
          7809,
          1200,
          121,
          63,
          5595,
          557,
          240,
          3360,
          685,
          2280,
          210,
          167,
          1920,
          3569,
          3300,
          10,
          1560,
          840,
          240,
          990,
          6000,
          17865,
          1282,
          1080,
          7540,
          1320,
          1110,
          27698,
          130,
          3040,
          394,
          10140,
          20160,
          21540,
          45,
          1200,
          550,
          900,
          885,
          940,
          3050,
          1830,
          6000,
          1500,
          150,
          1955,
          2220,
          330,
          74,
          420,
          1440,
          255,
          1060,
          12240,
          5250,
          4320,
          120,
          233,
          65,
          2120,
          96,
          3,
          4320,
          65,
          2146,
          96,
          4032,
          2580,
          6,
          569,
          15950,
          200,
          1980,
          4045,
          2730,
          3314,
          7319,
          47,
          1440,
          276,
          3646,
          1130,
          2880,
          513,
          35,
          23773,
          10,
          3872,
          23187,
          12240,
          390,
          3264,
          1230,
          803,
          77,
          30,
          300,
          5,
          1450,
          2680,
          7609,
          150,
          3000,
          420,
          479,
          1680,
          2700,
          149,
          1110,
          2790,
          659,
          1320,
          1830,
          3000,
          870,
          810,
          1336,
          1695,
          360,
          360,
          120,
          3000,
          1290,
          1530,
          2370,
          1200,
          1200,
          90,
          120,
          1200,
          2761,
          720,
          1120,
          2100,
          960,
          450,
          1440,
          1020,
          2010,
          120,
          9230,
          1240,
          465,
          2460,
          1183,
          8880,
          394,
          219,
          487,
          19,
          28,
          5340,
          8940,
          467,
          1920,
          25,
          420,
          2040,
          1423,
          60,
          1620,
          3300,
          385,
          663,
          123,
          1276,
          1919,
          440,
          6690,
          717,
          1204,
          292,
          313,
          5,
          6276,
          74,
          248,
          2700,
          25,
          126,
          255,
          1207,
          245,
          476,
          2639,
          502,
          548,
          369,
          6480,
          15,
          5,
          432,
          21,
          1697,
          2615,
          9630,
          3507,
          2820,
          314,
          5855,
          22769,
          70,
          4285,
          355,
          2520,
          180,
          554,
          50,
          70,
          180,
          3842,
          35,
          189,
          49320,
          4200,
          353,
          87,
          66,
          227,
          1440,
          2700,
          49320,
          2,
          215,
          451,
          418,
          100,
          2021,
          1671,
          3938,
          4470,
          2279,
          4440,
          2760,
          1840,
          428,
          331,
          1980,
          1950,
          3037,
          1196,
          5628,
          1440,
          7700,
          2,
          12890,
          4232,
          95,
          2610,
          4320,
          17,
          113,
          2507,
          4920,
          4080,
          960,
          185,
          1320,
          1673,
          2855,
          3060,
          565,
          7298,
          5790,
          3040,
          11700,
          7987,
          304,
          4517,
          3058,
          13381,
          2865,
          152,
          380,
          9450,
          7803,
          5579,
          8979,
          4800,
          3060,
          4792,
          3894,
          1757,
          2880,
          2985,
          164,
          3232,
          2319,
          4338,
          2880,
          1714,
          90,
          59,
          4139,
          10530,
          6938,
          930,
          278,
          299,
          5320,
          2880,
          4260,
          6713,
          5160,
          1440,
          78,
          7523,
          2668,
          376,
          1324,
          6940,
          2684,
          54,
          100,
          720,
          2880,
          3189,
          2790,
          13679,
          2843,
          13488,
          1642,
          7709,
          7080,
          1440,
          1680,
          1579,
          652,
          108,
          300,
          1020,
          3570,
          6492,
          23700,
          10499,
          15180,
          120,
          60,
          113,
          204,
          31,
          57,
          13,
          2,
          11,
          283,
          871,
          1631,
          56,
          15,
          15,
          20,
          60,
          95,
          300,
          3186,
          575,
          2275,
          15,
          44,
          21,
          114,
          60,
          4920,
          4920,
          420,
          7,
          21,
          340,
          4200,
          805,
          5040,
          7430,
          5490,
          165,
          3630,
          11640,
          1590,
          3137,
          1440,
          7920,
          360,
          1440,
          1372,
          6480,
          2190,
          285,
          75,
          1843,
          11531,
          1420,
          930,
          11420,
          352,
          960,
          1733,
          3690,
          10619,
          634,
          11280,
          1440,
          180,
          1574,
          45,
          563,
          388,
          373,
          4510,
          290,
          1950,
          270,
          1355,
          1318,
          2490,
          1265,
          195,
          3120,
          3388,
          1025,
          990,
          240,
          1485,
          129,
          1528,
          1890,
          2551,
          985,
          405,
          1698,
          167,
          1460,
          182,
          4113,
          885,
          15,
          42,
          1050,
          132,
          4140,
          2880,
          11430,
          3599,
          2941,
          6090,
          1365,
          375,
          2520,
          10080,
          76,
          3720,
          333,
          353,
          11337,
          7020,
          11058,
          9360,
          3300,
          3339,
          2880,
          11580,
          9600,
          13201,
          9719,
          488,
          2415,
          180,
          4177,
          7440,
          3480,
          6600,
          300,
          1526,
          60,
          210,
          2,
          1350,
          73,
          200,
          4380,
          120,
          2680,
          840,
          989,
          4313,
          214,
          4,
          164,
          91,
          1050,
          838,
          60,
          9886,
          2425,
          390,
          14500,
          6660,
          159,
          54,
          30,
          8077,
          855,
          65,
          810,
          4150,
          4740,
          25,
          2070,
          870,
          12652,
          2880,
          120,
          1199,
          1470,
          4140,
          15420,
          50,
          457,
          30,
          65,
          110,
          39,
          507,
          213,
          4254,
          53,
          251,
          347,
          1637,
          21360,
          2161,
          2880,
          1044,
          8670,
          56,
          93,
          13,
          2089,
          20280,
          14639,
          2880,
          681,
          494,
          5355,
          3943,
          3300,
          191,
          73,
          4680,
          17310,
          10080,
          10726,
          5,
          2515,
          25920,
          2730,
          9480,
          5400,
          30,
          3584,
          3600,
          5850,
          4710,
          1732,
          23040,
          1800,
          6074,
          49,
          2299,
          5760,
          420,
          7320,
          2880,
          448,
          2520,
          18717,
          5513,
          21,
          2100,
          3120,
          8221,
          3240,
          2880,
          255,
          2355,
          161,
          50,
          258,
          13140,
          8640,
          18240,
          15492,
          8268,
          300,
          14400,
          7962,
          2400,
          11296,
          48,
          60480,
          28170,
          300,
          8054,
          2775,
          2775,
          2160,
          2100,
          2775,
          3180,
          2775,
          1440,
          430,
          2129,
          1755,
          692,
          732,
          7,
          510,
          420,
          13215,
          557,
          300,
          17812,
          20416,
          6240,
          467,
          3067,
          3060,
          355,
          430,
          300,
          227,
          52,
          2880,
          18804,
          1867,
          1690,
          295,
          17,
          240,
          17520,
          8189,
          182,
          5820,
          83,
          230,
          2009,
          720,
          155,
          4320,
          4320,
          480,
          1005,
          221,
          372,
          13430,
          4320,
          91,
          1419,
          3600,
          10080,
          5071,
          152,
          6840,
          221,
          24780,
          38,
          61,
          7560,
          90,
          10380,
          396,
          2040,
          12060,
          1080,
          1680,
          13920,
          14101,
          1099,
          2460,
          540,
          52,
          816,
          420,
          155,
          437,
          247,
          540,
          1135,
          437,
          180,
          171,
          656,
          84,
          202,
          255,
          1054,
          1254,
          1456,
          177,
          106,
          32,
          2464,
          55,
          144,
          70,
          64,
          8873,
          945,
          523,
          56,
          3,
          8472,
          155,
          33,
          749,
          159,
          270,
          2790,
          224,
          1470,
          334,
          2050,
          370,
          26,
          797,
          12,
          195,
          230,
          125,
          15,
          316,
          365,
          1560,
          4740,
          294,
          455,
          2878,
          336,
          295,
          480,
          25,
          223,
          2645,
          2016,
          7371,
          360,
          3408,
          3698,
          4890,
          871,
          2759,
          250,
          3301,
          249,
          164,
          435,
          420,
          854,
          5160,
          133,
          15180,
          2055,
          451,
          140,
          199,
          721,
          179,
          1524,
          78,
          268,
          39,
          14190,
          47,
          161,
          900,
          6070,
          697,
          234,
          14,
          5910,
          34390,
          40,
          166,
          182,
          829,
          15,
          64,
          13,
          245,
          1080,
          390,
          47,
          269,
          400,
          660,
          213,
          761,
          8100,
          180,
          124,
          4320,
          2820,
          3100,
          49427,
          989,
          125,
          44,
          26,
          245,
          98,
          135,
          50,
          1008,
          53,
          554,
          1260,
          2895,
          89,
          98,
          865,
          128,
          230,
          252,
          130,
          5,
          157,
          6914,
          11,
          13,
          2880,
          270,
          962,
          47,
          20,
          108,
          9855,
          75,
          17,
          21,
          1950,
          11867,
          141,
          959,
          1035,
          617,
          1230,
          572,
          324,
          1835,
          6780,
          900,
          37,
          72,
          251,
          620,
          89,
          909,
          236,
          326,
          300,
          751,
          122,
          214,
          193,
          8,
          5227,
          1414,
          448,
          4605,
          4080,
          1914,
          759,
          10274,
          3,
          2700,
          105,
          240,
          210,
          1201,
          30,
          2806,
          1226,
          300,
          206,
          270,
          2880,
          513,
          8160,
          3314,
          414,
          126,
          60,
          285,
          110,
          62,
          2363,
          424,
          180,
          448,
          2,
          624,
          2435,
          131,
          208,
          103,
          1355,
          1523,
          90,
          1205,
          385,
          144,
          235,
          241,
          6787,
          1337,
          1673,
          3366,
          2640,
          1826,
          570,
          1565,
          2691,
          1072,
          115,
          816,
          168,
          30,
          160,
          485,
          1508,
          1301,
          159,
          60,
          4,
          9600,
          106,
          32,
          61,
          314,
          30,
          92,
          390,
          161,
          60,
          76,
          160,
          20,
          70,
          50,
          15,
          810,
          1380,
          1800,
          1560,
          2054,
          1452,
          1865,
          1999,
          120,
          1950,
          360,
          1087,
          1200,
          4122,
          360,
          645,
          108,
          1440,
          4560,
          110,
          210,
          120,
          4260,
          76,
          210,
          3305,
          5880,
          145,
          60,
          2640,
          1042,
          110,
          11880,
          2245,
          984,
          7200,
          1381,
          148,
          13972,
          796,
          300,
          2612,
          3000,
          431,
          5310,
          1732,
          6685,
          3300,
          280,
          117,
          2895,
          480,
          31,
          103,
          4745,
          307,
          1656,
          3525,
          374,
          1068,
          1569,
          114,
          115,
          15,
          2891,
          1676,
          3604,
          195,
          2108,
          198,
          3667,
          1037,
          673,
          2652,
          300,
          881,
          618,
          1187,
          950,
          2535,
          27,
          108,
          73,
          200,
          5,
          75,
          77,
          660,
          92,
          30,
          33,
          1895,
          274,
          1534,
          60,
          108,
          2,
          175,
          2040,
          2710,
          284,
          105,
          4019,
          391,
          439,
          5,
          201,
          2140,
          103,
          187,
          1406,
          348,
          13650,
          90,
          913,
          14040,
          1367,
          174,
          543,
          237,
          1906,
          224,
          95,
          360,
          1548,
          870,
          220,
          720,
          59,
          181
         ],
         "xaxis": "x",
         "yaxis": "y"
        }
       ],
       "layout": {
        "barmode": "relative",
        "legend": {
         "tracegroupgap": 0
        },
        "template": {
         "data": {
          "bar": [
           {
            "error_x": {
             "color": "rgb(36,36,36)"
            },
            "error_y": {
             "color": "rgb(36,36,36)"
            },
            "marker": {
             "line": {
              "color": "white",
              "width": 0.5
             },
             "pattern": {
              "fillmode": "overlay",
              "size": 10,
              "solidity": 0.2
             }
            },
            "type": "bar"
           }
          ],
          "barpolar": [
           {
            "marker": {
             "line": {
              "color": "white",
              "width": 0.5
             },
             "pattern": {
              "fillmode": "overlay",
              "size": 10,
              "solidity": 0.2
             }
            },
            "type": "barpolar"
           }
          ],
          "carpet": [
           {
            "aaxis": {
             "endlinecolor": "rgb(36,36,36)",
             "gridcolor": "white",
             "linecolor": "white",
             "minorgridcolor": "white",
             "startlinecolor": "rgb(36,36,36)"
            },
            "baxis": {
             "endlinecolor": "rgb(36,36,36)",
             "gridcolor": "white",
             "linecolor": "white",
             "minorgridcolor": "white",
             "startlinecolor": "rgb(36,36,36)"
            },
            "type": "carpet"
           }
          ],
          "choropleth": [
           {
            "colorbar": {
             "outlinewidth": 1,
             "tickcolor": "rgb(36,36,36)",
             "ticks": "outside"
            },
            "type": "choropleth"
           }
          ],
          "contour": [
           {
            "colorbar": {
             "outlinewidth": 1,
             "tickcolor": "rgb(36,36,36)",
             "ticks": "outside"
            },
            "colorscale": [
             [
              0,
              "#440154"
             ],
             [
              0.1111111111111111,
              "#482878"
             ],
             [
              0.2222222222222222,
              "#3e4989"
             ],
             [
              0.3333333333333333,
              "#31688e"
             ],
             [
              0.4444444444444444,
              "#26828e"
             ],
             [
              0.5555555555555556,
              "#1f9e89"
             ],
             [
              0.6666666666666666,
              "#35b779"
             ],
             [
              0.7777777777777778,
              "#6ece58"
             ],
             [
              0.8888888888888888,
              "#b5de2b"
             ],
             [
              1,
              "#fde725"
             ]
            ],
            "type": "contour"
           }
          ],
          "contourcarpet": [
           {
            "colorbar": {
             "outlinewidth": 1,
             "tickcolor": "rgb(36,36,36)",
             "ticks": "outside"
            },
            "type": "contourcarpet"
           }
          ],
          "heatmap": [
           {
            "colorbar": {
             "outlinewidth": 1,
             "tickcolor": "rgb(36,36,36)",
             "ticks": "outside"
            },
            "colorscale": [
             [
              0,
              "#440154"
             ],
             [
              0.1111111111111111,
              "#482878"
             ],
             [
              0.2222222222222222,
              "#3e4989"
             ],
             [
              0.3333333333333333,
              "#31688e"
             ],
             [
              0.4444444444444444,
              "#26828e"
             ],
             [
              0.5555555555555556,
              "#1f9e89"
             ],
             [
              0.6666666666666666,
              "#35b779"
             ],
             [
              0.7777777777777778,
              "#6ece58"
             ],
             [
              0.8888888888888888,
              "#b5de2b"
             ],
             [
              1,
              "#fde725"
             ]
            ],
            "type": "heatmap"
           }
          ],
          "heatmapgl": [
           {
            "colorbar": {
             "outlinewidth": 1,
             "tickcolor": "rgb(36,36,36)",
             "ticks": "outside"
            },
            "colorscale": [
             [
              0,
              "#440154"
             ],
             [
              0.1111111111111111,
              "#482878"
             ],
             [
              0.2222222222222222,
              "#3e4989"
             ],
             [
              0.3333333333333333,
              "#31688e"
             ],
             [
              0.4444444444444444,
              "#26828e"
             ],
             [
              0.5555555555555556,
              "#1f9e89"
             ],
             [
              0.6666666666666666,
              "#35b779"
             ],
             [
              0.7777777777777778,
              "#6ece58"
             ],
             [
              0.8888888888888888,
              "#b5de2b"
             ],
             [
              1,
              "#fde725"
             ]
            ],
            "type": "heatmapgl"
           }
          ],
          "histogram": [
           {
            "marker": {
             "line": {
              "color": "white",
              "width": 0.6
             }
            },
            "type": "histogram"
           }
          ],
          "histogram2d": [
           {
            "colorbar": {
             "outlinewidth": 1,
             "tickcolor": "rgb(36,36,36)",
             "ticks": "outside"
            },
            "colorscale": [
             [
              0,
              "#440154"
             ],
             [
              0.1111111111111111,
              "#482878"
             ],
             [
              0.2222222222222222,
              "#3e4989"
             ],
             [
              0.3333333333333333,
              "#31688e"
             ],
             [
              0.4444444444444444,
              "#26828e"
             ],
             [
              0.5555555555555556,
              "#1f9e89"
             ],
             [
              0.6666666666666666,
              "#35b779"
             ],
             [
              0.7777777777777778,
              "#6ece58"
             ],
             [
              0.8888888888888888,
              "#b5de2b"
             ],
             [
              1,
              "#fde725"
             ]
            ],
            "type": "histogram2d"
           }
          ],
          "histogram2dcontour": [
           {
            "colorbar": {
             "outlinewidth": 1,
             "tickcolor": "rgb(36,36,36)",
             "ticks": "outside"
            },
            "colorscale": [
             [
              0,
              "#440154"
             ],
             [
              0.1111111111111111,
              "#482878"
             ],
             [
              0.2222222222222222,
              "#3e4989"
             ],
             [
              0.3333333333333333,
              "#31688e"
             ],
             [
              0.4444444444444444,
              "#26828e"
             ],
             [
              0.5555555555555556,
              "#1f9e89"
             ],
             [
              0.6666666666666666,
              "#35b779"
             ],
             [
              0.7777777777777778,
              "#6ece58"
             ],
             [
              0.8888888888888888,
              "#b5de2b"
             ],
             [
              1,
              "#fde725"
             ]
            ],
            "type": "histogram2dcontour"
           }
          ],
          "mesh3d": [
           {
            "colorbar": {
             "outlinewidth": 1,
             "tickcolor": "rgb(36,36,36)",
             "ticks": "outside"
            },
            "type": "mesh3d"
           }
          ],
          "parcoords": [
           {
            "line": {
             "colorbar": {
              "outlinewidth": 1,
              "tickcolor": "rgb(36,36,36)",
              "ticks": "outside"
             }
            },
            "type": "parcoords"
           }
          ],
          "pie": [
           {
            "automargin": true,
            "type": "pie"
           }
          ],
          "scatter": [
           {
            "fillpattern": {
             "fillmode": "overlay",
             "size": 10,
             "solidity": 0.2
            },
            "type": "scatter"
           }
          ],
          "scatter3d": [
           {
            "line": {
             "colorbar": {
              "outlinewidth": 1,
              "tickcolor": "rgb(36,36,36)",
              "ticks": "outside"
             }
            },
            "marker": {
             "colorbar": {
              "outlinewidth": 1,
              "tickcolor": "rgb(36,36,36)",
              "ticks": "outside"
             }
            },
            "type": "scatter3d"
           }
          ],
          "scattercarpet": [
           {
            "marker": {
             "colorbar": {
              "outlinewidth": 1,
              "tickcolor": "rgb(36,36,36)",
              "ticks": "outside"
             }
            },
            "type": "scattercarpet"
           }
          ],
          "scattergeo": [
           {
            "marker": {
             "colorbar": {
              "outlinewidth": 1,
              "tickcolor": "rgb(36,36,36)",
              "ticks": "outside"
             }
            },
            "type": "scattergeo"
           }
          ],
          "scattergl": [
           {
            "marker": {
             "colorbar": {
              "outlinewidth": 1,
              "tickcolor": "rgb(36,36,36)",
              "ticks": "outside"
             }
            },
            "type": "scattergl"
           }
          ],
          "scattermapbox": [
           {
            "marker": {
             "colorbar": {
              "outlinewidth": 1,
              "tickcolor": "rgb(36,36,36)",
              "ticks": "outside"
             }
            },
            "type": "scattermapbox"
           }
          ],
          "scatterpolar": [
           {
            "marker": {
             "colorbar": {
              "outlinewidth": 1,
              "tickcolor": "rgb(36,36,36)",
              "ticks": "outside"
             }
            },
            "type": "scatterpolar"
           }
          ],
          "scatterpolargl": [
           {
            "marker": {
             "colorbar": {
              "outlinewidth": 1,
              "tickcolor": "rgb(36,36,36)",
              "ticks": "outside"
             }
            },
            "type": "scatterpolargl"
           }
          ],
          "scatterternary": [
           {
            "marker": {
             "colorbar": {
              "outlinewidth": 1,
              "tickcolor": "rgb(36,36,36)",
              "ticks": "outside"
             }
            },
            "type": "scatterternary"
           }
          ],
          "surface": [
           {
            "colorbar": {
             "outlinewidth": 1,
             "tickcolor": "rgb(36,36,36)",
             "ticks": "outside"
            },
            "colorscale": [
             [
              0,
              "#440154"
             ],
             [
              0.1111111111111111,
              "#482878"
             ],
             [
              0.2222222222222222,
              "#3e4989"
             ],
             [
              0.3333333333333333,
              "#31688e"
             ],
             [
              0.4444444444444444,
              "#26828e"
             ],
             [
              0.5555555555555556,
              "#1f9e89"
             ],
             [
              0.6666666666666666,
              "#35b779"
             ],
             [
              0.7777777777777778,
              "#6ece58"
             ],
             [
              0.8888888888888888,
              "#b5de2b"
             ],
             [
              1,
              "#fde725"
             ]
            ],
            "type": "surface"
           }
          ],
          "table": [
           {
            "cells": {
             "fill": {
              "color": "rgb(237,237,237)"
             },
             "line": {
              "color": "white"
             }
            },
            "header": {
             "fill": {
              "color": "rgb(217,217,217)"
             },
             "line": {
              "color": "white"
             }
            },
            "type": "table"
           }
          ]
         },
         "layout": {
          "annotationdefaults": {
           "arrowhead": 0,
           "arrowwidth": 1
          },
          "autosize": true,
          "autotypenumbers": "strict",
          "coloraxis": {
           "colorbar": {
            "outlinewidth": 1,
            "tickcolor": "rgb(36,36,36)",
            "ticks": "outside"
           }
          },
          "colorscale": {
           "diverging": [
            [
             0,
             "rgb(103,0,31)"
            ],
            [
             0.1,
             "rgb(178,24,43)"
            ],
            [
             0.2,
             "rgb(214,96,77)"
            ],
            [
             0.3,
             "rgb(244,165,130)"
            ],
            [
             0.4,
             "rgb(253,219,199)"
            ],
            [
             0.5,
             "rgb(247,247,247)"
            ],
            [
             0.6,
             "rgb(209,229,240)"
            ],
            [
             0.7,
             "rgb(146,197,222)"
            ],
            [
             0.8,
             "rgb(67,147,195)"
            ],
            [
             0.9,
             "rgb(33,102,172)"
            ],
            [
             1,
             "rgb(5,48,97)"
            ]
           ],
           "sequential": [
            [
             0,
             "#440154"
            ],
            [
             0.1111111111111111,
             "#482878"
            ],
            [
             0.2222222222222222,
             "#3e4989"
            ],
            [
             0.3333333333333333,
             "#31688e"
            ],
            [
             0.4444444444444444,
             "#26828e"
            ],
            [
             0.5555555555555556,
             "#1f9e89"
            ],
            [
             0.6666666666666666,
             "#35b779"
            ],
            [
             0.7777777777777778,
             "#6ece58"
            ],
            [
             0.8888888888888888,
             "#b5de2b"
            ],
            [
             1,
             "#fde725"
            ]
           ],
           "sequentialminus": [
            [
             0,
             "#440154"
            ],
            [
             0.1111111111111111,
             "#482878"
            ],
            [
             0.2222222222222222,
             "#3e4989"
            ],
            [
             0.3333333333333333,
             "#31688e"
            ],
            [
             0.4444444444444444,
             "#26828e"
            ],
            [
             0.5555555555555556,
             "#1f9e89"
            ],
            [
             0.6666666666666666,
             "#35b779"
            ],
            [
             0.7777777777777778,
             "#6ece58"
            ],
            [
             0.8888888888888888,
             "#b5de2b"
            ],
            [
             1,
             "#fde725"
            ]
           ]
          },
          "colorway": [
           "#1F77B4",
           "#FF7F0E",
           "#2CA02C",
           "#D62728",
           "#9467BD",
           "#8C564B",
           "#E377C2",
           "#7F7F7F",
           "#BCBD22",
           "#17BECF"
          ],
          "font": {
           "color": "rgb(36,36,36)"
          },
          "geo": {
           "bgcolor": "white",
           "lakecolor": "white",
           "landcolor": "white",
           "showlakes": true,
           "showland": true,
           "subunitcolor": "white"
          },
          "height": 400,
          "hoverlabel": {
           "align": "left"
          },
          "hovermode": "closest",
          "mapbox": {
           "style": "light"
          },
          "margin": {
           "b": 30,
           "l": 30,
           "r": 30,
           "t": 30
          },
          "paper_bgcolor": "white",
          "plot_bgcolor": "white",
          "polar": {
           "angularaxis": {
            "gridcolor": "rgb(232,232,232)",
            "linecolor": "rgb(36,36,36)",
            "showgrid": false,
            "showline": true,
            "ticks": "outside"
           },
           "bgcolor": "white",
           "radialaxis": {
            "gridcolor": "rgb(232,232,232)",
            "linecolor": "rgb(36,36,36)",
            "showgrid": false,
            "showline": true,
            "ticks": "outside"
           }
          },
          "scene": {
           "xaxis": {
            "backgroundcolor": "white",
            "gridcolor": "rgb(232,232,232)",
            "gridwidth": 2,
            "linecolor": "rgb(36,36,36)",
            "showbackground": true,
            "showgrid": false,
            "showline": true,
            "ticks": "outside",
            "zeroline": false,
            "zerolinecolor": "rgb(36,36,36)"
           },
           "yaxis": {
            "backgroundcolor": "white",
            "gridcolor": "rgb(232,232,232)",
            "gridwidth": 2,
            "linecolor": "rgb(36,36,36)",
            "showbackground": true,
            "showgrid": false,
            "showline": true,
            "ticks": "outside",
            "zeroline": false,
            "zerolinecolor": "rgb(36,36,36)"
           },
           "zaxis": {
            "backgroundcolor": "white",
            "gridcolor": "rgb(232,232,232)",
            "gridwidth": 2,
            "linecolor": "rgb(36,36,36)",
            "showbackground": true,
            "showgrid": false,
            "showline": true,
            "ticks": "outside",
            "zeroline": false,
            "zerolinecolor": "rgb(36,36,36)"
           }
          },
          "shapedefaults": {
           "fillcolor": "black",
           "line": {
            "width": 0
           },
           "opacity": 0.3
          },
          "ternary": {
           "aaxis": {
            "gridcolor": "rgb(232,232,232)",
            "linecolor": "rgb(36,36,36)",
            "showgrid": false,
            "showline": true,
            "ticks": "outside"
           },
           "baxis": {
            "gridcolor": "rgb(232,232,232)",
            "linecolor": "rgb(36,36,36)",
            "showgrid": false,
            "showline": true,
            "ticks": "outside"
           },
           "bgcolor": "white",
           "caxis": {
            "gridcolor": "rgb(232,232,232)",
            "linecolor": "rgb(36,36,36)",
            "showgrid": false,
            "showline": true,
            "ticks": "outside"
           }
          },
          "title": {
           "x": 0.5,
           "xanchor": "center"
          },
          "width": 600,
          "xaxis": {
           "automargin": true,
           "gridcolor": "rgb(232,232,232)",
           "linecolor": "rgb(36,36,36)",
           "showgrid": true,
           "showline": true,
           "ticks": "outside",
           "title": {
            "standoff": 15
           },
           "zeroline": false,
           "zerolinecolor": "rgb(36,36,36)"
          },
          "yaxis": {
           "automargin": true,
           "gridcolor": "rgb(232,232,232)",
           "linecolor": "rgb(36,36,36)",
           "showgrid": true,
           "showline": true,
           "ticks": "outside",
           "title": {
            "standoff": 15
           },
           "zeroline": false,
           "zerolinecolor": "rgb(36,36,36)"
          }
         }
        },
        "title": {
         "text": "Distribution of Outage Durations"
        },
        "xaxis": {
         "anchor": "y",
         "domain": [
          0,
          1
         ],
         "title": {
          "text": "OUTAGE.DURATION"
         }
        },
        "yaxis": {
         "anchor": "x",
         "domain": [
          0,
          1
         ],
         "title": {
          "text": "count"
         }
        }
       }
      }
     },
     "metadata": {},
     "output_type": "display_data"
    }
   ],
   "source": [
    "fig = px.histogram(\n",
    "    outages,\n",
    "    x=\"OUTAGE.DURATION\",\n",
    "    nbins=100,  # You can adjust the number of bins\n",
    "    title=\"Distribution of Outage Durations\"\n",
    ")\n",
    "\n",
    "fig.show()"
   ]
  },
  {
   "cell_type": "markdown",
   "metadata": {},
   "source": [
    "It appears that most power outages last a shorter amount of time, with a few more signifcant ones sprinkled in. It's important to keep in mind that this distribution is asymmetrical when we work with this later."
   ]
  },
  {
   "cell_type": "code",
   "execution_count": 11,
   "metadata": {},
   "outputs": [
    {
     "data": {
      "application/vnd.plotly.v1+json": {
       "config": {
        "plotlyServerURL": "https://plot.ly"
       },
       "data": [
        {
         "alignmentgroup": "True",
         "bingroup": "x",
         "hovertemplate": "MONTH=%{x}<br>count=%{y}<extra></extra>",
         "legendgroup": "",
         "marker": {
          "color": "#1F77B4",
          "pattern": {
           "shape": ""
          }
         },
         "name": "",
         "offsetgroup": "",
         "orientation": "v",
         "showlegend": false,
         "type": "histogram",
         "x": [
          7,
          10,
          6,
          7,
          11,
          7,
          6,
          3,
          6,
          6,
          9,
          5,
          6,
          6,
          6,
          4,
          2,
          1,
          7,
          4,
          1,
          7,
          4,
          6,
          4,
          5,
          2,
          6,
          4,
          1,
          3,
          1,
          4,
          6,
          3,
          1,
          4,
          1,
          1,
          1,
          11,
          8,
          1,
          4,
          7,
          1,
          1,
          9,
          8,
          10,
          4,
          1,
          3,
          6,
          8,
          1,
          8,
          1,
          6,
          10,
          6,
          5,
          9,
          11,
          7,
          2,
          7,
          8,
          4,
          5,
          6,
          4,
          3,
          4,
          12,
          11,
          7,
          10,
          6,
          6,
          6,
          11,
          11,
          7,
          2,
          1,
          12,
          10,
          4,
          5,
          8,
          7,
          12,
          7,
          12,
          6,
          9,
          11,
          10,
          1,
          10,
          12,
          9,
          4,
          2,
          5,
          8,
          8,
          3,
          6,
          3,
          7,
          4,
          12,
          1,
          8,
          9,
          7,
          12,
          6,
          4,
          5,
          6,
          9,
          6,
          7,
          5,
          12,
          5,
          11,
          7,
          12,
          6,
          4,
          7,
          10,
          8,
          8,
          6,
          6,
          11,
          7,
          3,
          8,
          7,
          12,
          5,
          7,
          7,
          1,
          9,
          6,
          7,
          9,
          8,
          7,
          2,
          2,
          7,
          8,
          2,
          1,
          11,
          4,
          5,
          6,
          4,
          6,
          6,
          8,
          9,
          7,
          7,
          5,
          6,
          3,
          4,
          6,
          8,
          8,
          4,
          5,
          9,
          3,
          8,
          4,
          3,
          9,
          2,
          10,
          2,
          12,
          2,
          10,
          9,
          5,
          8,
          1,
          8,
          4,
          2,
          7,
          7,
          12,
          11,
          11,
          3,
          7,
          4,
          8,
          10,
          8,
          6,
          5,
          2,
          9,
          6,
          3,
          2,
          4,
          6,
          12,
          4,
          4,
          7,
          4,
          2,
          6,
          9,
          9,
          3,
          7,
          6,
          4,
          6,
          4,
          1,
          7,
          4,
          8,
          2,
          8,
          3,
          3,
          10,
          8,
          5,
          5,
          9,
          4,
          5,
          6,
          6,
          12,
          9,
          1,
          6,
          7,
          4,
          3,
          8,
          4,
          5,
          6,
          9,
          5,
          8,
          1,
          7,
          3,
          5,
          3,
          12,
          6,
          1,
          7,
          11,
          11,
          5,
          1,
          12,
          6,
          5,
          11,
          11,
          7,
          10,
          11,
          5,
          10,
          7,
          1,
          8,
          6,
          4,
          6,
          5,
          5,
          9,
          7,
          4,
          5,
          8,
          11,
          6,
          12,
          1,
          6,
          7,
          6,
          1,
          6,
          12,
          8,
          7,
          4,
          6,
          5,
          5,
          5,
          6,
          8,
          6,
          10,
          7,
          11,
          10,
          6,
          6,
          6,
          6,
          6,
          8,
          7,
          7,
          7,
          5,
          6,
          6,
          7,
          8,
          4,
          8,
          8,
          7,
          3,
          12,
          7,
          8,
          11,
          8,
          1,
          6,
          8,
          10,
          7,
          6,
          7,
          2,
          6,
          7,
          5,
          2,
          12,
          12,
          1,
          8,
          8,
          4,
          4,
          5,
          12,
          1,
          11,
          9,
          1,
          7,
          12,
          1,
          9,
          11,
          12,
          11,
          8,
          3,
          4,
          9,
          3,
          7,
          2,
          2,
          4,
          4,
          4,
          12,
          10,
          1,
          8,
          11,
          2,
          2,
          8,
          9,
          9,
          10,
          12,
          4,
          6,
          8,
          12,
          5,
          7,
          12,
          6,
          9,
          4,
          12,
          2,
          12,
          7,
          11,
          12,
          5,
          4,
          8,
          8,
          5,
          6,
          2,
          2,
          12,
          7,
          7,
          8,
          7,
          12,
          5,
          1,
          6,
          2,
          12,
          12,
          7,
          2,
          2,
          3,
          6,
          7,
          6,
          1,
          2,
          6,
          12,
          2,
          7,
          1,
          10,
          3,
          8,
          11,
          2,
          1,
          7,
          9,
          7,
          10,
          9,
          1,
          6,
          6,
          6,
          5,
          3,
          10,
          11,
          8,
          6,
          9,
          6,
          4,
          6,
          4,
          3,
          8,
          2,
          7,
          8,
          6,
          4,
          7,
          7,
          10,
          4,
          5,
          9,
          2,
          10,
          6,
          10,
          9,
          6,
          9,
          7,
          6,
          8,
          1,
          1,
          9,
          12,
          7,
          10,
          7,
          6,
          1,
          2,
          10,
          9,
          2,
          7,
          9,
          3,
          8,
          7,
          9,
          2,
          7,
          8,
          7,
          2,
          7,
          5,
          2,
          3,
          1,
          10,
          12,
          8,
          7,
          12,
          10,
          10,
          10,
          10,
          6,
          2,
          7,
          2,
          8,
          5,
          6,
          9,
          2,
          1,
          1,
          2,
          9,
          1,
          10,
          1,
          4,
          5,
          10,
          7,
          1,
          12,
          4,
          7,
          2,
          12,
          4,
          6,
          2,
          2,
          4,
          8,
          9,
          3,
          4,
          7,
          7,
          7,
          2,
          5,
          8,
          5,
          5,
          8,
          11,
          5,
          3,
          9,
          1,
          7,
          6,
          8,
          7,
          2,
          1,
          7,
          8,
          12,
          4,
          7,
          1,
          7,
          4,
          7,
          5,
          2,
          6,
          9,
          12,
          2,
          9,
          7,
          6,
          12,
          4,
          10,
          1,
          5,
          9,
          6,
          4,
          1,
          2,
          6,
          7,
          2,
          12,
          2,
          7,
          7,
          2,
          8,
          1,
          8,
          5,
          2,
          5,
          9,
          3,
          6,
          12,
          9,
          9,
          8,
          3,
          10,
          6,
          7,
          12,
          1,
          8,
          9,
          9,
          6,
          3,
          6,
          9,
          8,
          10,
          5,
          7,
          6,
          12,
          9,
          8,
          6,
          1,
          2,
          6,
          1,
          10,
          6,
          6,
          10,
          3,
          7,
          8,
          2,
          10,
          10,
          3,
          8,
          6,
          1,
          2,
          1,
          1,
          1,
          1,
          3,
          12,
          3,
          4,
          8,
          2,
          12,
          12,
          2,
          7,
          1,
          6,
          12,
          5,
          8,
          8,
          1,
          12,
          5,
          10,
          2,
          8,
          8,
          9,
          1,
          2,
          1,
          6,
          6,
          8,
          12,
          5,
          1,
          1,
          1,
          8,
          12,
          5,
          5,
          4,
          5,
          5,
          2,
          1,
          7,
          1,
          4,
          2,
          8,
          10,
          7,
          1,
          6,
          1,
          3,
          2,
          1,
          3,
          4,
          3,
          2,
          6,
          3,
          6,
          6,
          4,
          10,
          10,
          8,
          5,
          6,
          10,
          12,
          7,
          5,
          5,
          1,
          7,
          8,
          12,
          11,
          5,
          2,
          7,
          3,
          12,
          5,
          1,
          1,
          3,
          6,
          8,
          8,
          7,
          10,
          6,
          8,
          3,
          7,
          2,
          5,
          2,
          2,
          5,
          8,
          6,
          11,
          1,
          8,
          6,
          8,
          7,
          7,
          9,
          6,
          9,
          10,
          8,
          12,
          10,
          10,
          8,
          3,
          10,
          2,
          7,
          6,
          2,
          8,
          7,
          6,
          8,
          8,
          8,
          10,
          8,
          5,
          8,
          7,
          6,
          1,
          7,
          8,
          4,
          4,
          6,
          10,
          9,
          6,
          7,
          9,
          9,
          9,
          6,
          8,
          8,
          5,
          6,
          7,
          5,
          4,
          1,
          9,
          8,
          4,
          4,
          3,
          8,
          8,
          9,
          2,
          8,
          4,
          8,
          3,
          10,
          2,
          5,
          5,
          8,
          4,
          7,
          1,
          8,
          5,
          2,
          1,
          9,
          9,
          8,
          6,
          9,
          8,
          10,
          2,
          2,
          9,
          8,
          9,
          6,
          9,
          9,
          10,
          9,
          8,
          8,
          8,
          9,
          3,
          1,
          12,
          9,
          5,
          5,
          10,
          2,
          4,
          1,
          7,
          7,
          8,
          9,
          8,
          6,
          7,
          2,
          3,
          9,
          7,
          9,
          11,
          7,
          9,
          7,
          8,
          2,
          11,
          1,
          3,
          9,
          12,
          5,
          3,
          2,
          12,
          2,
          10,
          6,
          1,
          10,
          6,
          2,
          6,
          6,
          4,
          4,
          3,
          10,
          10,
          3,
          5,
          8,
          1,
          1,
          11,
          4,
          8,
          3,
          7,
          4,
          2,
          2,
          12,
          7,
          7,
          2,
          4,
          2,
          5,
          2,
          8,
          7,
          8,
          6,
          8,
          6,
          4,
          11,
          3,
          1,
          1,
          2,
          5,
          10,
          12,
          7,
          12,
          7,
          12,
          3,
          1,
          2,
          10,
          12,
          1,
          4,
          12,
          10,
          12,
          10,
          10,
          7,
          5,
          2,
          12,
          8,
          11,
          6,
          12,
          10,
          7,
          7,
          6,
          8,
          3,
          11,
          12,
          7,
          4,
          7,
          12,
          12,
          3,
          10,
          7,
          7,
          8,
          7,
          3,
          11,
          6,
          9,
          6,
          3,
          2,
          10,
          8,
          6,
          9,
          6,
          5,
          7,
          3,
          12,
          7,
          3,
          10,
          12,
          6,
          5,
          10,
          7,
          10,
          5,
          12,
          5,
          10,
          10,
          1,
          12,
          3,
          10,
          12,
          5,
          4,
          2,
          2,
          1,
          12,
          6,
          10,
          12,
          11,
          7,
          3,
          7,
          4,
          12,
          9,
          11,
          6,
          2,
          2,
          4,
          11,
          7,
          10,
          7,
          2,
          12,
          11,
          1,
          2,
          1,
          3,
          10,
          9,
          4,
          5,
          4,
          7,
          6,
          6,
          8,
          6,
          2,
          12,
          6,
          7,
          8,
          9,
          4,
          10,
          7,
          11,
          6,
          7,
          12,
          5,
          7,
          7,
          11,
          12,
          1,
          1,
          10,
          6,
          5,
          7,
          7,
          7,
          8,
          6,
          3,
          9,
          8,
          3,
          6,
          2,
          3,
          12,
          7,
          7,
          8,
          7,
          9,
          2,
          2,
          6,
          6,
          8,
          6,
          6,
          12,
          10,
          6,
          11,
          6,
          2,
          8,
          2,
          1,
          2,
          11,
          11,
          3,
          5,
          6,
          4,
          2,
          1,
          1,
          9,
          5,
          6,
          12,
          2,
          11,
          5,
          11,
          2,
          6,
          2,
          9,
          6,
          4,
          8,
          6,
          5,
          1,
          3,
          5,
          7,
          9,
          3,
          11,
          7,
          1,
          10,
          12,
          1,
          1,
          5,
          8,
          1,
          8,
          2,
          12,
          7,
          8,
          8,
          5,
          8,
          5,
          7,
          6,
          11,
          12,
          1,
          5,
          1,
          6,
          3,
          2,
          4,
          10,
          10,
          8,
          3,
          5,
          3,
          12,
          7,
          2,
          12,
          4,
          7,
          2,
          1,
          12,
          2,
          11,
          12,
          5,
          7,
          7,
          10,
          4,
          10,
          11,
          2,
          7,
          3,
          10,
          5,
          5,
          4,
          3,
          11,
          11,
          1,
          6,
          5,
          3,
          1,
          5,
          4,
          10,
          7,
          7,
          2,
          3,
          6,
          2,
          6,
          10,
          10,
          2,
          3,
          12,
          4,
          12,
          12,
          6,
          1,
          12,
          5,
          10,
          6,
          10,
          7,
          6,
          1,
          6,
          6,
          7,
          12,
          8,
          8
         ],
         "xaxis": "x",
         "yaxis": "y"
        }
       ],
       "layout": {
        "barmode": "relative",
        "legend": {
         "tracegroupgap": 0
        },
        "template": {
         "data": {
          "bar": [
           {
            "error_x": {
             "color": "rgb(36,36,36)"
            },
            "error_y": {
             "color": "rgb(36,36,36)"
            },
            "marker": {
             "line": {
              "color": "white",
              "width": 0.5
             },
             "pattern": {
              "fillmode": "overlay",
              "size": 10,
              "solidity": 0.2
             }
            },
            "type": "bar"
           }
          ],
          "barpolar": [
           {
            "marker": {
             "line": {
              "color": "white",
              "width": 0.5
             },
             "pattern": {
              "fillmode": "overlay",
              "size": 10,
              "solidity": 0.2
             }
            },
            "type": "barpolar"
           }
          ],
          "carpet": [
           {
            "aaxis": {
             "endlinecolor": "rgb(36,36,36)",
             "gridcolor": "white",
             "linecolor": "white",
             "minorgridcolor": "white",
             "startlinecolor": "rgb(36,36,36)"
            },
            "baxis": {
             "endlinecolor": "rgb(36,36,36)",
             "gridcolor": "white",
             "linecolor": "white",
             "minorgridcolor": "white",
             "startlinecolor": "rgb(36,36,36)"
            },
            "type": "carpet"
           }
          ],
          "choropleth": [
           {
            "colorbar": {
             "outlinewidth": 1,
             "tickcolor": "rgb(36,36,36)",
             "ticks": "outside"
            },
            "type": "choropleth"
           }
          ],
          "contour": [
           {
            "colorbar": {
             "outlinewidth": 1,
             "tickcolor": "rgb(36,36,36)",
             "ticks": "outside"
            },
            "colorscale": [
             [
              0,
              "#440154"
             ],
             [
              0.1111111111111111,
              "#482878"
             ],
             [
              0.2222222222222222,
              "#3e4989"
             ],
             [
              0.3333333333333333,
              "#31688e"
             ],
             [
              0.4444444444444444,
              "#26828e"
             ],
             [
              0.5555555555555556,
              "#1f9e89"
             ],
             [
              0.6666666666666666,
              "#35b779"
             ],
             [
              0.7777777777777778,
              "#6ece58"
             ],
             [
              0.8888888888888888,
              "#b5de2b"
             ],
             [
              1,
              "#fde725"
             ]
            ],
            "type": "contour"
           }
          ],
          "contourcarpet": [
           {
            "colorbar": {
             "outlinewidth": 1,
             "tickcolor": "rgb(36,36,36)",
             "ticks": "outside"
            },
            "type": "contourcarpet"
           }
          ],
          "heatmap": [
           {
            "colorbar": {
             "outlinewidth": 1,
             "tickcolor": "rgb(36,36,36)",
             "ticks": "outside"
            },
            "colorscale": [
             [
              0,
              "#440154"
             ],
             [
              0.1111111111111111,
              "#482878"
             ],
             [
              0.2222222222222222,
              "#3e4989"
             ],
             [
              0.3333333333333333,
              "#31688e"
             ],
             [
              0.4444444444444444,
              "#26828e"
             ],
             [
              0.5555555555555556,
              "#1f9e89"
             ],
             [
              0.6666666666666666,
              "#35b779"
             ],
             [
              0.7777777777777778,
              "#6ece58"
             ],
             [
              0.8888888888888888,
              "#b5de2b"
             ],
             [
              1,
              "#fde725"
             ]
            ],
            "type": "heatmap"
           }
          ],
          "heatmapgl": [
           {
            "colorbar": {
             "outlinewidth": 1,
             "tickcolor": "rgb(36,36,36)",
             "ticks": "outside"
            },
            "colorscale": [
             [
              0,
              "#440154"
             ],
             [
              0.1111111111111111,
              "#482878"
             ],
             [
              0.2222222222222222,
              "#3e4989"
             ],
             [
              0.3333333333333333,
              "#31688e"
             ],
             [
              0.4444444444444444,
              "#26828e"
             ],
             [
              0.5555555555555556,
              "#1f9e89"
             ],
             [
              0.6666666666666666,
              "#35b779"
             ],
             [
              0.7777777777777778,
              "#6ece58"
             ],
             [
              0.8888888888888888,
              "#b5de2b"
             ],
             [
              1,
              "#fde725"
             ]
            ],
            "type": "heatmapgl"
           }
          ],
          "histogram": [
           {
            "marker": {
             "line": {
              "color": "white",
              "width": 0.6
             }
            },
            "type": "histogram"
           }
          ],
          "histogram2d": [
           {
            "colorbar": {
             "outlinewidth": 1,
             "tickcolor": "rgb(36,36,36)",
             "ticks": "outside"
            },
            "colorscale": [
             [
              0,
              "#440154"
             ],
             [
              0.1111111111111111,
              "#482878"
             ],
             [
              0.2222222222222222,
              "#3e4989"
             ],
             [
              0.3333333333333333,
              "#31688e"
             ],
             [
              0.4444444444444444,
              "#26828e"
             ],
             [
              0.5555555555555556,
              "#1f9e89"
             ],
             [
              0.6666666666666666,
              "#35b779"
             ],
             [
              0.7777777777777778,
              "#6ece58"
             ],
             [
              0.8888888888888888,
              "#b5de2b"
             ],
             [
              1,
              "#fde725"
             ]
            ],
            "type": "histogram2d"
           }
          ],
          "histogram2dcontour": [
           {
            "colorbar": {
             "outlinewidth": 1,
             "tickcolor": "rgb(36,36,36)",
             "ticks": "outside"
            },
            "colorscale": [
             [
              0,
              "#440154"
             ],
             [
              0.1111111111111111,
              "#482878"
             ],
             [
              0.2222222222222222,
              "#3e4989"
             ],
             [
              0.3333333333333333,
              "#31688e"
             ],
             [
              0.4444444444444444,
              "#26828e"
             ],
             [
              0.5555555555555556,
              "#1f9e89"
             ],
             [
              0.6666666666666666,
              "#35b779"
             ],
             [
              0.7777777777777778,
              "#6ece58"
             ],
             [
              0.8888888888888888,
              "#b5de2b"
             ],
             [
              1,
              "#fde725"
             ]
            ],
            "type": "histogram2dcontour"
           }
          ],
          "mesh3d": [
           {
            "colorbar": {
             "outlinewidth": 1,
             "tickcolor": "rgb(36,36,36)",
             "ticks": "outside"
            },
            "type": "mesh3d"
           }
          ],
          "parcoords": [
           {
            "line": {
             "colorbar": {
              "outlinewidth": 1,
              "tickcolor": "rgb(36,36,36)",
              "ticks": "outside"
             }
            },
            "type": "parcoords"
           }
          ],
          "pie": [
           {
            "automargin": true,
            "type": "pie"
           }
          ],
          "scatter": [
           {
            "fillpattern": {
             "fillmode": "overlay",
             "size": 10,
             "solidity": 0.2
            },
            "type": "scatter"
           }
          ],
          "scatter3d": [
           {
            "line": {
             "colorbar": {
              "outlinewidth": 1,
              "tickcolor": "rgb(36,36,36)",
              "ticks": "outside"
             }
            },
            "marker": {
             "colorbar": {
              "outlinewidth": 1,
              "tickcolor": "rgb(36,36,36)",
              "ticks": "outside"
             }
            },
            "type": "scatter3d"
           }
          ],
          "scattercarpet": [
           {
            "marker": {
             "colorbar": {
              "outlinewidth": 1,
              "tickcolor": "rgb(36,36,36)",
              "ticks": "outside"
             }
            },
            "type": "scattercarpet"
           }
          ],
          "scattergeo": [
           {
            "marker": {
             "colorbar": {
              "outlinewidth": 1,
              "tickcolor": "rgb(36,36,36)",
              "ticks": "outside"
             }
            },
            "type": "scattergeo"
           }
          ],
          "scattergl": [
           {
            "marker": {
             "colorbar": {
              "outlinewidth": 1,
              "tickcolor": "rgb(36,36,36)",
              "ticks": "outside"
             }
            },
            "type": "scattergl"
           }
          ],
          "scattermapbox": [
           {
            "marker": {
             "colorbar": {
              "outlinewidth": 1,
              "tickcolor": "rgb(36,36,36)",
              "ticks": "outside"
             }
            },
            "type": "scattermapbox"
           }
          ],
          "scatterpolar": [
           {
            "marker": {
             "colorbar": {
              "outlinewidth": 1,
              "tickcolor": "rgb(36,36,36)",
              "ticks": "outside"
             }
            },
            "type": "scatterpolar"
           }
          ],
          "scatterpolargl": [
           {
            "marker": {
             "colorbar": {
              "outlinewidth": 1,
              "tickcolor": "rgb(36,36,36)",
              "ticks": "outside"
             }
            },
            "type": "scatterpolargl"
           }
          ],
          "scatterternary": [
           {
            "marker": {
             "colorbar": {
              "outlinewidth": 1,
              "tickcolor": "rgb(36,36,36)",
              "ticks": "outside"
             }
            },
            "type": "scatterternary"
           }
          ],
          "surface": [
           {
            "colorbar": {
             "outlinewidth": 1,
             "tickcolor": "rgb(36,36,36)",
             "ticks": "outside"
            },
            "colorscale": [
             [
              0,
              "#440154"
             ],
             [
              0.1111111111111111,
              "#482878"
             ],
             [
              0.2222222222222222,
              "#3e4989"
             ],
             [
              0.3333333333333333,
              "#31688e"
             ],
             [
              0.4444444444444444,
              "#26828e"
             ],
             [
              0.5555555555555556,
              "#1f9e89"
             ],
             [
              0.6666666666666666,
              "#35b779"
             ],
             [
              0.7777777777777778,
              "#6ece58"
             ],
             [
              0.8888888888888888,
              "#b5de2b"
             ],
             [
              1,
              "#fde725"
             ]
            ],
            "type": "surface"
           }
          ],
          "table": [
           {
            "cells": {
             "fill": {
              "color": "rgb(237,237,237)"
             },
             "line": {
              "color": "white"
             }
            },
            "header": {
             "fill": {
              "color": "rgb(217,217,217)"
             },
             "line": {
              "color": "white"
             }
            },
            "type": "table"
           }
          ]
         },
         "layout": {
          "annotationdefaults": {
           "arrowhead": 0,
           "arrowwidth": 1
          },
          "autosize": true,
          "autotypenumbers": "strict",
          "coloraxis": {
           "colorbar": {
            "outlinewidth": 1,
            "tickcolor": "rgb(36,36,36)",
            "ticks": "outside"
           }
          },
          "colorscale": {
           "diverging": [
            [
             0,
             "rgb(103,0,31)"
            ],
            [
             0.1,
             "rgb(178,24,43)"
            ],
            [
             0.2,
             "rgb(214,96,77)"
            ],
            [
             0.3,
             "rgb(244,165,130)"
            ],
            [
             0.4,
             "rgb(253,219,199)"
            ],
            [
             0.5,
             "rgb(247,247,247)"
            ],
            [
             0.6,
             "rgb(209,229,240)"
            ],
            [
             0.7,
             "rgb(146,197,222)"
            ],
            [
             0.8,
             "rgb(67,147,195)"
            ],
            [
             0.9,
             "rgb(33,102,172)"
            ],
            [
             1,
             "rgb(5,48,97)"
            ]
           ],
           "sequential": [
            [
             0,
             "#440154"
            ],
            [
             0.1111111111111111,
             "#482878"
            ],
            [
             0.2222222222222222,
             "#3e4989"
            ],
            [
             0.3333333333333333,
             "#31688e"
            ],
            [
             0.4444444444444444,
             "#26828e"
            ],
            [
             0.5555555555555556,
             "#1f9e89"
            ],
            [
             0.6666666666666666,
             "#35b779"
            ],
            [
             0.7777777777777778,
             "#6ece58"
            ],
            [
             0.8888888888888888,
             "#b5de2b"
            ],
            [
             1,
             "#fde725"
            ]
           ],
           "sequentialminus": [
            [
             0,
             "#440154"
            ],
            [
             0.1111111111111111,
             "#482878"
            ],
            [
             0.2222222222222222,
             "#3e4989"
            ],
            [
             0.3333333333333333,
             "#31688e"
            ],
            [
             0.4444444444444444,
             "#26828e"
            ],
            [
             0.5555555555555556,
             "#1f9e89"
            ],
            [
             0.6666666666666666,
             "#35b779"
            ],
            [
             0.7777777777777778,
             "#6ece58"
            ],
            [
             0.8888888888888888,
             "#b5de2b"
            ],
            [
             1,
             "#fde725"
            ]
           ]
          },
          "colorway": [
           "#1F77B4",
           "#FF7F0E",
           "#2CA02C",
           "#D62728",
           "#9467BD",
           "#8C564B",
           "#E377C2",
           "#7F7F7F",
           "#BCBD22",
           "#17BECF"
          ],
          "font": {
           "color": "rgb(36,36,36)"
          },
          "geo": {
           "bgcolor": "white",
           "lakecolor": "white",
           "landcolor": "white",
           "showlakes": true,
           "showland": true,
           "subunitcolor": "white"
          },
          "height": 400,
          "hoverlabel": {
           "align": "left"
          },
          "hovermode": "closest",
          "mapbox": {
           "style": "light"
          },
          "margin": {
           "b": 30,
           "l": 30,
           "r": 30,
           "t": 30
          },
          "paper_bgcolor": "white",
          "plot_bgcolor": "white",
          "polar": {
           "angularaxis": {
            "gridcolor": "rgb(232,232,232)",
            "linecolor": "rgb(36,36,36)",
            "showgrid": false,
            "showline": true,
            "ticks": "outside"
           },
           "bgcolor": "white",
           "radialaxis": {
            "gridcolor": "rgb(232,232,232)",
            "linecolor": "rgb(36,36,36)",
            "showgrid": false,
            "showline": true,
            "ticks": "outside"
           }
          },
          "scene": {
           "xaxis": {
            "backgroundcolor": "white",
            "gridcolor": "rgb(232,232,232)",
            "gridwidth": 2,
            "linecolor": "rgb(36,36,36)",
            "showbackground": true,
            "showgrid": false,
            "showline": true,
            "ticks": "outside",
            "zeroline": false,
            "zerolinecolor": "rgb(36,36,36)"
           },
           "yaxis": {
            "backgroundcolor": "white",
            "gridcolor": "rgb(232,232,232)",
            "gridwidth": 2,
            "linecolor": "rgb(36,36,36)",
            "showbackground": true,
            "showgrid": false,
            "showline": true,
            "ticks": "outside",
            "zeroline": false,
            "zerolinecolor": "rgb(36,36,36)"
           },
           "zaxis": {
            "backgroundcolor": "white",
            "gridcolor": "rgb(232,232,232)",
            "gridwidth": 2,
            "linecolor": "rgb(36,36,36)",
            "showbackground": true,
            "showgrid": false,
            "showline": true,
            "ticks": "outside",
            "zeroline": false,
            "zerolinecolor": "rgb(36,36,36)"
           }
          },
          "shapedefaults": {
           "fillcolor": "black",
           "line": {
            "width": 0
           },
           "opacity": 0.3
          },
          "ternary": {
           "aaxis": {
            "gridcolor": "rgb(232,232,232)",
            "linecolor": "rgb(36,36,36)",
            "showgrid": false,
            "showline": true,
            "ticks": "outside"
           },
           "baxis": {
            "gridcolor": "rgb(232,232,232)",
            "linecolor": "rgb(36,36,36)",
            "showgrid": false,
            "showline": true,
            "ticks": "outside"
           },
           "bgcolor": "white",
           "caxis": {
            "gridcolor": "rgb(232,232,232)",
            "linecolor": "rgb(36,36,36)",
            "showgrid": false,
            "showline": true,
            "ticks": "outside"
           }
          },
          "title": {
           "x": 0.5,
           "xanchor": "center"
          },
          "width": 600,
          "xaxis": {
           "automargin": true,
           "gridcolor": "rgb(232,232,232)",
           "linecolor": "rgb(36,36,36)",
           "showgrid": true,
           "showline": true,
           "ticks": "outside",
           "title": {
            "standoff": 15
           },
           "zeroline": false,
           "zerolinecolor": "rgb(36,36,36)"
          },
          "yaxis": {
           "automargin": true,
           "gridcolor": "rgb(232,232,232)",
           "linecolor": "rgb(36,36,36)",
           "showgrid": true,
           "showline": true,
           "ticks": "outside",
           "title": {
            "standoff": 15
           },
           "zeroline": false,
           "zerolinecolor": "rgb(36,36,36)"
          }
         }
        },
        "title": {
         "text": "Distribution of when outages occur"
        },
        "xaxis": {
         "anchor": "y",
         "domain": [
          0,
          1
         ],
         "title": {
          "text": "MONTH"
         }
        },
        "yaxis": {
         "anchor": "x",
         "domain": [
          0,
          1
         ],
         "title": {
          "text": "count"
         }
        }
       }
      }
     },
     "metadata": {},
     "output_type": "display_data"
    }
   ],
   "source": [
    "outages.plot(kind='hist', x='MONTH', title='Distribution of when outages occur')"
   ]
  },
  {
   "cell_type": "code",
   "execution_count": 12,
   "metadata": {},
   "outputs": [
    {
     "data": {
      "application/vnd.plotly.v1+json": {
       "config": {
        "plotlyServerURL": "https://plot.ly"
       },
       "data": [
        {
         "alignmentgroup": "True",
         "hovertemplate": "variable=count<br>POSTAL.CODE=%{x}<br>value=%{y}<extra></extra>",
         "legendgroup": "count",
         "marker": {
          "color": "#1F77B4",
          "pattern": {
           "shape": ""
          }
         },
         "name": "count",
         "offsetgroup": "count",
         "orientation": "v",
         "showlegend": true,
         "textposition": "auto",
         "type": "bar",
         "x": [
          "CA",
          "TX",
          "MI",
          "WA",
          "NY",
          "PA",
          "FL",
          "IL",
          "MD",
          "LA",
          "IN",
          "NC",
          "OH",
          "VA",
          "UT",
          "NJ",
          "TN",
          "AR",
          "AZ",
          "OK",
          "OR",
          "WI",
          "GA",
          "ME",
          "MA",
          "MO",
          "MN",
          "CO",
          "CT",
          "KY",
          "NH",
          "DE",
          "DC",
          "IA",
          "SC",
          "NM",
          "KS",
          "ID",
          "VT",
          "AL",
          "NV",
          "HI",
          "NE",
          "WY",
          "MT",
          "MS",
          "WV",
          "SD",
          "ND"
         ],
         "xaxis": "x",
         "y": [
          190,
          118,
          94,
          65,
          63,
          55,
          45,
          43,
          42,
          38,
          38,
          38,
          36,
          35,
          27,
          26,
          26,
          24,
          21,
          21,
          20,
          19,
          17,
          14,
          14,
          14,
          13,
          13,
          13,
          12,
          12,
          10,
          10,
          8,
          8,
          7,
          7,
          6,
          5,
          5,
          5,
          5,
          4,
          3,
          3,
          3,
          3,
          2,
          1
         ],
         "yaxis": "y"
        }
       ],
       "layout": {
        "barmode": "relative",
        "legend": {
         "title": {
          "text": "variable"
         },
         "tracegroupgap": 0
        },
        "template": {
         "data": {
          "bar": [
           {
            "error_x": {
             "color": "rgb(36,36,36)"
            },
            "error_y": {
             "color": "rgb(36,36,36)"
            },
            "marker": {
             "line": {
              "color": "white",
              "width": 0.5
             },
             "pattern": {
              "fillmode": "overlay",
              "size": 10,
              "solidity": 0.2
             }
            },
            "type": "bar"
           }
          ],
          "barpolar": [
           {
            "marker": {
             "line": {
              "color": "white",
              "width": 0.5
             },
             "pattern": {
              "fillmode": "overlay",
              "size": 10,
              "solidity": 0.2
             }
            },
            "type": "barpolar"
           }
          ],
          "carpet": [
           {
            "aaxis": {
             "endlinecolor": "rgb(36,36,36)",
             "gridcolor": "white",
             "linecolor": "white",
             "minorgridcolor": "white",
             "startlinecolor": "rgb(36,36,36)"
            },
            "baxis": {
             "endlinecolor": "rgb(36,36,36)",
             "gridcolor": "white",
             "linecolor": "white",
             "minorgridcolor": "white",
             "startlinecolor": "rgb(36,36,36)"
            },
            "type": "carpet"
           }
          ],
          "choropleth": [
           {
            "colorbar": {
             "outlinewidth": 1,
             "tickcolor": "rgb(36,36,36)",
             "ticks": "outside"
            },
            "type": "choropleth"
           }
          ],
          "contour": [
           {
            "colorbar": {
             "outlinewidth": 1,
             "tickcolor": "rgb(36,36,36)",
             "ticks": "outside"
            },
            "colorscale": [
             [
              0,
              "#440154"
             ],
             [
              0.1111111111111111,
              "#482878"
             ],
             [
              0.2222222222222222,
              "#3e4989"
             ],
             [
              0.3333333333333333,
              "#31688e"
             ],
             [
              0.4444444444444444,
              "#26828e"
             ],
             [
              0.5555555555555556,
              "#1f9e89"
             ],
             [
              0.6666666666666666,
              "#35b779"
             ],
             [
              0.7777777777777778,
              "#6ece58"
             ],
             [
              0.8888888888888888,
              "#b5de2b"
             ],
             [
              1,
              "#fde725"
             ]
            ],
            "type": "contour"
           }
          ],
          "contourcarpet": [
           {
            "colorbar": {
             "outlinewidth": 1,
             "tickcolor": "rgb(36,36,36)",
             "ticks": "outside"
            },
            "type": "contourcarpet"
           }
          ],
          "heatmap": [
           {
            "colorbar": {
             "outlinewidth": 1,
             "tickcolor": "rgb(36,36,36)",
             "ticks": "outside"
            },
            "colorscale": [
             [
              0,
              "#440154"
             ],
             [
              0.1111111111111111,
              "#482878"
             ],
             [
              0.2222222222222222,
              "#3e4989"
             ],
             [
              0.3333333333333333,
              "#31688e"
             ],
             [
              0.4444444444444444,
              "#26828e"
             ],
             [
              0.5555555555555556,
              "#1f9e89"
             ],
             [
              0.6666666666666666,
              "#35b779"
             ],
             [
              0.7777777777777778,
              "#6ece58"
             ],
             [
              0.8888888888888888,
              "#b5de2b"
             ],
             [
              1,
              "#fde725"
             ]
            ],
            "type": "heatmap"
           }
          ],
          "heatmapgl": [
           {
            "colorbar": {
             "outlinewidth": 1,
             "tickcolor": "rgb(36,36,36)",
             "ticks": "outside"
            },
            "colorscale": [
             [
              0,
              "#440154"
             ],
             [
              0.1111111111111111,
              "#482878"
             ],
             [
              0.2222222222222222,
              "#3e4989"
             ],
             [
              0.3333333333333333,
              "#31688e"
             ],
             [
              0.4444444444444444,
              "#26828e"
             ],
             [
              0.5555555555555556,
              "#1f9e89"
             ],
             [
              0.6666666666666666,
              "#35b779"
             ],
             [
              0.7777777777777778,
              "#6ece58"
             ],
             [
              0.8888888888888888,
              "#b5de2b"
             ],
             [
              1,
              "#fde725"
             ]
            ],
            "type": "heatmapgl"
           }
          ],
          "histogram": [
           {
            "marker": {
             "line": {
              "color": "white",
              "width": 0.6
             }
            },
            "type": "histogram"
           }
          ],
          "histogram2d": [
           {
            "colorbar": {
             "outlinewidth": 1,
             "tickcolor": "rgb(36,36,36)",
             "ticks": "outside"
            },
            "colorscale": [
             [
              0,
              "#440154"
             ],
             [
              0.1111111111111111,
              "#482878"
             ],
             [
              0.2222222222222222,
              "#3e4989"
             ],
             [
              0.3333333333333333,
              "#31688e"
             ],
             [
              0.4444444444444444,
              "#26828e"
             ],
             [
              0.5555555555555556,
              "#1f9e89"
             ],
             [
              0.6666666666666666,
              "#35b779"
             ],
             [
              0.7777777777777778,
              "#6ece58"
             ],
             [
              0.8888888888888888,
              "#b5de2b"
             ],
             [
              1,
              "#fde725"
             ]
            ],
            "type": "histogram2d"
           }
          ],
          "histogram2dcontour": [
           {
            "colorbar": {
             "outlinewidth": 1,
             "tickcolor": "rgb(36,36,36)",
             "ticks": "outside"
            },
            "colorscale": [
             [
              0,
              "#440154"
             ],
             [
              0.1111111111111111,
              "#482878"
             ],
             [
              0.2222222222222222,
              "#3e4989"
             ],
             [
              0.3333333333333333,
              "#31688e"
             ],
             [
              0.4444444444444444,
              "#26828e"
             ],
             [
              0.5555555555555556,
              "#1f9e89"
             ],
             [
              0.6666666666666666,
              "#35b779"
             ],
             [
              0.7777777777777778,
              "#6ece58"
             ],
             [
              0.8888888888888888,
              "#b5de2b"
             ],
             [
              1,
              "#fde725"
             ]
            ],
            "type": "histogram2dcontour"
           }
          ],
          "mesh3d": [
           {
            "colorbar": {
             "outlinewidth": 1,
             "tickcolor": "rgb(36,36,36)",
             "ticks": "outside"
            },
            "type": "mesh3d"
           }
          ],
          "parcoords": [
           {
            "line": {
             "colorbar": {
              "outlinewidth": 1,
              "tickcolor": "rgb(36,36,36)",
              "ticks": "outside"
             }
            },
            "type": "parcoords"
           }
          ],
          "pie": [
           {
            "automargin": true,
            "type": "pie"
           }
          ],
          "scatter": [
           {
            "fillpattern": {
             "fillmode": "overlay",
             "size": 10,
             "solidity": 0.2
            },
            "type": "scatter"
           }
          ],
          "scatter3d": [
           {
            "line": {
             "colorbar": {
              "outlinewidth": 1,
              "tickcolor": "rgb(36,36,36)",
              "ticks": "outside"
             }
            },
            "marker": {
             "colorbar": {
              "outlinewidth": 1,
              "tickcolor": "rgb(36,36,36)",
              "ticks": "outside"
             }
            },
            "type": "scatter3d"
           }
          ],
          "scattercarpet": [
           {
            "marker": {
             "colorbar": {
              "outlinewidth": 1,
              "tickcolor": "rgb(36,36,36)",
              "ticks": "outside"
             }
            },
            "type": "scattercarpet"
           }
          ],
          "scattergeo": [
           {
            "marker": {
             "colorbar": {
              "outlinewidth": 1,
              "tickcolor": "rgb(36,36,36)",
              "ticks": "outside"
             }
            },
            "type": "scattergeo"
           }
          ],
          "scattergl": [
           {
            "marker": {
             "colorbar": {
              "outlinewidth": 1,
              "tickcolor": "rgb(36,36,36)",
              "ticks": "outside"
             }
            },
            "type": "scattergl"
           }
          ],
          "scattermapbox": [
           {
            "marker": {
             "colorbar": {
              "outlinewidth": 1,
              "tickcolor": "rgb(36,36,36)",
              "ticks": "outside"
             }
            },
            "type": "scattermapbox"
           }
          ],
          "scatterpolar": [
           {
            "marker": {
             "colorbar": {
              "outlinewidth": 1,
              "tickcolor": "rgb(36,36,36)",
              "ticks": "outside"
             }
            },
            "type": "scatterpolar"
           }
          ],
          "scatterpolargl": [
           {
            "marker": {
             "colorbar": {
              "outlinewidth": 1,
              "tickcolor": "rgb(36,36,36)",
              "ticks": "outside"
             }
            },
            "type": "scatterpolargl"
           }
          ],
          "scatterternary": [
           {
            "marker": {
             "colorbar": {
              "outlinewidth": 1,
              "tickcolor": "rgb(36,36,36)",
              "ticks": "outside"
             }
            },
            "type": "scatterternary"
           }
          ],
          "surface": [
           {
            "colorbar": {
             "outlinewidth": 1,
             "tickcolor": "rgb(36,36,36)",
             "ticks": "outside"
            },
            "colorscale": [
             [
              0,
              "#440154"
             ],
             [
              0.1111111111111111,
              "#482878"
             ],
             [
              0.2222222222222222,
              "#3e4989"
             ],
             [
              0.3333333333333333,
              "#31688e"
             ],
             [
              0.4444444444444444,
              "#26828e"
             ],
             [
              0.5555555555555556,
              "#1f9e89"
             ],
             [
              0.6666666666666666,
              "#35b779"
             ],
             [
              0.7777777777777778,
              "#6ece58"
             ],
             [
              0.8888888888888888,
              "#b5de2b"
             ],
             [
              1,
              "#fde725"
             ]
            ],
            "type": "surface"
           }
          ],
          "table": [
           {
            "cells": {
             "fill": {
              "color": "rgb(237,237,237)"
             },
             "line": {
              "color": "white"
             }
            },
            "header": {
             "fill": {
              "color": "rgb(217,217,217)"
             },
             "line": {
              "color": "white"
             }
            },
            "type": "table"
           }
          ]
         },
         "layout": {
          "annotationdefaults": {
           "arrowhead": 0,
           "arrowwidth": 1
          },
          "autosize": true,
          "autotypenumbers": "strict",
          "coloraxis": {
           "colorbar": {
            "outlinewidth": 1,
            "tickcolor": "rgb(36,36,36)",
            "ticks": "outside"
           }
          },
          "colorscale": {
           "diverging": [
            [
             0,
             "rgb(103,0,31)"
            ],
            [
             0.1,
             "rgb(178,24,43)"
            ],
            [
             0.2,
             "rgb(214,96,77)"
            ],
            [
             0.3,
             "rgb(244,165,130)"
            ],
            [
             0.4,
             "rgb(253,219,199)"
            ],
            [
             0.5,
             "rgb(247,247,247)"
            ],
            [
             0.6,
             "rgb(209,229,240)"
            ],
            [
             0.7,
             "rgb(146,197,222)"
            ],
            [
             0.8,
             "rgb(67,147,195)"
            ],
            [
             0.9,
             "rgb(33,102,172)"
            ],
            [
             1,
             "rgb(5,48,97)"
            ]
           ],
           "sequential": [
            [
             0,
             "#440154"
            ],
            [
             0.1111111111111111,
             "#482878"
            ],
            [
             0.2222222222222222,
             "#3e4989"
            ],
            [
             0.3333333333333333,
             "#31688e"
            ],
            [
             0.4444444444444444,
             "#26828e"
            ],
            [
             0.5555555555555556,
             "#1f9e89"
            ],
            [
             0.6666666666666666,
             "#35b779"
            ],
            [
             0.7777777777777778,
             "#6ece58"
            ],
            [
             0.8888888888888888,
             "#b5de2b"
            ],
            [
             1,
             "#fde725"
            ]
           ],
           "sequentialminus": [
            [
             0,
             "#440154"
            ],
            [
             0.1111111111111111,
             "#482878"
            ],
            [
             0.2222222222222222,
             "#3e4989"
            ],
            [
             0.3333333333333333,
             "#31688e"
            ],
            [
             0.4444444444444444,
             "#26828e"
            ],
            [
             0.5555555555555556,
             "#1f9e89"
            ],
            [
             0.6666666666666666,
             "#35b779"
            ],
            [
             0.7777777777777778,
             "#6ece58"
            ],
            [
             0.8888888888888888,
             "#b5de2b"
            ],
            [
             1,
             "#fde725"
            ]
           ]
          },
          "colorway": [
           "#1F77B4",
           "#FF7F0E",
           "#2CA02C",
           "#D62728",
           "#9467BD",
           "#8C564B",
           "#E377C2",
           "#7F7F7F",
           "#BCBD22",
           "#17BECF"
          ],
          "font": {
           "color": "rgb(36,36,36)"
          },
          "geo": {
           "bgcolor": "white",
           "lakecolor": "white",
           "landcolor": "white",
           "showlakes": true,
           "showland": true,
           "subunitcolor": "white"
          },
          "height": 400,
          "hoverlabel": {
           "align": "left"
          },
          "hovermode": "closest",
          "mapbox": {
           "style": "light"
          },
          "margin": {
           "b": 30,
           "l": 30,
           "r": 30,
           "t": 30
          },
          "paper_bgcolor": "white",
          "plot_bgcolor": "white",
          "polar": {
           "angularaxis": {
            "gridcolor": "rgb(232,232,232)",
            "linecolor": "rgb(36,36,36)",
            "showgrid": false,
            "showline": true,
            "ticks": "outside"
           },
           "bgcolor": "white",
           "radialaxis": {
            "gridcolor": "rgb(232,232,232)",
            "linecolor": "rgb(36,36,36)",
            "showgrid": false,
            "showline": true,
            "ticks": "outside"
           }
          },
          "scene": {
           "xaxis": {
            "backgroundcolor": "white",
            "gridcolor": "rgb(232,232,232)",
            "gridwidth": 2,
            "linecolor": "rgb(36,36,36)",
            "showbackground": true,
            "showgrid": false,
            "showline": true,
            "ticks": "outside",
            "zeroline": false,
            "zerolinecolor": "rgb(36,36,36)"
           },
           "yaxis": {
            "backgroundcolor": "white",
            "gridcolor": "rgb(232,232,232)",
            "gridwidth": 2,
            "linecolor": "rgb(36,36,36)",
            "showbackground": true,
            "showgrid": false,
            "showline": true,
            "ticks": "outside",
            "zeroline": false,
            "zerolinecolor": "rgb(36,36,36)"
           },
           "zaxis": {
            "backgroundcolor": "white",
            "gridcolor": "rgb(232,232,232)",
            "gridwidth": 2,
            "linecolor": "rgb(36,36,36)",
            "showbackground": true,
            "showgrid": false,
            "showline": true,
            "ticks": "outside",
            "zeroline": false,
            "zerolinecolor": "rgb(36,36,36)"
           }
          },
          "shapedefaults": {
           "fillcolor": "black",
           "line": {
            "width": 0
           },
           "opacity": 0.3
          },
          "ternary": {
           "aaxis": {
            "gridcolor": "rgb(232,232,232)",
            "linecolor": "rgb(36,36,36)",
            "showgrid": false,
            "showline": true,
            "ticks": "outside"
           },
           "baxis": {
            "gridcolor": "rgb(232,232,232)",
            "linecolor": "rgb(36,36,36)",
            "showgrid": false,
            "showline": true,
            "ticks": "outside"
           },
           "bgcolor": "white",
           "caxis": {
            "gridcolor": "rgb(232,232,232)",
            "linecolor": "rgb(36,36,36)",
            "showgrid": false,
            "showline": true,
            "ticks": "outside"
           }
          },
          "title": {
           "x": 0.5,
           "xanchor": "center"
          },
          "width": 600,
          "xaxis": {
           "automargin": true,
           "gridcolor": "rgb(232,232,232)",
           "linecolor": "rgb(36,36,36)",
           "showgrid": true,
           "showline": true,
           "ticks": "outside",
           "title": {
            "standoff": 15
           },
           "zeroline": false,
           "zerolinecolor": "rgb(36,36,36)"
          },
          "yaxis": {
           "automargin": true,
           "gridcolor": "rgb(232,232,232)",
           "linecolor": "rgb(36,36,36)",
           "showgrid": true,
           "showline": true,
           "ticks": "outside",
           "title": {
            "standoff": 15
           },
           "zeroline": false,
           "zerolinecolor": "rgb(36,36,36)"
          }
         }
        },
        "title": {
         "text": "Distribution of where outages occur"
        },
        "xaxis": {
         "anchor": "y",
         "domain": [
          0,
          1
         ],
         "title": {
          "text": "POSTAL.CODE"
         }
        },
        "yaxis": {
         "anchor": "x",
         "domain": [
          0,
          1
         ],
         "title": {
          "text": "value"
         }
        }
       }
      }
     },
     "metadata": {},
     "output_type": "display_data"
    }
   ],
   "source": [
    "outages['POSTAL.CODE'].value_counts().plot(kind='bar', title='Distribution of where outages occur')"
   ]
  },
  {
   "cell_type": "code",
   "execution_count": 13,
   "metadata": {},
   "outputs": [
    {
     "data": {
      "application/vnd.plotly.v1+json": {
       "config": {
        "plotlyServerURL": "https://plot.ly"
       },
       "data": [
        {
         "alignmentgroup": "True",
         "hovertemplate": "MONTH=%{x}<br>OUTAGE.DURATION=%{y}<extra></extra>",
         "legendgroup": "",
         "marker": {
          "color": "#1F77B4"
         },
         "name": "",
         "notched": false,
         "offsetgroup": "",
         "orientation": "v",
         "showlegend": false,
         "type": "box",
         "x": [
          7,
          10,
          6,
          7,
          11,
          7,
          6,
          3,
          6,
          6,
          9,
          5,
          6,
          6,
          6,
          4,
          2,
          1,
          7,
          4,
          1,
          7,
          4,
          6,
          4,
          5,
          2,
          6,
          4,
          1,
          3,
          1,
          4,
          6,
          3,
          1,
          4,
          1,
          1,
          1,
          11,
          8,
          1,
          4,
          7,
          1,
          1,
          9,
          8,
          10,
          4,
          1,
          3,
          6,
          8,
          1,
          8,
          1,
          6,
          10,
          6,
          5,
          9,
          11,
          7,
          2,
          7,
          8,
          4,
          5,
          6,
          4,
          3,
          4,
          12,
          11,
          7,
          10,
          6,
          6,
          6,
          11,
          11,
          7,
          2,
          1,
          12,
          10,
          4,
          5,
          8,
          7,
          12,
          7,
          12,
          6,
          9,
          11,
          10,
          1,
          10,
          12,
          9,
          4,
          2,
          5,
          8,
          8,
          3,
          6,
          3,
          7,
          4,
          12,
          1,
          8,
          9,
          7,
          12,
          6,
          4,
          5,
          6,
          9,
          6,
          7,
          5,
          12,
          5,
          11,
          7,
          12,
          6,
          4,
          7,
          10,
          8,
          8,
          6,
          6,
          11,
          7,
          3,
          8,
          7,
          12,
          5,
          7,
          7,
          1,
          9,
          6,
          7,
          9,
          8,
          7,
          2,
          2,
          7,
          8,
          2,
          1,
          11,
          4,
          5,
          6,
          4,
          6,
          6,
          8,
          9,
          7,
          7,
          5,
          6,
          3,
          4,
          6,
          8,
          8,
          4,
          5,
          9,
          3,
          8,
          4,
          3,
          9,
          2,
          10,
          2,
          12,
          2,
          10,
          9,
          5,
          8,
          1,
          8,
          4,
          2,
          7,
          7,
          12,
          11,
          11,
          3,
          7,
          4,
          8,
          10,
          8,
          6,
          5,
          2,
          9,
          6,
          3,
          2,
          4,
          6,
          12,
          4,
          4,
          7,
          4,
          2,
          6,
          9,
          9,
          3,
          7,
          6,
          4,
          6,
          4,
          1,
          7,
          4,
          8,
          2,
          8,
          3,
          3,
          10,
          8,
          5,
          5,
          9,
          4,
          5,
          6,
          6,
          12,
          9,
          1,
          6,
          7,
          4,
          3,
          8,
          4,
          5,
          6,
          9,
          5,
          8,
          1,
          7,
          3,
          5,
          3,
          12,
          6,
          1,
          7,
          11,
          11,
          5,
          1,
          12,
          6,
          5,
          11,
          11,
          7,
          10,
          11,
          5,
          10,
          7,
          1,
          8,
          6,
          4,
          6,
          5,
          5,
          9,
          7,
          4,
          5,
          8,
          11,
          6,
          12,
          1,
          6,
          7,
          6,
          1,
          6,
          12,
          8,
          7,
          4,
          6,
          5,
          5,
          5,
          6,
          8,
          6,
          10,
          7,
          11,
          10,
          6,
          6,
          6,
          6,
          6,
          8,
          7,
          7,
          7,
          5,
          6,
          6,
          7,
          8,
          4,
          8,
          8,
          7,
          3,
          12,
          7,
          8,
          11,
          8,
          1,
          6,
          8,
          10,
          7,
          6,
          7,
          2,
          6,
          7,
          5,
          2,
          12,
          12,
          1,
          8,
          8,
          4,
          4,
          5,
          12,
          1,
          11,
          9,
          1,
          7,
          12,
          1,
          9,
          11,
          12,
          11,
          8,
          3,
          4,
          9,
          3,
          7,
          2,
          2,
          4,
          4,
          4,
          12,
          10,
          1,
          8,
          11,
          2,
          2,
          8,
          9,
          9,
          10,
          12,
          4,
          6,
          8,
          12,
          5,
          7,
          12,
          6,
          9,
          4,
          12,
          2,
          12,
          7,
          11,
          12,
          5,
          4,
          8,
          8,
          5,
          6,
          2,
          2,
          12,
          7,
          7,
          8,
          7,
          12,
          5,
          1,
          6,
          2,
          12,
          12,
          7,
          2,
          2,
          3,
          6,
          7,
          6,
          1,
          2,
          6,
          12,
          2,
          7,
          1,
          10,
          3,
          8,
          11,
          2,
          1,
          7,
          9,
          7,
          10,
          9,
          1,
          6,
          6,
          6,
          5,
          3,
          10,
          11,
          8,
          6,
          9,
          6,
          4,
          6,
          4,
          3,
          8,
          2,
          7,
          8,
          6,
          4,
          7,
          7,
          10,
          4,
          5,
          9,
          2,
          10,
          6,
          10,
          9,
          6,
          9,
          7,
          6,
          8,
          1,
          1,
          9,
          12,
          7,
          10,
          7,
          6,
          1,
          2,
          10,
          9,
          2,
          7,
          9,
          3,
          8,
          7,
          9,
          2,
          7,
          8,
          7,
          2,
          7,
          5,
          2,
          3,
          1,
          10,
          12,
          8,
          7,
          12,
          10,
          10,
          10,
          10,
          6,
          2,
          7,
          2,
          8,
          5,
          6,
          9,
          2,
          1,
          1,
          2,
          9,
          1,
          10,
          1,
          4,
          5,
          10,
          7,
          1,
          12,
          4,
          7,
          2,
          12,
          4,
          6,
          2,
          2,
          4,
          8,
          9,
          3,
          4,
          7,
          7,
          7,
          2,
          5,
          8,
          5,
          5,
          8,
          11,
          5,
          3,
          9,
          1,
          7,
          6,
          8,
          7,
          2,
          1,
          7,
          8,
          12,
          4,
          7,
          1,
          7,
          4,
          7,
          5,
          2,
          6,
          9,
          12,
          2,
          9,
          7,
          6,
          12,
          4,
          10,
          1,
          5,
          9,
          6,
          4,
          1,
          2,
          6,
          7,
          2,
          12,
          2,
          7,
          7,
          2,
          8,
          1,
          8,
          5,
          2,
          5,
          9,
          3,
          6,
          12,
          9,
          9,
          8,
          3,
          10,
          6,
          7,
          12,
          1,
          8,
          9,
          9,
          6,
          3,
          6,
          9,
          8,
          10,
          5,
          7,
          6,
          12,
          9,
          8,
          6,
          1,
          2,
          6,
          1,
          10,
          6,
          6,
          10,
          3,
          7,
          8,
          2,
          10,
          10,
          3,
          8,
          6,
          1,
          2,
          1,
          1,
          1,
          1,
          3,
          12,
          3,
          4,
          8,
          2,
          12,
          12,
          2,
          7,
          1,
          6,
          12,
          5,
          8,
          8,
          1,
          12,
          5,
          10,
          2,
          8,
          8,
          9,
          1,
          2,
          1,
          6,
          6,
          8,
          12,
          5,
          1,
          1,
          1,
          8,
          12,
          5,
          5,
          4,
          5,
          5,
          2,
          1,
          7,
          1,
          4,
          2,
          8,
          10,
          7,
          1,
          6,
          1,
          3,
          2,
          1,
          3,
          4,
          3,
          2,
          6,
          3,
          6,
          6,
          4,
          10,
          10,
          8,
          5,
          6,
          10,
          12,
          7,
          5,
          5,
          1,
          7,
          8,
          12,
          11,
          5,
          2,
          7,
          3,
          12,
          5,
          1,
          1,
          3,
          6,
          8,
          8,
          7,
          10,
          6,
          8,
          3,
          7,
          2,
          5,
          2,
          2,
          5,
          8,
          6,
          11,
          1,
          8,
          6,
          8,
          7,
          7,
          9,
          6,
          9,
          10,
          8,
          12,
          10,
          10,
          8,
          3,
          10,
          2,
          7,
          6,
          2,
          8,
          7,
          6,
          8,
          8,
          8,
          10,
          8,
          5,
          8,
          7,
          6,
          1,
          7,
          8,
          4,
          4,
          6,
          10,
          9,
          6,
          7,
          9,
          9,
          9,
          6,
          8,
          8,
          5,
          6,
          7,
          5,
          4,
          1,
          9,
          8,
          4,
          4,
          3,
          8,
          8,
          9,
          2,
          8,
          4,
          8,
          3,
          10,
          2,
          5,
          5,
          8,
          4,
          7,
          1,
          8,
          5,
          2,
          1,
          9,
          9,
          8,
          6,
          9,
          8,
          10,
          2,
          2,
          9,
          8,
          9,
          6,
          9,
          9,
          10,
          9,
          8,
          8,
          8,
          9,
          3,
          1,
          12,
          9,
          5,
          5,
          10,
          2,
          4,
          1,
          7,
          7,
          8,
          9,
          8,
          6,
          7,
          2,
          3,
          9,
          7,
          9,
          11,
          7,
          9,
          7,
          8,
          2,
          11,
          1,
          3,
          9,
          12,
          5,
          3,
          2,
          12,
          2,
          10,
          6,
          1,
          10,
          6,
          2,
          6,
          6,
          4,
          4,
          3,
          10,
          10,
          3,
          5,
          8,
          1,
          1,
          11,
          4,
          8,
          3,
          7,
          4,
          2,
          2,
          12,
          7,
          7,
          2,
          4,
          2,
          5,
          2,
          8,
          7,
          8,
          6,
          8,
          6,
          4,
          11,
          3,
          1,
          1,
          2,
          5,
          10,
          12,
          7,
          12,
          7,
          12,
          3,
          1,
          2,
          10,
          12,
          1,
          4,
          12,
          10,
          12,
          10,
          10,
          7,
          5,
          2,
          12,
          8,
          11,
          6,
          12,
          10,
          7,
          7,
          6,
          8,
          3,
          11,
          12,
          7,
          4,
          7,
          12,
          12,
          3,
          10,
          7,
          7,
          8,
          7,
          3,
          11,
          6,
          9,
          6,
          3,
          2,
          10,
          8,
          6,
          9,
          6,
          5,
          7,
          3,
          12,
          7,
          3,
          10,
          12,
          6,
          5,
          10,
          7,
          10,
          5,
          12,
          5,
          10,
          10,
          1,
          12,
          3,
          10,
          12,
          5,
          4,
          2,
          2,
          1,
          12,
          6,
          10,
          12,
          11,
          7,
          3,
          7,
          4,
          12,
          9,
          11,
          6,
          2,
          2,
          4,
          11,
          7,
          10,
          7,
          2,
          12,
          11,
          1,
          2,
          1,
          3,
          10,
          9,
          4,
          5,
          4,
          7,
          6,
          6,
          8,
          6,
          2,
          12,
          6,
          7,
          8,
          9,
          4,
          10,
          7,
          11,
          6,
          7,
          12,
          5,
          7,
          7,
          11,
          12,
          1,
          1,
          10,
          6,
          5,
          7,
          7,
          7,
          8,
          6,
          3,
          9,
          8,
          3,
          6,
          2,
          3,
          12,
          7,
          7,
          8,
          7,
          9,
          2,
          2,
          6,
          6,
          8,
          6,
          6,
          12,
          10,
          6,
          11,
          6,
          2,
          8,
          2,
          1,
          2,
          11,
          11,
          3,
          5,
          6,
          4,
          2,
          1,
          1,
          9,
          5,
          6,
          12,
          2,
          11,
          5,
          11,
          2,
          6,
          2,
          9,
          6,
          4,
          8,
          6,
          5,
          1,
          3,
          5,
          7,
          9,
          3,
          11,
          7,
          1,
          10,
          12,
          1,
          1,
          5,
          8,
          1,
          8,
          2,
          12,
          7,
          8,
          8,
          5,
          8,
          5,
          7,
          6,
          11,
          12,
          1,
          5,
          1,
          6,
          3,
          2,
          4,
          10,
          10,
          8,
          3,
          5,
          3,
          12,
          7,
          2,
          12,
          4,
          7,
          2,
          1,
          12,
          2,
          11,
          12,
          5,
          7,
          7,
          10,
          4,
          10,
          11,
          2,
          7,
          3,
          10,
          5,
          5,
          4,
          3,
          11,
          11,
          1,
          6,
          5,
          3,
          1,
          5,
          4,
          10,
          7,
          7,
          2,
          3,
          6,
          2,
          6,
          10,
          10,
          2,
          3,
          12,
          4,
          12,
          12,
          6,
          1,
          12,
          5,
          10,
          6,
          10,
          7,
          6,
          1,
          6,
          6,
          7,
          12,
          8,
          8
         ],
         "x0": " ",
         "xaxis": "x",
         "y": [
          3060,
          3000,
          2550,
          1740,
          1860,
          2970,
          3960,
          155,
          3621,
          7740,
          8880,
          1322,
          60,
          19,
          21,
          196,
          840,
          935,
          1260,
          619,
          150,
          762,
          660,
          2700,
          4921,
          95,
          251,
          4125,
          2550,
          1200,
          310,
          2818,
          5054,
          136,
          528,
          150,
          46,
          1920,
          32,
          135,
          3000,
          32,
          108653,
          8468,
          960,
          44,
          1605,
          4410,
          388,
          480,
          1219,
          90,
          18660,
          538,
          104,
          60,
          1272,
          60,
          1000,
          17339,
          9576,
          3090,
          6510,
          5820,
          1078,
          1513,
          4830,
          3051,
          4200,
          2085,
          5730,
          4290,
          2670,
          3540,
          3637,
          1710,
          4320,
          3915,
          3120,
          4590,
          7530,
          5034,
          8160,
          3300,
          4320,
          1770,
          9857,
          4080,
          5670,
          5700,
          1995,
          300,
          5115,
          2670,
          7650,
          4338,
          761,
          5760,
          2820,
          4110,
          3360,
          3015,
          232,
          11525,
          6420,
          46080,
          5700,
          5610,
          78377,
          270,
          4050,
          5865,
          2325,
          4170,
          4485,
          2694,
          168,
          5580,
          705,
          11850,
          3494,
          4560,
          2760,
          5760,
          8922,
          6030,
          7800,
          4242,
          3120,
          5700,
          900,
          1046,
          7620,
          3630,
          1260,
          5840,
          5790,
          2820,
          600,
          4259,
          2939,
          7080,
          3600,
          1588,
          4260,
          2700,
          200,
          8430,
          85,
          9150,
          1019,
          420,
          1140,
          7440,
          4458,
          373,
          1203,
          868,
          1455,
          206,
          1195,
          1559,
          900,
          2690,
          5115,
          5,
          189,
          2142,
          360,
          225,
          2340,
          480,
          9486,
          480,
          3000,
          300,
          3020,
          766,
          1335,
          197,
          245,
          3255,
          12180,
          1077,
          600,
          186,
          690,
          27698,
          402,
          2420,
          327,
          1860,
          220,
          455,
          318,
          757,
          847,
          410,
          215,
          5,
          570,
          12124,
          2655,
          20160,
          1440,
          600,
          39,
          181,
          1185,
          1500,
          271,
          1860,
          1200,
          2159,
          6300,
          1620,
          224,
          70,
          1697,
          95,
          2220,
          7809,
          1200,
          121,
          63,
          5595,
          557,
          240,
          3360,
          685,
          2280,
          210,
          167,
          1920,
          3569,
          3300,
          10,
          1560,
          840,
          240,
          990,
          6000,
          17865,
          1282,
          1080,
          7540,
          1320,
          1110,
          27698,
          130,
          3040,
          394,
          10140,
          20160,
          21540,
          45,
          1200,
          550,
          900,
          885,
          940,
          3050,
          1830,
          6000,
          1500,
          150,
          1955,
          2220,
          330,
          74,
          420,
          1440,
          255,
          1060,
          12240,
          5250,
          4320,
          120,
          233,
          65,
          2120,
          96,
          3,
          4320,
          65,
          2146,
          96,
          4032,
          2580,
          6,
          569,
          15950,
          200,
          1980,
          4045,
          2730,
          3314,
          7319,
          47,
          1440,
          276,
          3646,
          1130,
          2880,
          513,
          35,
          23773,
          10,
          3872,
          23187,
          12240,
          390,
          3264,
          1230,
          803,
          77,
          30,
          300,
          5,
          1450,
          2680,
          7609,
          150,
          3000,
          420,
          479,
          1680,
          2700,
          149,
          1110,
          2790,
          659,
          1320,
          1830,
          3000,
          870,
          810,
          1336,
          1695,
          360,
          360,
          120,
          3000,
          1290,
          1530,
          2370,
          1200,
          1200,
          90,
          120,
          1200,
          2761,
          720,
          1120,
          2100,
          960,
          450,
          1440,
          1020,
          2010,
          120,
          9230,
          1240,
          465,
          2460,
          1183,
          8880,
          394,
          219,
          487,
          19,
          28,
          5340,
          8940,
          467,
          1920,
          25,
          420,
          2040,
          1423,
          60,
          1620,
          3300,
          385,
          663,
          123,
          1276,
          1919,
          440,
          6690,
          717,
          1204,
          292,
          313,
          5,
          6276,
          74,
          248,
          2700,
          25,
          126,
          255,
          1207,
          245,
          476,
          2639,
          502,
          548,
          369,
          6480,
          15,
          5,
          432,
          21,
          1697,
          2615,
          9630,
          3507,
          2820,
          314,
          5855,
          22769,
          70,
          4285,
          355,
          2520,
          180,
          554,
          50,
          70,
          180,
          3842,
          35,
          189,
          49320,
          4200,
          353,
          87,
          66,
          227,
          1440,
          2700,
          49320,
          2,
          215,
          451,
          418,
          100,
          2021,
          1671,
          3938,
          4470,
          2279,
          4440,
          2760,
          1840,
          428,
          331,
          1980,
          1950,
          3037,
          1196,
          5628,
          1440,
          7700,
          2,
          12890,
          4232,
          95,
          2610,
          4320,
          17,
          113,
          2507,
          4920,
          4080,
          960,
          185,
          1320,
          1673,
          2855,
          3060,
          565,
          7298,
          5790,
          3040,
          11700,
          7987,
          304,
          4517,
          3058,
          13381,
          2865,
          152,
          380,
          9450,
          7803,
          5579,
          8979,
          4800,
          3060,
          4792,
          3894,
          1757,
          2880,
          2985,
          164,
          3232,
          2319,
          4338,
          2880,
          1714,
          90,
          59,
          4139,
          10530,
          6938,
          930,
          278,
          299,
          5320,
          2880,
          4260,
          6713,
          5160,
          1440,
          78,
          7523,
          2668,
          376,
          1324,
          6940,
          2684,
          54,
          100,
          720,
          2880,
          3189,
          2790,
          13679,
          2843,
          13488,
          1642,
          7709,
          7080,
          1440,
          1680,
          1579,
          652,
          108,
          300,
          1020,
          3570,
          6492,
          23700,
          10499,
          15180,
          120,
          60,
          113,
          204,
          31,
          57,
          13,
          2,
          11,
          283,
          871,
          1631,
          56,
          15,
          15,
          20,
          60,
          95,
          300,
          3186,
          575,
          2275,
          15,
          44,
          21,
          114,
          60,
          4920,
          4920,
          420,
          7,
          21,
          340,
          4200,
          805,
          5040,
          7430,
          5490,
          165,
          3630,
          11640,
          1590,
          3137,
          1440,
          7920,
          360,
          1440,
          1372,
          6480,
          2190,
          285,
          75,
          1843,
          11531,
          1420,
          930,
          11420,
          352,
          960,
          1733,
          3690,
          10619,
          634,
          11280,
          1440,
          180,
          1574,
          45,
          563,
          388,
          373,
          4510,
          290,
          1950,
          270,
          1355,
          1318,
          2490,
          1265,
          195,
          3120,
          3388,
          1025,
          990,
          240,
          1485,
          129,
          1528,
          1890,
          2551,
          985,
          405,
          1698,
          167,
          1460,
          182,
          4113,
          885,
          15,
          42,
          1050,
          132,
          4140,
          2880,
          11430,
          3599,
          2941,
          6090,
          1365,
          375,
          2520,
          10080,
          76,
          3720,
          333,
          353,
          11337,
          7020,
          11058,
          9360,
          3300,
          3339,
          2880,
          11580,
          9600,
          13201,
          9719,
          488,
          2415,
          180,
          4177,
          7440,
          3480,
          6600,
          300,
          1526,
          60,
          210,
          2,
          1350,
          73,
          200,
          4380,
          120,
          2680,
          840,
          989,
          4313,
          214,
          4,
          164,
          91,
          1050,
          838,
          60,
          9886,
          2425,
          390,
          14500,
          6660,
          159,
          54,
          30,
          8077,
          855,
          65,
          810,
          4150,
          4740,
          25,
          2070,
          870,
          12652,
          2880,
          120,
          1199,
          1470,
          4140,
          15420,
          50,
          457,
          30,
          65,
          110,
          39,
          507,
          213,
          4254,
          53,
          251,
          347,
          1637,
          21360,
          2161,
          2880,
          1044,
          8670,
          56,
          93,
          13,
          2089,
          20280,
          14639,
          2880,
          681,
          494,
          5355,
          3943,
          3300,
          191,
          73,
          4680,
          17310,
          10080,
          10726,
          5,
          2515,
          25920,
          2730,
          9480,
          5400,
          30,
          3584,
          3600,
          5850,
          4710,
          1732,
          23040,
          1800,
          6074,
          49,
          2299,
          5760,
          420,
          7320,
          2880,
          448,
          2520,
          18717,
          5513,
          21,
          2100,
          3120,
          8221,
          3240,
          2880,
          255,
          2355,
          161,
          50,
          258,
          13140,
          8640,
          18240,
          15492,
          8268,
          300,
          14400,
          7962,
          2400,
          11296,
          48,
          60480,
          28170,
          300,
          8054,
          2775,
          2775,
          2160,
          2100,
          2775,
          3180,
          2775,
          1440,
          430,
          2129,
          1755,
          692,
          732,
          7,
          510,
          420,
          13215,
          557,
          300,
          17812,
          20416,
          6240,
          467,
          3067,
          3060,
          355,
          430,
          300,
          227,
          52,
          2880,
          18804,
          1867,
          1690,
          295,
          17,
          240,
          17520,
          8189,
          182,
          5820,
          83,
          230,
          2009,
          720,
          155,
          4320,
          4320,
          480,
          1005,
          221,
          372,
          13430,
          4320,
          91,
          1419,
          3600,
          10080,
          5071,
          152,
          6840,
          221,
          24780,
          38,
          61,
          7560,
          90,
          10380,
          396,
          2040,
          12060,
          1080,
          1680,
          13920,
          14101,
          1099,
          2460,
          540,
          52,
          816,
          420,
          155,
          437,
          247,
          540,
          1135,
          437,
          180,
          171,
          656,
          84,
          202,
          255,
          1054,
          1254,
          1456,
          177,
          106,
          32,
          2464,
          55,
          144,
          70,
          64,
          8873,
          945,
          523,
          56,
          3,
          8472,
          155,
          33,
          749,
          159,
          270,
          2790,
          224,
          1470,
          334,
          2050,
          370,
          26,
          797,
          12,
          195,
          230,
          125,
          15,
          316,
          365,
          1560,
          4740,
          294,
          455,
          2878,
          336,
          295,
          480,
          25,
          223,
          2645,
          2016,
          7371,
          360,
          3408,
          3698,
          4890,
          871,
          2759,
          250,
          3301,
          249,
          164,
          435,
          420,
          854,
          5160,
          133,
          15180,
          2055,
          451,
          140,
          199,
          721,
          179,
          1524,
          78,
          268,
          39,
          14190,
          47,
          161,
          900,
          6070,
          697,
          234,
          14,
          5910,
          34390,
          40,
          166,
          182,
          829,
          15,
          64,
          13,
          245,
          1080,
          390,
          47,
          269,
          400,
          660,
          213,
          761,
          8100,
          180,
          124,
          4320,
          2820,
          3100,
          49427,
          989,
          125,
          44,
          26,
          245,
          98,
          135,
          50,
          1008,
          53,
          554,
          1260,
          2895,
          89,
          98,
          865,
          128,
          230,
          252,
          130,
          5,
          157,
          6914,
          11,
          13,
          2880,
          270,
          962,
          47,
          20,
          108,
          9855,
          75,
          17,
          21,
          1950,
          11867,
          141,
          959,
          1035,
          617,
          1230,
          572,
          324,
          1835,
          6780,
          900,
          37,
          72,
          251,
          620,
          89,
          909,
          236,
          326,
          300,
          751,
          122,
          214,
          193,
          8,
          5227,
          1414,
          448,
          4605,
          4080,
          1914,
          759,
          10274,
          3,
          2700,
          105,
          240,
          210,
          1201,
          30,
          2806,
          1226,
          300,
          206,
          270,
          2880,
          513,
          8160,
          3314,
          414,
          126,
          60,
          285,
          110,
          62,
          2363,
          424,
          180,
          448,
          2,
          624,
          2435,
          131,
          208,
          103,
          1355,
          1523,
          90,
          1205,
          385,
          144,
          235,
          241,
          6787,
          1337,
          1673,
          3366,
          2640,
          1826,
          570,
          1565,
          2691,
          1072,
          115,
          816,
          168,
          30,
          160,
          485,
          1508,
          1301,
          159,
          60,
          4,
          9600,
          106,
          32,
          61,
          314,
          30,
          92,
          390,
          161,
          60,
          76,
          160,
          20,
          70,
          50,
          15,
          810,
          1380,
          1800,
          1560,
          2054,
          1452,
          1865,
          1999,
          120,
          1950,
          360,
          1087,
          1200,
          4122,
          360,
          645,
          108,
          1440,
          4560,
          110,
          210,
          120,
          4260,
          76,
          210,
          3305,
          5880,
          145,
          60,
          2640,
          1042,
          110,
          11880,
          2245,
          984,
          7200,
          1381,
          148,
          13972,
          796,
          300,
          2612,
          3000,
          431,
          5310,
          1732,
          6685,
          3300,
          280,
          117,
          2895,
          480,
          31,
          103,
          4745,
          307,
          1656,
          3525,
          374,
          1068,
          1569,
          114,
          115,
          15,
          2891,
          1676,
          3604,
          195,
          2108,
          198,
          3667,
          1037,
          673,
          2652,
          300,
          881,
          618,
          1187,
          950,
          2535,
          27,
          108,
          73,
          200,
          5,
          75,
          77,
          660,
          92,
          30,
          33,
          1895,
          274,
          1534,
          60,
          108,
          2,
          175,
          2040,
          2710,
          284,
          105,
          4019,
          391,
          439,
          5,
          201,
          2140,
          103,
          187,
          1406,
          348,
          13650,
          90,
          913,
          14040,
          1367,
          174,
          543,
          237,
          1906,
          224,
          95,
          360,
          1548,
          870,
          220,
          720,
          59,
          181
         ],
         "y0": " ",
         "yaxis": "y"
        }
       ],
       "layout": {
        "boxmode": "group",
        "legend": {
         "tracegroupgap": 0
        },
        "template": {
         "data": {
          "bar": [
           {
            "error_x": {
             "color": "rgb(36,36,36)"
            },
            "error_y": {
             "color": "rgb(36,36,36)"
            },
            "marker": {
             "line": {
              "color": "white",
              "width": 0.5
             },
             "pattern": {
              "fillmode": "overlay",
              "size": 10,
              "solidity": 0.2
             }
            },
            "type": "bar"
           }
          ],
          "barpolar": [
           {
            "marker": {
             "line": {
              "color": "white",
              "width": 0.5
             },
             "pattern": {
              "fillmode": "overlay",
              "size": 10,
              "solidity": 0.2
             }
            },
            "type": "barpolar"
           }
          ],
          "carpet": [
           {
            "aaxis": {
             "endlinecolor": "rgb(36,36,36)",
             "gridcolor": "white",
             "linecolor": "white",
             "minorgridcolor": "white",
             "startlinecolor": "rgb(36,36,36)"
            },
            "baxis": {
             "endlinecolor": "rgb(36,36,36)",
             "gridcolor": "white",
             "linecolor": "white",
             "minorgridcolor": "white",
             "startlinecolor": "rgb(36,36,36)"
            },
            "type": "carpet"
           }
          ],
          "choropleth": [
           {
            "colorbar": {
             "outlinewidth": 1,
             "tickcolor": "rgb(36,36,36)",
             "ticks": "outside"
            },
            "type": "choropleth"
           }
          ],
          "contour": [
           {
            "colorbar": {
             "outlinewidth": 1,
             "tickcolor": "rgb(36,36,36)",
             "ticks": "outside"
            },
            "colorscale": [
             [
              0,
              "#440154"
             ],
             [
              0.1111111111111111,
              "#482878"
             ],
             [
              0.2222222222222222,
              "#3e4989"
             ],
             [
              0.3333333333333333,
              "#31688e"
             ],
             [
              0.4444444444444444,
              "#26828e"
             ],
             [
              0.5555555555555556,
              "#1f9e89"
             ],
             [
              0.6666666666666666,
              "#35b779"
             ],
             [
              0.7777777777777778,
              "#6ece58"
             ],
             [
              0.8888888888888888,
              "#b5de2b"
             ],
             [
              1,
              "#fde725"
             ]
            ],
            "type": "contour"
           }
          ],
          "contourcarpet": [
           {
            "colorbar": {
             "outlinewidth": 1,
             "tickcolor": "rgb(36,36,36)",
             "ticks": "outside"
            },
            "type": "contourcarpet"
           }
          ],
          "heatmap": [
           {
            "colorbar": {
             "outlinewidth": 1,
             "tickcolor": "rgb(36,36,36)",
             "ticks": "outside"
            },
            "colorscale": [
             [
              0,
              "#440154"
             ],
             [
              0.1111111111111111,
              "#482878"
             ],
             [
              0.2222222222222222,
              "#3e4989"
             ],
             [
              0.3333333333333333,
              "#31688e"
             ],
             [
              0.4444444444444444,
              "#26828e"
             ],
             [
              0.5555555555555556,
              "#1f9e89"
             ],
             [
              0.6666666666666666,
              "#35b779"
             ],
             [
              0.7777777777777778,
              "#6ece58"
             ],
             [
              0.8888888888888888,
              "#b5de2b"
             ],
             [
              1,
              "#fde725"
             ]
            ],
            "type": "heatmap"
           }
          ],
          "heatmapgl": [
           {
            "colorbar": {
             "outlinewidth": 1,
             "tickcolor": "rgb(36,36,36)",
             "ticks": "outside"
            },
            "colorscale": [
             [
              0,
              "#440154"
             ],
             [
              0.1111111111111111,
              "#482878"
             ],
             [
              0.2222222222222222,
              "#3e4989"
             ],
             [
              0.3333333333333333,
              "#31688e"
             ],
             [
              0.4444444444444444,
              "#26828e"
             ],
             [
              0.5555555555555556,
              "#1f9e89"
             ],
             [
              0.6666666666666666,
              "#35b779"
             ],
             [
              0.7777777777777778,
              "#6ece58"
             ],
             [
              0.8888888888888888,
              "#b5de2b"
             ],
             [
              1,
              "#fde725"
             ]
            ],
            "type": "heatmapgl"
           }
          ],
          "histogram": [
           {
            "marker": {
             "line": {
              "color": "white",
              "width": 0.6
             }
            },
            "type": "histogram"
           }
          ],
          "histogram2d": [
           {
            "colorbar": {
             "outlinewidth": 1,
             "tickcolor": "rgb(36,36,36)",
             "ticks": "outside"
            },
            "colorscale": [
             [
              0,
              "#440154"
             ],
             [
              0.1111111111111111,
              "#482878"
             ],
             [
              0.2222222222222222,
              "#3e4989"
             ],
             [
              0.3333333333333333,
              "#31688e"
             ],
             [
              0.4444444444444444,
              "#26828e"
             ],
             [
              0.5555555555555556,
              "#1f9e89"
             ],
             [
              0.6666666666666666,
              "#35b779"
             ],
             [
              0.7777777777777778,
              "#6ece58"
             ],
             [
              0.8888888888888888,
              "#b5de2b"
             ],
             [
              1,
              "#fde725"
             ]
            ],
            "type": "histogram2d"
           }
          ],
          "histogram2dcontour": [
           {
            "colorbar": {
             "outlinewidth": 1,
             "tickcolor": "rgb(36,36,36)",
             "ticks": "outside"
            },
            "colorscale": [
             [
              0,
              "#440154"
             ],
             [
              0.1111111111111111,
              "#482878"
             ],
             [
              0.2222222222222222,
              "#3e4989"
             ],
             [
              0.3333333333333333,
              "#31688e"
             ],
             [
              0.4444444444444444,
              "#26828e"
             ],
             [
              0.5555555555555556,
              "#1f9e89"
             ],
             [
              0.6666666666666666,
              "#35b779"
             ],
             [
              0.7777777777777778,
              "#6ece58"
             ],
             [
              0.8888888888888888,
              "#b5de2b"
             ],
             [
              1,
              "#fde725"
             ]
            ],
            "type": "histogram2dcontour"
           }
          ],
          "mesh3d": [
           {
            "colorbar": {
             "outlinewidth": 1,
             "tickcolor": "rgb(36,36,36)",
             "ticks": "outside"
            },
            "type": "mesh3d"
           }
          ],
          "parcoords": [
           {
            "line": {
             "colorbar": {
              "outlinewidth": 1,
              "tickcolor": "rgb(36,36,36)",
              "ticks": "outside"
             }
            },
            "type": "parcoords"
           }
          ],
          "pie": [
           {
            "automargin": true,
            "type": "pie"
           }
          ],
          "scatter": [
           {
            "fillpattern": {
             "fillmode": "overlay",
             "size": 10,
             "solidity": 0.2
            },
            "type": "scatter"
           }
          ],
          "scatter3d": [
           {
            "line": {
             "colorbar": {
              "outlinewidth": 1,
              "tickcolor": "rgb(36,36,36)",
              "ticks": "outside"
             }
            },
            "marker": {
             "colorbar": {
              "outlinewidth": 1,
              "tickcolor": "rgb(36,36,36)",
              "ticks": "outside"
             }
            },
            "type": "scatter3d"
           }
          ],
          "scattercarpet": [
           {
            "marker": {
             "colorbar": {
              "outlinewidth": 1,
              "tickcolor": "rgb(36,36,36)",
              "ticks": "outside"
             }
            },
            "type": "scattercarpet"
           }
          ],
          "scattergeo": [
           {
            "marker": {
             "colorbar": {
              "outlinewidth": 1,
              "tickcolor": "rgb(36,36,36)",
              "ticks": "outside"
             }
            },
            "type": "scattergeo"
           }
          ],
          "scattergl": [
           {
            "marker": {
             "colorbar": {
              "outlinewidth": 1,
              "tickcolor": "rgb(36,36,36)",
              "ticks": "outside"
             }
            },
            "type": "scattergl"
           }
          ],
          "scattermapbox": [
           {
            "marker": {
             "colorbar": {
              "outlinewidth": 1,
              "tickcolor": "rgb(36,36,36)",
              "ticks": "outside"
             }
            },
            "type": "scattermapbox"
           }
          ],
          "scatterpolar": [
           {
            "marker": {
             "colorbar": {
              "outlinewidth": 1,
              "tickcolor": "rgb(36,36,36)",
              "ticks": "outside"
             }
            },
            "type": "scatterpolar"
           }
          ],
          "scatterpolargl": [
           {
            "marker": {
             "colorbar": {
              "outlinewidth": 1,
              "tickcolor": "rgb(36,36,36)",
              "ticks": "outside"
             }
            },
            "type": "scatterpolargl"
           }
          ],
          "scatterternary": [
           {
            "marker": {
             "colorbar": {
              "outlinewidth": 1,
              "tickcolor": "rgb(36,36,36)",
              "ticks": "outside"
             }
            },
            "type": "scatterternary"
           }
          ],
          "surface": [
           {
            "colorbar": {
             "outlinewidth": 1,
             "tickcolor": "rgb(36,36,36)",
             "ticks": "outside"
            },
            "colorscale": [
             [
              0,
              "#440154"
             ],
             [
              0.1111111111111111,
              "#482878"
             ],
             [
              0.2222222222222222,
              "#3e4989"
             ],
             [
              0.3333333333333333,
              "#31688e"
             ],
             [
              0.4444444444444444,
              "#26828e"
             ],
             [
              0.5555555555555556,
              "#1f9e89"
             ],
             [
              0.6666666666666666,
              "#35b779"
             ],
             [
              0.7777777777777778,
              "#6ece58"
             ],
             [
              0.8888888888888888,
              "#b5de2b"
             ],
             [
              1,
              "#fde725"
             ]
            ],
            "type": "surface"
           }
          ],
          "table": [
           {
            "cells": {
             "fill": {
              "color": "rgb(237,237,237)"
             },
             "line": {
              "color": "white"
             }
            },
            "header": {
             "fill": {
              "color": "rgb(217,217,217)"
             },
             "line": {
              "color": "white"
             }
            },
            "type": "table"
           }
          ]
         },
         "layout": {
          "annotationdefaults": {
           "arrowhead": 0,
           "arrowwidth": 1
          },
          "autosize": true,
          "autotypenumbers": "strict",
          "coloraxis": {
           "colorbar": {
            "outlinewidth": 1,
            "tickcolor": "rgb(36,36,36)",
            "ticks": "outside"
           }
          },
          "colorscale": {
           "diverging": [
            [
             0,
             "rgb(103,0,31)"
            ],
            [
             0.1,
             "rgb(178,24,43)"
            ],
            [
             0.2,
             "rgb(214,96,77)"
            ],
            [
             0.3,
             "rgb(244,165,130)"
            ],
            [
             0.4,
             "rgb(253,219,199)"
            ],
            [
             0.5,
             "rgb(247,247,247)"
            ],
            [
             0.6,
             "rgb(209,229,240)"
            ],
            [
             0.7,
             "rgb(146,197,222)"
            ],
            [
             0.8,
             "rgb(67,147,195)"
            ],
            [
             0.9,
             "rgb(33,102,172)"
            ],
            [
             1,
             "rgb(5,48,97)"
            ]
           ],
           "sequential": [
            [
             0,
             "#440154"
            ],
            [
             0.1111111111111111,
             "#482878"
            ],
            [
             0.2222222222222222,
             "#3e4989"
            ],
            [
             0.3333333333333333,
             "#31688e"
            ],
            [
             0.4444444444444444,
             "#26828e"
            ],
            [
             0.5555555555555556,
             "#1f9e89"
            ],
            [
             0.6666666666666666,
             "#35b779"
            ],
            [
             0.7777777777777778,
             "#6ece58"
            ],
            [
             0.8888888888888888,
             "#b5de2b"
            ],
            [
             1,
             "#fde725"
            ]
           ],
           "sequentialminus": [
            [
             0,
             "#440154"
            ],
            [
             0.1111111111111111,
             "#482878"
            ],
            [
             0.2222222222222222,
             "#3e4989"
            ],
            [
             0.3333333333333333,
             "#31688e"
            ],
            [
             0.4444444444444444,
             "#26828e"
            ],
            [
             0.5555555555555556,
             "#1f9e89"
            ],
            [
             0.6666666666666666,
             "#35b779"
            ],
            [
             0.7777777777777778,
             "#6ece58"
            ],
            [
             0.8888888888888888,
             "#b5de2b"
            ],
            [
             1,
             "#fde725"
            ]
           ]
          },
          "colorway": [
           "#1F77B4",
           "#FF7F0E",
           "#2CA02C",
           "#D62728",
           "#9467BD",
           "#8C564B",
           "#E377C2",
           "#7F7F7F",
           "#BCBD22",
           "#17BECF"
          ],
          "font": {
           "color": "rgb(36,36,36)"
          },
          "geo": {
           "bgcolor": "white",
           "lakecolor": "white",
           "landcolor": "white",
           "showlakes": true,
           "showland": true,
           "subunitcolor": "white"
          },
          "height": 400,
          "hoverlabel": {
           "align": "left"
          },
          "hovermode": "closest",
          "mapbox": {
           "style": "light"
          },
          "margin": {
           "b": 30,
           "l": 30,
           "r": 30,
           "t": 30
          },
          "paper_bgcolor": "white",
          "plot_bgcolor": "white",
          "polar": {
           "angularaxis": {
            "gridcolor": "rgb(232,232,232)",
            "linecolor": "rgb(36,36,36)",
            "showgrid": false,
            "showline": true,
            "ticks": "outside"
           },
           "bgcolor": "white",
           "radialaxis": {
            "gridcolor": "rgb(232,232,232)",
            "linecolor": "rgb(36,36,36)",
            "showgrid": false,
            "showline": true,
            "ticks": "outside"
           }
          },
          "scene": {
           "xaxis": {
            "backgroundcolor": "white",
            "gridcolor": "rgb(232,232,232)",
            "gridwidth": 2,
            "linecolor": "rgb(36,36,36)",
            "showbackground": true,
            "showgrid": false,
            "showline": true,
            "ticks": "outside",
            "zeroline": false,
            "zerolinecolor": "rgb(36,36,36)"
           },
           "yaxis": {
            "backgroundcolor": "white",
            "gridcolor": "rgb(232,232,232)",
            "gridwidth": 2,
            "linecolor": "rgb(36,36,36)",
            "showbackground": true,
            "showgrid": false,
            "showline": true,
            "ticks": "outside",
            "zeroline": false,
            "zerolinecolor": "rgb(36,36,36)"
           },
           "zaxis": {
            "backgroundcolor": "white",
            "gridcolor": "rgb(232,232,232)",
            "gridwidth": 2,
            "linecolor": "rgb(36,36,36)",
            "showbackground": true,
            "showgrid": false,
            "showline": true,
            "ticks": "outside",
            "zeroline": false,
            "zerolinecolor": "rgb(36,36,36)"
           }
          },
          "shapedefaults": {
           "fillcolor": "black",
           "line": {
            "width": 0
           },
           "opacity": 0.3
          },
          "ternary": {
           "aaxis": {
            "gridcolor": "rgb(232,232,232)",
            "linecolor": "rgb(36,36,36)",
            "showgrid": false,
            "showline": true,
            "ticks": "outside"
           },
           "baxis": {
            "gridcolor": "rgb(232,232,232)",
            "linecolor": "rgb(36,36,36)",
            "showgrid": false,
            "showline": true,
            "ticks": "outside"
           },
           "bgcolor": "white",
           "caxis": {
            "gridcolor": "rgb(232,232,232)",
            "linecolor": "rgb(36,36,36)",
            "showgrid": false,
            "showline": true,
            "ticks": "outside"
           }
          },
          "title": {
           "x": 0.5,
           "xanchor": "center"
          },
          "width": 600,
          "xaxis": {
           "automargin": true,
           "gridcolor": "rgb(232,232,232)",
           "linecolor": "rgb(36,36,36)",
           "showgrid": true,
           "showline": true,
           "ticks": "outside",
           "title": {
            "standoff": 15
           },
           "zeroline": false,
           "zerolinecolor": "rgb(36,36,36)"
          },
          "yaxis": {
           "automargin": true,
           "gridcolor": "rgb(232,232,232)",
           "linecolor": "rgb(36,36,36)",
           "showgrid": true,
           "showline": true,
           "ticks": "outside",
           "title": {
            "standoff": 15
           },
           "zeroline": false,
           "zerolinecolor": "rgb(36,36,36)"
          }
         }
        },
        "title": {
         "text": "Outage Duration vs Month"
        },
        "xaxis": {
         "anchor": "y",
         "domain": [
          0,
          1
         ],
         "title": {
          "text": "Month"
         }
        },
        "yaxis": {
         "anchor": "x",
         "domain": [
          0,
          1
         ],
         "title": {
          "text": "Outage Duration"
         }
        }
       }
      }
     },
     "metadata": {},
     "output_type": "display_data"
    }
   ],
   "source": [
    "fig = px.box(\n",
    "    outages,\n",
    "    x='MONTH',\n",
    "    y='OUTAGE.DURATION',\n",
    "    title=\"Outage Duration vs Month\"\n",
    ")\n",
    "\n",
    "fig.update_layout(\n",
    "    xaxis_title=\"Month\",\n",
    "    yaxis_title=\"Outage Duration\",\n",
    ")\n",
    "\n",
    "fig.show()"
   ]
  },
  {
   "cell_type": "markdown",
   "metadata": {},
   "source": [
    "Across the United States, with the exception of a few outliers here and there, the distributions of outages durations by month appear to be similar.\n",
    "\n",
    "Outliers have a bad rap, and most of the time, our goal is to remove them. In the context of our dataset, although they are relatively uncommon, they inevitably happen (e.g. natural disaster, severe weather, other anomalies), and we must be prepared for them and take them into account.\n",
    "\n",
    "Now, let's take a look at what happens when we examine one state in particular."
   ]
  },
  {
   "cell_type": "code",
   "execution_count": 14,
   "metadata": {},
   "outputs": [
    {
     "data": {
      "application/vnd.plotly.v1+json": {
       "config": {
        "plotlyServerURL": "https://plot.ly"
       },
       "data": [
        {
         "alignmentgroup": "True",
         "hovertemplate": "MONTH=%{x}<br>OUTAGE.DURATION=%{y}<extra></extra>",
         "legendgroup": "",
         "marker": {
          "color": "#1F77B4"
         },
         "name": "",
         "notched": false,
         "offsetgroup": "",
         "orientation": "v",
         "showlegend": false,
         "type": "box",
         "x": [
          3,
          8,
          8,
          9,
          2,
          8,
          4,
          8,
          3,
          10,
          2,
          5,
          5,
          8,
          4,
          7,
          1,
          8,
          5,
          2,
          1,
          9,
          9,
          8,
          6,
          9,
          8,
          10,
          2,
          2,
          9,
          8,
          9,
          6,
          9,
          9,
          10,
          9,
          8,
          8,
          8,
          9,
          3,
          1,
          12
         ],
         "x0": " ",
         "xaxis": "x",
         "y": [
          17,
          240,
          17520,
          8189,
          182,
          5820,
          83,
          230,
          2009,
          720,
          155,
          4320,
          4320,
          480,
          1005,
          221,
          372,
          13430,
          4320,
          91,
          1419,
          3600,
          10080,
          5071,
          152,
          6840,
          221,
          24780,
          38,
          61,
          7560,
          90,
          10380,
          396,
          2040,
          12060,
          1080,
          1680,
          13920,
          14101,
          1099,
          2460,
          540,
          52,
          816
         ],
         "y0": " ",
         "yaxis": "y"
        }
       ],
       "layout": {
        "boxmode": "group",
        "legend": {
         "tracegroupgap": 0
        },
        "template": {
         "data": {
          "bar": [
           {
            "error_x": {
             "color": "rgb(36,36,36)"
            },
            "error_y": {
             "color": "rgb(36,36,36)"
            },
            "marker": {
             "line": {
              "color": "white",
              "width": 0.5
             },
             "pattern": {
              "fillmode": "overlay",
              "size": 10,
              "solidity": 0.2
             }
            },
            "type": "bar"
           }
          ],
          "barpolar": [
           {
            "marker": {
             "line": {
              "color": "white",
              "width": 0.5
             },
             "pattern": {
              "fillmode": "overlay",
              "size": 10,
              "solidity": 0.2
             }
            },
            "type": "barpolar"
           }
          ],
          "carpet": [
           {
            "aaxis": {
             "endlinecolor": "rgb(36,36,36)",
             "gridcolor": "white",
             "linecolor": "white",
             "minorgridcolor": "white",
             "startlinecolor": "rgb(36,36,36)"
            },
            "baxis": {
             "endlinecolor": "rgb(36,36,36)",
             "gridcolor": "white",
             "linecolor": "white",
             "minorgridcolor": "white",
             "startlinecolor": "rgb(36,36,36)"
            },
            "type": "carpet"
           }
          ],
          "choropleth": [
           {
            "colorbar": {
             "outlinewidth": 1,
             "tickcolor": "rgb(36,36,36)",
             "ticks": "outside"
            },
            "type": "choropleth"
           }
          ],
          "contour": [
           {
            "colorbar": {
             "outlinewidth": 1,
             "tickcolor": "rgb(36,36,36)",
             "ticks": "outside"
            },
            "colorscale": [
             [
              0,
              "#440154"
             ],
             [
              0.1111111111111111,
              "#482878"
             ],
             [
              0.2222222222222222,
              "#3e4989"
             ],
             [
              0.3333333333333333,
              "#31688e"
             ],
             [
              0.4444444444444444,
              "#26828e"
             ],
             [
              0.5555555555555556,
              "#1f9e89"
             ],
             [
              0.6666666666666666,
              "#35b779"
             ],
             [
              0.7777777777777778,
              "#6ece58"
             ],
             [
              0.8888888888888888,
              "#b5de2b"
             ],
             [
              1,
              "#fde725"
             ]
            ],
            "type": "contour"
           }
          ],
          "contourcarpet": [
           {
            "colorbar": {
             "outlinewidth": 1,
             "tickcolor": "rgb(36,36,36)",
             "ticks": "outside"
            },
            "type": "contourcarpet"
           }
          ],
          "heatmap": [
           {
            "colorbar": {
             "outlinewidth": 1,
             "tickcolor": "rgb(36,36,36)",
             "ticks": "outside"
            },
            "colorscale": [
             [
              0,
              "#440154"
             ],
             [
              0.1111111111111111,
              "#482878"
             ],
             [
              0.2222222222222222,
              "#3e4989"
             ],
             [
              0.3333333333333333,
              "#31688e"
             ],
             [
              0.4444444444444444,
              "#26828e"
             ],
             [
              0.5555555555555556,
              "#1f9e89"
             ],
             [
              0.6666666666666666,
              "#35b779"
             ],
             [
              0.7777777777777778,
              "#6ece58"
             ],
             [
              0.8888888888888888,
              "#b5de2b"
             ],
             [
              1,
              "#fde725"
             ]
            ],
            "type": "heatmap"
           }
          ],
          "heatmapgl": [
           {
            "colorbar": {
             "outlinewidth": 1,
             "tickcolor": "rgb(36,36,36)",
             "ticks": "outside"
            },
            "colorscale": [
             [
              0,
              "#440154"
             ],
             [
              0.1111111111111111,
              "#482878"
             ],
             [
              0.2222222222222222,
              "#3e4989"
             ],
             [
              0.3333333333333333,
              "#31688e"
             ],
             [
              0.4444444444444444,
              "#26828e"
             ],
             [
              0.5555555555555556,
              "#1f9e89"
             ],
             [
              0.6666666666666666,
              "#35b779"
             ],
             [
              0.7777777777777778,
              "#6ece58"
             ],
             [
              0.8888888888888888,
              "#b5de2b"
             ],
             [
              1,
              "#fde725"
             ]
            ],
            "type": "heatmapgl"
           }
          ],
          "histogram": [
           {
            "marker": {
             "line": {
              "color": "white",
              "width": 0.6
             }
            },
            "type": "histogram"
           }
          ],
          "histogram2d": [
           {
            "colorbar": {
             "outlinewidth": 1,
             "tickcolor": "rgb(36,36,36)",
             "ticks": "outside"
            },
            "colorscale": [
             [
              0,
              "#440154"
             ],
             [
              0.1111111111111111,
              "#482878"
             ],
             [
              0.2222222222222222,
              "#3e4989"
             ],
             [
              0.3333333333333333,
              "#31688e"
             ],
             [
              0.4444444444444444,
              "#26828e"
             ],
             [
              0.5555555555555556,
              "#1f9e89"
             ],
             [
              0.6666666666666666,
              "#35b779"
             ],
             [
              0.7777777777777778,
              "#6ece58"
             ],
             [
              0.8888888888888888,
              "#b5de2b"
             ],
             [
              1,
              "#fde725"
             ]
            ],
            "type": "histogram2d"
           }
          ],
          "histogram2dcontour": [
           {
            "colorbar": {
             "outlinewidth": 1,
             "tickcolor": "rgb(36,36,36)",
             "ticks": "outside"
            },
            "colorscale": [
             [
              0,
              "#440154"
             ],
             [
              0.1111111111111111,
              "#482878"
             ],
             [
              0.2222222222222222,
              "#3e4989"
             ],
             [
              0.3333333333333333,
              "#31688e"
             ],
             [
              0.4444444444444444,
              "#26828e"
             ],
             [
              0.5555555555555556,
              "#1f9e89"
             ],
             [
              0.6666666666666666,
              "#35b779"
             ],
             [
              0.7777777777777778,
              "#6ece58"
             ],
             [
              0.8888888888888888,
              "#b5de2b"
             ],
             [
              1,
              "#fde725"
             ]
            ],
            "type": "histogram2dcontour"
           }
          ],
          "mesh3d": [
           {
            "colorbar": {
             "outlinewidth": 1,
             "tickcolor": "rgb(36,36,36)",
             "ticks": "outside"
            },
            "type": "mesh3d"
           }
          ],
          "parcoords": [
           {
            "line": {
             "colorbar": {
              "outlinewidth": 1,
              "tickcolor": "rgb(36,36,36)",
              "ticks": "outside"
             }
            },
            "type": "parcoords"
           }
          ],
          "pie": [
           {
            "automargin": true,
            "type": "pie"
           }
          ],
          "scatter": [
           {
            "fillpattern": {
             "fillmode": "overlay",
             "size": 10,
             "solidity": 0.2
            },
            "type": "scatter"
           }
          ],
          "scatter3d": [
           {
            "line": {
             "colorbar": {
              "outlinewidth": 1,
              "tickcolor": "rgb(36,36,36)",
              "ticks": "outside"
             }
            },
            "marker": {
             "colorbar": {
              "outlinewidth": 1,
              "tickcolor": "rgb(36,36,36)",
              "ticks": "outside"
             }
            },
            "type": "scatter3d"
           }
          ],
          "scattercarpet": [
           {
            "marker": {
             "colorbar": {
              "outlinewidth": 1,
              "tickcolor": "rgb(36,36,36)",
              "ticks": "outside"
             }
            },
            "type": "scattercarpet"
           }
          ],
          "scattergeo": [
           {
            "marker": {
             "colorbar": {
              "outlinewidth": 1,
              "tickcolor": "rgb(36,36,36)",
              "ticks": "outside"
             }
            },
            "type": "scattergeo"
           }
          ],
          "scattergl": [
           {
            "marker": {
             "colorbar": {
              "outlinewidth": 1,
              "tickcolor": "rgb(36,36,36)",
              "ticks": "outside"
             }
            },
            "type": "scattergl"
           }
          ],
          "scattermapbox": [
           {
            "marker": {
             "colorbar": {
              "outlinewidth": 1,
              "tickcolor": "rgb(36,36,36)",
              "ticks": "outside"
             }
            },
            "type": "scattermapbox"
           }
          ],
          "scatterpolar": [
           {
            "marker": {
             "colorbar": {
              "outlinewidth": 1,
              "tickcolor": "rgb(36,36,36)",
              "ticks": "outside"
             }
            },
            "type": "scatterpolar"
           }
          ],
          "scatterpolargl": [
           {
            "marker": {
             "colorbar": {
              "outlinewidth": 1,
              "tickcolor": "rgb(36,36,36)",
              "ticks": "outside"
             }
            },
            "type": "scatterpolargl"
           }
          ],
          "scatterternary": [
           {
            "marker": {
             "colorbar": {
              "outlinewidth": 1,
              "tickcolor": "rgb(36,36,36)",
              "ticks": "outside"
             }
            },
            "type": "scatterternary"
           }
          ],
          "surface": [
           {
            "colorbar": {
             "outlinewidth": 1,
             "tickcolor": "rgb(36,36,36)",
             "ticks": "outside"
            },
            "colorscale": [
             [
              0,
              "#440154"
             ],
             [
              0.1111111111111111,
              "#482878"
             ],
             [
              0.2222222222222222,
              "#3e4989"
             ],
             [
              0.3333333333333333,
              "#31688e"
             ],
             [
              0.4444444444444444,
              "#26828e"
             ],
             [
              0.5555555555555556,
              "#1f9e89"
             ],
             [
              0.6666666666666666,
              "#35b779"
             ],
             [
              0.7777777777777778,
              "#6ece58"
             ],
             [
              0.8888888888888888,
              "#b5de2b"
             ],
             [
              1,
              "#fde725"
             ]
            ],
            "type": "surface"
           }
          ],
          "table": [
           {
            "cells": {
             "fill": {
              "color": "rgb(237,237,237)"
             },
             "line": {
              "color": "white"
             }
            },
            "header": {
             "fill": {
              "color": "rgb(217,217,217)"
             },
             "line": {
              "color": "white"
             }
            },
            "type": "table"
           }
          ]
         },
         "layout": {
          "annotationdefaults": {
           "arrowhead": 0,
           "arrowwidth": 1
          },
          "autosize": true,
          "autotypenumbers": "strict",
          "coloraxis": {
           "colorbar": {
            "outlinewidth": 1,
            "tickcolor": "rgb(36,36,36)",
            "ticks": "outside"
           }
          },
          "colorscale": {
           "diverging": [
            [
             0,
             "rgb(103,0,31)"
            ],
            [
             0.1,
             "rgb(178,24,43)"
            ],
            [
             0.2,
             "rgb(214,96,77)"
            ],
            [
             0.3,
             "rgb(244,165,130)"
            ],
            [
             0.4,
             "rgb(253,219,199)"
            ],
            [
             0.5,
             "rgb(247,247,247)"
            ],
            [
             0.6,
             "rgb(209,229,240)"
            ],
            [
             0.7,
             "rgb(146,197,222)"
            ],
            [
             0.8,
             "rgb(67,147,195)"
            ],
            [
             0.9,
             "rgb(33,102,172)"
            ],
            [
             1,
             "rgb(5,48,97)"
            ]
           ],
           "sequential": [
            [
             0,
             "#440154"
            ],
            [
             0.1111111111111111,
             "#482878"
            ],
            [
             0.2222222222222222,
             "#3e4989"
            ],
            [
             0.3333333333333333,
             "#31688e"
            ],
            [
             0.4444444444444444,
             "#26828e"
            ],
            [
             0.5555555555555556,
             "#1f9e89"
            ],
            [
             0.6666666666666666,
             "#35b779"
            ],
            [
             0.7777777777777778,
             "#6ece58"
            ],
            [
             0.8888888888888888,
             "#b5de2b"
            ],
            [
             1,
             "#fde725"
            ]
           ],
           "sequentialminus": [
            [
             0,
             "#440154"
            ],
            [
             0.1111111111111111,
             "#482878"
            ],
            [
             0.2222222222222222,
             "#3e4989"
            ],
            [
             0.3333333333333333,
             "#31688e"
            ],
            [
             0.4444444444444444,
             "#26828e"
            ],
            [
             0.5555555555555556,
             "#1f9e89"
            ],
            [
             0.6666666666666666,
             "#35b779"
            ],
            [
             0.7777777777777778,
             "#6ece58"
            ],
            [
             0.8888888888888888,
             "#b5de2b"
            ],
            [
             1,
             "#fde725"
            ]
           ]
          },
          "colorway": [
           "#1F77B4",
           "#FF7F0E",
           "#2CA02C",
           "#D62728",
           "#9467BD",
           "#8C564B",
           "#E377C2",
           "#7F7F7F",
           "#BCBD22",
           "#17BECF"
          ],
          "font": {
           "color": "rgb(36,36,36)"
          },
          "geo": {
           "bgcolor": "white",
           "lakecolor": "white",
           "landcolor": "white",
           "showlakes": true,
           "showland": true,
           "subunitcolor": "white"
          },
          "height": 400,
          "hoverlabel": {
           "align": "left"
          },
          "hovermode": "closest",
          "mapbox": {
           "style": "light"
          },
          "margin": {
           "b": 30,
           "l": 30,
           "r": 30,
           "t": 30
          },
          "paper_bgcolor": "white",
          "plot_bgcolor": "white",
          "polar": {
           "angularaxis": {
            "gridcolor": "rgb(232,232,232)",
            "linecolor": "rgb(36,36,36)",
            "showgrid": false,
            "showline": true,
            "ticks": "outside"
           },
           "bgcolor": "white",
           "radialaxis": {
            "gridcolor": "rgb(232,232,232)",
            "linecolor": "rgb(36,36,36)",
            "showgrid": false,
            "showline": true,
            "ticks": "outside"
           }
          },
          "scene": {
           "xaxis": {
            "backgroundcolor": "white",
            "gridcolor": "rgb(232,232,232)",
            "gridwidth": 2,
            "linecolor": "rgb(36,36,36)",
            "showbackground": true,
            "showgrid": false,
            "showline": true,
            "ticks": "outside",
            "zeroline": false,
            "zerolinecolor": "rgb(36,36,36)"
           },
           "yaxis": {
            "backgroundcolor": "white",
            "gridcolor": "rgb(232,232,232)",
            "gridwidth": 2,
            "linecolor": "rgb(36,36,36)",
            "showbackground": true,
            "showgrid": false,
            "showline": true,
            "ticks": "outside",
            "zeroline": false,
            "zerolinecolor": "rgb(36,36,36)"
           },
           "zaxis": {
            "backgroundcolor": "white",
            "gridcolor": "rgb(232,232,232)",
            "gridwidth": 2,
            "linecolor": "rgb(36,36,36)",
            "showbackground": true,
            "showgrid": false,
            "showline": true,
            "ticks": "outside",
            "zeroline": false,
            "zerolinecolor": "rgb(36,36,36)"
           }
          },
          "shapedefaults": {
           "fillcolor": "black",
           "line": {
            "width": 0
           },
           "opacity": 0.3
          },
          "ternary": {
           "aaxis": {
            "gridcolor": "rgb(232,232,232)",
            "linecolor": "rgb(36,36,36)",
            "showgrid": false,
            "showline": true,
            "ticks": "outside"
           },
           "baxis": {
            "gridcolor": "rgb(232,232,232)",
            "linecolor": "rgb(36,36,36)",
            "showgrid": false,
            "showline": true,
            "ticks": "outside"
           },
           "bgcolor": "white",
           "caxis": {
            "gridcolor": "rgb(232,232,232)",
            "linecolor": "rgb(36,36,36)",
            "showgrid": false,
            "showline": true,
            "ticks": "outside"
           }
          },
          "title": {
           "x": 0.5,
           "xanchor": "center"
          },
          "width": 600,
          "xaxis": {
           "automargin": true,
           "gridcolor": "rgb(232,232,232)",
           "linecolor": "rgb(36,36,36)",
           "showgrid": true,
           "showline": true,
           "ticks": "outside",
           "title": {
            "standoff": 15
           },
           "zeroline": false,
           "zerolinecolor": "rgb(36,36,36)"
          },
          "yaxis": {
           "automargin": true,
           "gridcolor": "rgb(232,232,232)",
           "linecolor": "rgb(36,36,36)",
           "showgrid": true,
           "showline": true,
           "ticks": "outside",
           "title": {
            "standoff": 15
           },
           "zeroline": false,
           "zerolinecolor": "rgb(36,36,36)"
          }
         }
        },
        "title": {
         "text": "Outage Duration vs Month in Florida"
        },
        "xaxis": {
         "anchor": "y",
         "domain": [
          0,
          1
         ],
         "title": {
          "text": "Month"
         }
        },
        "yaxis": {
         "anchor": "x",
         "domain": [
          0,
          1
         ],
         "title": {
          "text": "Outage Duration"
         }
        }
       }
      }
     },
     "metadata": {},
     "output_type": "display_data"
    }
   ],
   "source": [
    "florida_outages = outages[outages['POSTAL.CODE'] == 'FL']\n",
    "fig = px.box(\n",
    "    florida_outages,\n",
    "    x='MONTH',\n",
    "    y='OUTAGE.DURATION',\n",
    "    title=\"Outage Duration vs Month in Florida\"\n",
    ")\n",
    "\n",
    "fig.update_layout(\n",
    "    xaxis_title=\"Month\",\n",
    "    yaxis_title=\"Outage Duration\",\n",
    ")\n",
    "\n",
    "fig.show()\n",
    "\n",
    "fig.write_html(\"assets/outage_duration_vs_month_florida.html\")"
   ]
  },
  {
   "cell_type": "markdown",
   "metadata": {},
   "source": [
    "Florida is infamous for being struck by significantly more hurricanes than most other states. If we analyze the distributions of outage durations by month in Florida, we can see that August, September, and October, the peak of hurricane season, have the longest power outages, where storms can knock out power for several days at a time.\n",
    "\n",
    "The United States is such a large and geographically diverse country, which makes it basically impossible to generalize outage durations for the entire country. This specific plot tells us that location matters when predicting outage duration."
   ]
  },
  {
   "cell_type": "markdown",
   "metadata": {},
   "source": [
    "## Step 3: Framing a Prediction Problem"
   ]
  },
  {
   "cell_type": "markdown",
   "metadata": {},
   "source": [
    "For a month of the year and a location inside the country, how long should I expect a power outage there and then to last?\n",
    "\n",
    "This is a regression problem, as we are predicting outage duration, a continuously distributed quantitative variable.\n",
    "\n",
    "Outage duration is a natural response variable, and predicting it is helpful in many ways. Most importantly, it could help energy providers improve resource allocation to restore power as quickly as possible depending on time and location.\n",
    "\n",
    "Mean absolute error is likely the best metric for model performance evaluation. MAE returns the average error in absolute terms, in the same units as outage duration. Additionally, since we elected not to drop outliers, MAE is also resistant to outliers, meaning that outliers won't disproportionately affect our evaluation metrics.\n",
    "\n",
    "Mean squared error, unfortunately, is sensitive to outliers. $R^2$, while great for linear models, can be misleading for non-linear models, and is not as straightforward to interpret as MAE."
   ]
  },
  {
   "cell_type": "markdown",
   "metadata": {},
   "source": [
    "## Step 4: Baseline Model"
   ]
  },
  {
   "cell_type": "markdown",
   "metadata": {},
   "source": [
    "We'll fit a baseline model, a basic least squares regression model.\n",
    "\n",
    "We have an ordinal feature, month, conveniently already represented numerically for us.\n",
    "\n",
    "We also have a nominal feature, state postal code, which we can one hot encode.\n",
    "\n",
    "Our response variable, outage duration, is a quantitative variable, as mentioned earlier."
   ]
  },
  {
   "cell_type": "code",
   "execution_count": 15,
   "metadata": {
    "ExecuteTime": {
     "end_time": "2019-10-31T23:36:28.662099Z",
     "start_time": "2019-10-31T23:36:28.660016Z"
    }
   },
   "outputs": [],
   "source": [
    "# TODO\n",
    "\n",
    "from sklearn.model_selection import train_test_split\n",
    "from sklearn.linear_model import LinearRegression\n",
    "from sklearn.metrics import mean_absolute_error, mean_squared_error\n",
    "from sklearn.preprocessing import OneHotEncoder\n",
    "from sklearn.compose import ColumnTransformer\n",
    "from sklearn.pipeline import Pipeline\n",
    "from sklearn.impute import SimpleImputer\n",
    "\n",
    "encoder = OneHotEncoder(sparse_output=False, drop='first')  # Avoid multicollinearity\n",
    "states_encoded = encoder.fit_transform(outages[[\"POSTAL.CODE\"]])\n",
    "\n",
    "# Combine encoded states with other features (MONTH)\n",
    "X = pd.DataFrame(states_encoded, columns=encoder.get_feature_names_out([\"POSTAL.CODE\"]))\n",
    "X[\"MONTH\"] = outages[\"MONTH\"].values\n",
    "\n",
    "# X = outages[['MONTH', 'POSTAL.CODE']]\n",
    "y = outages['OUTAGE.DURATION']\n",
    "\n",
    "X_train, X_test, y_train, y_test = train_test_split(X, y, test_size=0.2, random_state=42)\n"
   ]
  },
  {
   "cell_type": "code",
   "execution_count": 16,
   "metadata": {},
   "outputs": [
    {
     "data": {
      "text/plain": [
       "(2843.2781578934982, 2994.7488956539687)"
      ]
     },
     "execution_count": 16,
     "metadata": {},
     "output_type": "execute_result"
    }
   ],
   "source": [
    "model_baseline = LinearRegression()\n",
    "model_baseline.fit(X_train, y_train)\n",
    "\n",
    "# Make predictions\n",
    "y_pred_train = model_baseline.predict(X_train)\n",
    "y_pred_test = model_baseline.predict(X_test)\n",
    "\n",
    "# Evaluate the model\n",
    "train_mae = mean_absolute_error(y_train, y_pred_train)\n",
    "test_mae = mean_absolute_error(y_test, y_pred_test)\n",
    "\n",
    "train_mae, test_mae"
   ]
  },
  {
   "cell_type": "code",
   "execution_count": 17,
   "metadata": {},
   "outputs": [
    {
     "data": {
      "text/plain": [
       "-0.034433313445643376"
      ]
     },
     "execution_count": 17,
     "metadata": {},
     "output_type": "execute_result"
    }
   ],
   "source": [
    "from sklearn.metrics import r2_score\n",
    "r2_baseline = r2_score(y_test, y_pred_test)\n",
    "r2_baseline"
   ]
  },
  {
   "cell_type": "code",
   "execution_count": 18,
   "metadata": {},
   "outputs": [
    {
     "data": {
      "text/plain": [
       "1.0662645067971608"
      ]
     },
     "execution_count": 18,
     "metadata": {},
     "output_type": "execute_result"
    }
   ],
   "source": [
    "mae_baseline_relative = test_mae / y_test.mean()\n",
    "mae_baseline_relative"
   ]
  },
  {
   "cell_type": "markdown",
   "metadata": {},
   "source": [
    "Our MAE turns out to be nearly 3000 minutes, about 50 hours. Our relative MAE, the ratio of the MAE to the mean of the response variable, is over 1. Additionally, $R^2 < 1$. Our baseline model performs quite poorly."
   ]
  },
  {
   "cell_type": "code",
   "execution_count": 19,
   "metadata": {},
   "outputs": [
    {
     "name": "stdout",
     "output_type": "stream",
     "text": [
      "Cross-validated MAE: 5044377180195318.00 ± 10088754360385132.00\n"
     ]
    }
   ],
   "source": [
    "from sklearn.model_selection import cross_val_score\n",
    "\n",
    "baseline_pipeline = Pipeline([\n",
    "    ('model', LinearRegression())   # Baseline Linear Regression model\n",
    "])\n",
    "\n",
    "# Cross-validation on the best estimator\n",
    "cv_scores_base = cross_val_score(\n",
    "    baseline_pipeline,\n",
    "    X,                           # Full feature set\n",
    "    y,                           # Full target set\n",
    "    cv=5,                        # Number of folds\n",
    "    scoring='neg_mean_absolute_error',  # Evaluate using MAE\n",
    "    n_jobs=-1                    # Parallel processing\n",
    ")\n",
    "\n",
    "# Report results\n",
    "cv_mae_base = -cv_scores_base.mean()  # Convert from negative MAE\n",
    "cv_std_base = cv_scores_base.std()    # Standard deviation of MAE\n",
    "\n",
    "print(f\"Cross-validated MAE: {cv_mae_base:.2f} ± {cv_std_base:.2f}\")\n"
   ]
  },
  {
   "cell_type": "markdown",
   "metadata": {},
   "source": [
    "In addition to a model that performs poorly on this data, we have a very large cross-validated MAE, indicating that furthermore, our baseline model does not generalize well to unseen data, presumably because it also fails to perform well on existing data."
   ]
  },
  {
   "cell_type": "markdown",
   "metadata": {},
   "source": [
    "## Step 5: Final Model"
   ]
  },
  {
   "cell_type": "markdown",
   "metadata": {},
   "source": [
    "Let's try to improve our model, this time using RandomForestRegressor, which is good for handling different types of features as well as different types of relationships, including non-linear, as well as being resistant to outliers.\n",
    "\n",
    "Remember that the distribution of outage durations is skewed right. We'd ideally want a symmetric distribution, so let's apply a log transformation.\n",
    "\n",
    "Note that month is represented as whole numbers from 1 to 12. Although random forests handle non-scaled features quite well, and it likely won't make a siginificant difference, transforming this to a normal distribution shouldn't hurt.\n",
    "\n",
    "It's also likely that outage durations are more influenced by season rather than month. For instance, outages in January and February might be similar in duration due to similarities in cause like weather factors. We can create a new feature for seasons based on month."
   ]
  },
  {
   "cell_type": "code",
   "execution_count": 20,
   "metadata": {
    "ExecuteTime": {
     "end_time": "2019-10-31T23:36:28.662099Z",
     "start_time": "2019-10-31T23:36:28.660016Z"
    }
   },
   "outputs": [
    {
     "name": "stdout",
     "output_type": "stream",
     "text": [
      "Fitting 5 folds for each of 27 candidates, totalling 135 fits\n"
     ]
    },
    {
     "name": "stderr",
     "output_type": "stream",
     "text": [
      "/Users/andrewzhou/miniforge3/envs/pds/lib/python3.10/site-packages/sklearn/preprocessing/_data.py:2785: UserWarning: n_quantiles (1000) is greater than the total number of samples (832). n_quantiles is set to n_samples.\n",
      "  warnings.warn(\n",
      "/Users/andrewzhou/miniforge3/envs/pds/lib/python3.10/site-packages/sklearn/preprocessing/_data.py:2785: UserWarning: n_quantiles (1000) is greater than the total number of samples (832). n_quantiles is set to n_samples.\n",
      "  warnings.warn(\n",
      "/Users/andrewzhou/miniforge3/envs/pds/lib/python3.10/site-packages/sklearn/preprocessing/_data.py:2785: UserWarning: n_quantiles (1000) is greater than the total number of samples (832). n_quantiles is set to n_samples.\n",
      "  warnings.warn(\n",
      "/Users/andrewzhou/miniforge3/envs/pds/lib/python3.10/site-packages/sklearn/preprocessing/_data.py:2785: UserWarning: n_quantiles (1000) is greater than the total number of samples (832). n_quantiles is set to n_samples.\n",
      "  warnings.warn(\n",
      "/Users/andrewzhou/miniforge3/envs/pds/lib/python3.10/site-packages/sklearn/preprocessing/_data.py:2785: UserWarning: n_quantiles (1000) is greater than the total number of samples (832). n_quantiles is set to n_samples.\n",
      "  warnings.warn(\n",
      "/Users/andrewzhou/miniforge3/envs/pds/lib/python3.10/site-packages/sklearn/preprocessing/_data.py:2785: UserWarning: n_quantiles (1000) is greater than the total number of samples (832). n_quantiles is set to n_samples.\n",
      "  warnings.warn(\n",
      "/Users/andrewzhou/miniforge3/envs/pds/lib/python3.10/site-packages/sklearn/preprocessing/_data.py:2785: UserWarning: n_quantiles (1000) is greater than the total number of samples (832). n_quantiles is set to n_samples.\n",
      "  warnings.warn(\n",
      "/Users/andrewzhou/miniforge3/envs/pds/lib/python3.10/site-packages/sklearn/preprocessing/_data.py:2785: UserWarning: n_quantiles (1000) is greater than the total number of samples (832). n_quantiles is set to n_samples.\n",
      "  warnings.warn(\n",
      "/Users/andrewzhou/miniforge3/envs/pds/lib/python3.10/site-packages/sklearn/preprocessing/_data.py:2785: UserWarning: n_quantiles (1000) is greater than the total number of samples (832). n_quantiles is set to n_samples.\n",
      "  warnings.warn(\n",
      "/Users/andrewzhou/miniforge3/envs/pds/lib/python3.10/site-packages/sklearn/preprocessing/_data.py:2785: UserWarning: n_quantiles (1000) is greater than the total number of samples (832). n_quantiles is set to n_samples.\n",
      "  warnings.warn(\n",
      "/Users/andrewzhou/miniforge3/envs/pds/lib/python3.10/site-packages/sklearn/preprocessing/_encoders.py:242: UserWarning: Found unknown categories in columns [26, 47] during transform. These unknown categories will be encoded as all zeros\n",
      "  warnings.warn(\n",
      "/Users/andrewzhou/miniforge3/envs/pds/lib/python3.10/site-packages/sklearn/preprocessing/_data.py:2785: UserWarning: n_quantiles (1000) is greater than the total number of samples (832). n_quantiles is set to n_samples.\n",
      "  warnings.warn(\n",
      "/Users/andrewzhou/miniforge3/envs/pds/lib/python3.10/site-packages/sklearn/preprocessing/_data.py:2785: UserWarning: n_quantiles (1000) is greater than the total number of samples (832). n_quantiles is set to n_samples.\n",
      "  warnings.warn(\n",
      "/Users/andrewzhou/miniforge3/envs/pds/lib/python3.10/site-packages/sklearn/preprocessing/_data.py:2785: UserWarning: n_quantiles (1000) is greater than the total number of samples (832). n_quantiles is set to n_samples.\n",
      "  warnings.warn(\n",
      "/Users/andrewzhou/miniforge3/envs/pds/lib/python3.10/site-packages/sklearn/preprocessing/_data.py:2785: UserWarning: n_quantiles (1000) is greater than the total number of samples (832). n_quantiles is set to n_samples.\n",
      "  warnings.warn(\n",
      "/Users/andrewzhou/miniforge3/envs/pds/lib/python3.10/site-packages/sklearn/preprocessing/_encoders.py:242: UserWarning: Found unknown categories in columns [26, 47] during transform. These unknown categories will be encoded as all zeros\n",
      "  warnings.warn(\n",
      "/Users/andrewzhou/miniforge3/envs/pds/lib/python3.10/site-packages/sklearn/preprocessing/_data.py:2785: UserWarning: n_quantiles (1000) is greater than the total number of samples (832). n_quantiles is set to n_samples.\n",
      "  warnings.warn(\n",
      "/Users/andrewzhou/miniforge3/envs/pds/lib/python3.10/site-packages/sklearn/preprocessing/_data.py:2785: UserWarning: n_quantiles (1000) is greater than the total number of samples (832). n_quantiles is set to n_samples.\n",
      "  warnings.warn(\n",
      "/Users/andrewzhou/miniforge3/envs/pds/lib/python3.10/site-packages/sklearn/preprocessing/_data.py:2785: UserWarning: n_quantiles (1000) is greater than the total number of samples (832). n_quantiles is set to n_samples.\n",
      "  warnings.warn(\n",
      "/Users/andrewzhou/miniforge3/envs/pds/lib/python3.10/site-packages/sklearn/preprocessing/_data.py:2785: UserWarning: n_quantiles (1000) is greater than the total number of samples (832). n_quantiles is set to n_samples.\n",
      "  warnings.warn(\n",
      "/Users/andrewzhou/miniforge3/envs/pds/lib/python3.10/site-packages/sklearn/preprocessing/_data.py:2785: UserWarning: n_quantiles (1000) is greater than the total number of samples (832). n_quantiles is set to n_samples.\n",
      "  warnings.warn(\n",
      "/Users/andrewzhou/miniforge3/envs/pds/lib/python3.10/site-packages/sklearn/preprocessing/_data.py:2785: UserWarning: n_quantiles (1000) is greater than the total number of samples (832). n_quantiles is set to n_samples.\n",
      "  warnings.warn(\n",
      "/Users/andrewzhou/miniforge3/envs/pds/lib/python3.10/site-packages/sklearn/preprocessing/_data.py:2785: UserWarning: n_quantiles (1000) is greater than the total number of samples (832). n_quantiles is set to n_samples.\n",
      "  warnings.warn(\n",
      "/Users/andrewzhou/miniforge3/envs/pds/lib/python3.10/site-packages/sklearn/preprocessing/_data.py:2785: UserWarning: n_quantiles (1000) is greater than the total number of samples (832). n_quantiles is set to n_samples.\n",
      "  warnings.warn(\n",
      "/Users/andrewzhou/miniforge3/envs/pds/lib/python3.10/site-packages/sklearn/preprocessing/_data.py:2785: UserWarning: n_quantiles (1000) is greater than the total number of samples (832). n_quantiles is set to n_samples.\n",
      "  warnings.warn(\n",
      "/Users/andrewzhou/miniforge3/envs/pds/lib/python3.10/site-packages/sklearn/preprocessing/_data.py:2785: UserWarning: n_quantiles (1000) is greater than the total number of samples (832). n_quantiles is set to n_samples.\n",
      "  warnings.warn(\n",
      "/Users/andrewzhou/miniforge3/envs/pds/lib/python3.10/site-packages/sklearn/preprocessing/_data.py:2785: UserWarning: n_quantiles (1000) is greater than the total number of samples (832). n_quantiles is set to n_samples.\n",
      "  warnings.warn(\n",
      "/Users/andrewzhou/miniforge3/envs/pds/lib/python3.10/site-packages/sklearn/preprocessing/_data.py:2785: UserWarning: n_quantiles (1000) is greater than the total number of samples (832). n_quantiles is set to n_samples.\n",
      "  warnings.warn(\n",
      "/Users/andrewzhou/miniforge3/envs/pds/lib/python3.10/site-packages/sklearn/preprocessing/_data.py:2785: UserWarning: n_quantiles (1000) is greater than the total number of samples (832). n_quantiles is set to n_samples.\n",
      "  warnings.warn(\n",
      "/Users/andrewzhou/miniforge3/envs/pds/lib/python3.10/site-packages/sklearn/preprocessing/_encoders.py:242: UserWarning: Found unknown categories in columns [26, 47] during transform. These unknown categories will be encoded as all zeros\n",
      "  warnings.warn(\n",
      "/Users/andrewzhou/miniforge3/envs/pds/lib/python3.10/site-packages/sklearn/preprocessing/_data.py:2785: UserWarning: n_quantiles (1000) is greater than the total number of samples (832). n_quantiles is set to n_samples.\n",
      "  warnings.warn(\n",
      "/Users/andrewzhou/miniforge3/envs/pds/lib/python3.10/site-packages/sklearn/preprocessing/_encoders.py:242: UserWarning: Found unknown categories in columns [26, 47] during transform. These unknown categories will be encoded as all zeros\n",
      "  warnings.warn(\n",
      "/Users/andrewzhou/miniforge3/envs/pds/lib/python3.10/site-packages/sklearn/preprocessing/_data.py:2785: UserWarning: n_quantiles (1000) is greater than the total number of samples (832). n_quantiles is set to n_samples.\n",
      "  warnings.warn(\n",
      "/Users/andrewzhou/miniforge3/envs/pds/lib/python3.10/site-packages/sklearn/preprocessing/_data.py:2785: UserWarning: n_quantiles (1000) is greater than the total number of samples (832). n_quantiles is set to n_samples.\n",
      "  warnings.warn(\n",
      "/Users/andrewzhou/miniforge3/envs/pds/lib/python3.10/site-packages/sklearn/preprocessing/_data.py:2785: UserWarning: n_quantiles (1000) is greater than the total number of samples (832). n_quantiles is set to n_samples.\n",
      "  warnings.warn(\n",
      "/Users/andrewzhou/miniforge3/envs/pds/lib/python3.10/site-packages/sklearn/preprocessing/_data.py:2785: UserWarning: n_quantiles (1000) is greater than the total number of samples (832). n_quantiles is set to n_samples.\n",
      "  warnings.warn(\n",
      "/Users/andrewzhou/miniforge3/envs/pds/lib/python3.10/site-packages/sklearn/preprocessing/_encoders.py:242: UserWarning: Found unknown categories in columns [26, 47] during transform. These unknown categories will be encoded as all zeros\n",
      "  warnings.warn(\n",
      "/Users/andrewzhou/miniforge3/envs/pds/lib/python3.10/site-packages/sklearn/preprocessing/_data.py:2785: UserWarning: n_quantiles (1000) is greater than the total number of samples (832). n_quantiles is set to n_samples.\n",
      "  warnings.warn(\n",
      "/Users/andrewzhou/miniforge3/envs/pds/lib/python3.10/site-packages/sklearn/preprocessing/_data.py:2785: UserWarning: n_quantiles (1000) is greater than the total number of samples (832). n_quantiles is set to n_samples.\n",
      "  warnings.warn(\n",
      "/Users/andrewzhou/miniforge3/envs/pds/lib/python3.10/site-packages/sklearn/preprocessing/_encoders.py:242: UserWarning: Found unknown categories in columns [26, 47] during transform. These unknown categories will be encoded as all zeros\n",
      "  warnings.warn(\n",
      "/Users/andrewzhou/miniforge3/envs/pds/lib/python3.10/site-packages/sklearn/preprocessing/_data.py:2785: UserWarning: n_quantiles (1000) is greater than the total number of samples (832). n_quantiles is set to n_samples.\n",
      "  warnings.warn(\n",
      "/Users/andrewzhou/miniforge3/envs/pds/lib/python3.10/site-packages/sklearn/preprocessing/_data.py:2785: UserWarning: n_quantiles (1000) is greater than the total number of samples (832). n_quantiles is set to n_samples.\n",
      "  warnings.warn(\n",
      "/Users/andrewzhou/miniforge3/envs/pds/lib/python3.10/site-packages/sklearn/preprocessing/_data.py:2785: UserWarning: n_quantiles (1000) is greater than the total number of samples (832). n_quantiles is set to n_samples.\n",
      "  warnings.warn(\n",
      "/Users/andrewzhou/miniforge3/envs/pds/lib/python3.10/site-packages/sklearn/preprocessing/_data.py:2785: UserWarning: n_quantiles (1000) is greater than the total number of samples (832). n_quantiles is set to n_samples.\n",
      "  warnings.warn(\n",
      "/Users/andrewzhou/miniforge3/envs/pds/lib/python3.10/site-packages/sklearn/preprocessing/_data.py:2785: UserWarning: n_quantiles (1000) is greater than the total number of samples (832). n_quantiles is set to n_samples.\n",
      "  warnings.warn(\n",
      "/Users/andrewzhou/miniforge3/envs/pds/lib/python3.10/site-packages/sklearn/preprocessing/_data.py:2785: UserWarning: n_quantiles (1000) is greater than the total number of samples (832). n_quantiles is set to n_samples.\n",
      "  warnings.warn(\n",
      "/Users/andrewzhou/miniforge3/envs/pds/lib/python3.10/site-packages/sklearn/preprocessing/_encoders.py:242: UserWarning: Found unknown categories in columns [26, 47] during transform. These unknown categories will be encoded as all zeros\n",
      "  warnings.warn(\n",
      "/Users/andrewzhou/miniforge3/envs/pds/lib/python3.10/site-packages/sklearn/preprocessing/_encoders.py:242: UserWarning: Found unknown categories in columns [26, 47] during transform. These unknown categories will be encoded as all zeros\n",
      "  warnings.warn(\n",
      "/Users/andrewzhou/miniforge3/envs/pds/lib/python3.10/site-packages/sklearn/preprocessing/_data.py:2785: UserWarning: n_quantiles (1000) is greater than the total number of samples (832). n_quantiles is set to n_samples.\n",
      "  warnings.warn(\n",
      "/Users/andrewzhou/miniforge3/envs/pds/lib/python3.10/site-packages/sklearn/preprocessing/_data.py:2785: UserWarning: n_quantiles (1000) is greater than the total number of samples (832). n_quantiles is set to n_samples.\n",
      "  warnings.warn(\n",
      "/Users/andrewzhou/miniforge3/envs/pds/lib/python3.10/site-packages/sklearn/preprocessing/_data.py:2785: UserWarning: n_quantiles (1000) is greater than the total number of samples (832). n_quantiles is set to n_samples.\n",
      "  warnings.warn(\n",
      "/Users/andrewzhou/miniforge3/envs/pds/lib/python3.10/site-packages/sklearn/preprocessing/_data.py:2785: UserWarning: n_quantiles (1000) is greater than the total number of samples (832). n_quantiles is set to n_samples.\n",
      "  warnings.warn(\n",
      "/Users/andrewzhou/miniforge3/envs/pds/lib/python3.10/site-packages/sklearn/preprocessing/_data.py:2785: UserWarning: n_quantiles (1000) is greater than the total number of samples (832). n_quantiles is set to n_samples.\n",
      "  warnings.warn(\n",
      "/Users/andrewzhou/miniforge3/envs/pds/lib/python3.10/site-packages/sklearn/preprocessing/_data.py:2785: UserWarning: n_quantiles (1000) is greater than the total number of samples (832). n_quantiles is set to n_samples.\n",
      "  warnings.warn(\n",
      "/Users/andrewzhou/miniforge3/envs/pds/lib/python3.10/site-packages/sklearn/preprocessing/_encoders.py:242: UserWarning: Found unknown categories in columns [26, 47] during transform. These unknown categories will be encoded as all zeros\n",
      "  warnings.warn(\n",
      "/Users/andrewzhou/miniforge3/envs/pds/lib/python3.10/site-packages/sklearn/preprocessing/_data.py:2785: UserWarning: n_quantiles (1000) is greater than the total number of samples (832). n_quantiles is set to n_samples.\n",
      "  warnings.warn(\n",
      "/Users/andrewzhou/miniforge3/envs/pds/lib/python3.10/site-packages/sklearn/preprocessing/_data.py:2785: UserWarning: n_quantiles (1000) is greater than the total number of samples (832). n_quantiles is set to n_samples.\n",
      "  warnings.warn(\n",
      "/Users/andrewzhou/miniforge3/envs/pds/lib/python3.10/site-packages/sklearn/preprocessing/_data.py:2785: UserWarning: n_quantiles (1000) is greater than the total number of samples (832). n_quantiles is set to n_samples.\n",
      "  warnings.warn(\n",
      "/Users/andrewzhou/miniforge3/envs/pds/lib/python3.10/site-packages/sklearn/preprocessing/_data.py:2785: UserWarning: n_quantiles (1000) is greater than the total number of samples (832). n_quantiles is set to n_samples.\n",
      "  warnings.warn(\n",
      "/Users/andrewzhou/miniforge3/envs/pds/lib/python3.10/site-packages/sklearn/preprocessing/_data.py:2785: UserWarning: n_quantiles (1000) is greater than the total number of samples (832). n_quantiles is set to n_samples.\n",
      "  warnings.warn(\n",
      "/Users/andrewzhou/miniforge3/envs/pds/lib/python3.10/site-packages/sklearn/preprocessing/_data.py:2785: UserWarning: n_quantiles (1000) is greater than the total number of samples (832). n_quantiles is set to n_samples.\n",
      "  warnings.warn(\n",
      "/Users/andrewzhou/miniforge3/envs/pds/lib/python3.10/site-packages/sklearn/preprocessing/_data.py:2785: UserWarning: n_quantiles (1000) is greater than the total number of samples (832). n_quantiles is set to n_samples.\n",
      "  warnings.warn(\n",
      "/Users/andrewzhou/miniforge3/envs/pds/lib/python3.10/site-packages/sklearn/preprocessing/_data.py:2785: UserWarning: n_quantiles (1000) is greater than the total number of samples (832). n_quantiles is set to n_samples.\n",
      "  warnings.warn(\n",
      "/Users/andrewzhou/miniforge3/envs/pds/lib/python3.10/site-packages/sklearn/preprocessing/_data.py:2785: UserWarning: n_quantiles (1000) is greater than the total number of samples (832). n_quantiles is set to n_samples.\n",
      "  warnings.warn(\n",
      "/Users/andrewzhou/miniforge3/envs/pds/lib/python3.10/site-packages/sklearn/preprocessing/_data.py:2785: UserWarning: n_quantiles (1000) is greater than the total number of samples (832). n_quantiles is set to n_samples.\n",
      "  warnings.warn(\n",
      "/Users/andrewzhou/miniforge3/envs/pds/lib/python3.10/site-packages/sklearn/preprocessing/_data.py:2785: UserWarning: n_quantiles (1000) is greater than the total number of samples (832). n_quantiles is set to n_samples.\n",
      "  warnings.warn(\n",
      "/Users/andrewzhou/miniforge3/envs/pds/lib/python3.10/site-packages/sklearn/preprocessing/_data.py:2785: UserWarning: n_quantiles (1000) is greater than the total number of samples (832). n_quantiles is set to n_samples.\n",
      "  warnings.warn(\n",
      "/Users/andrewzhou/miniforge3/envs/pds/lib/python3.10/site-packages/sklearn/preprocessing/_data.py:2785: UserWarning: n_quantiles (1000) is greater than the total number of samples (832). n_quantiles is set to n_samples.\n",
      "  warnings.warn(\n",
      "/Users/andrewzhou/miniforge3/envs/pds/lib/python3.10/site-packages/sklearn/preprocessing/_data.py:2785: UserWarning: n_quantiles (1000) is greater than the total number of samples (832). n_quantiles is set to n_samples.\n",
      "  warnings.warn(\n",
      "/Users/andrewzhou/miniforge3/envs/pds/lib/python3.10/site-packages/sklearn/preprocessing/_data.py:2785: UserWarning: n_quantiles (1000) is greater than the total number of samples (832). n_quantiles is set to n_samples.\n",
      "  warnings.warn(\n",
      "/Users/andrewzhou/miniforge3/envs/pds/lib/python3.10/site-packages/sklearn/preprocessing/_encoders.py:242: UserWarning: Found unknown categories in columns [26, 47] during transform. These unknown categories will be encoded as all zeros\n",
      "  warnings.warn(\n",
      "/Users/andrewzhou/miniforge3/envs/pds/lib/python3.10/site-packages/sklearn/preprocessing/_data.py:2785: UserWarning: n_quantiles (1000) is greater than the total number of samples (832). n_quantiles is set to n_samples.\n",
      "  warnings.warn(\n",
      "/Users/andrewzhou/miniforge3/envs/pds/lib/python3.10/site-packages/sklearn/preprocessing/_data.py:2785: UserWarning: n_quantiles (1000) is greater than the total number of samples (832). n_quantiles is set to n_samples.\n",
      "  warnings.warn(\n",
      "/Users/andrewzhou/miniforge3/envs/pds/lib/python3.10/site-packages/sklearn/preprocessing/_data.py:2785: UserWarning: n_quantiles (1000) is greater than the total number of samples (832). n_quantiles is set to n_samples.\n",
      "  warnings.warn(\n",
      "/Users/andrewzhou/miniforge3/envs/pds/lib/python3.10/site-packages/sklearn/preprocessing/_data.py:2785: UserWarning: n_quantiles (1000) is greater than the total number of samples (832). n_quantiles is set to n_samples.\n",
      "  warnings.warn(\n",
      "/Users/andrewzhou/miniforge3/envs/pds/lib/python3.10/site-packages/sklearn/preprocessing/_encoders.py:242: UserWarning: Found unknown categories in columns [26, 47] during transform. These unknown categories will be encoded as all zeros\n",
      "  warnings.warn(\n",
      "/Users/andrewzhou/miniforge3/envs/pds/lib/python3.10/site-packages/sklearn/preprocessing/_encoders.py:242: UserWarning: Found unknown categories in columns [26, 47] during transform. These unknown categories will be encoded as all zeros\n",
      "  warnings.warn(\n",
      "/Users/andrewzhou/miniforge3/envs/pds/lib/python3.10/site-packages/sklearn/preprocessing/_data.py:2785: UserWarning: n_quantiles (1000) is greater than the total number of samples (832). n_quantiles is set to n_samples.\n",
      "  warnings.warn(\n",
      "/Users/andrewzhou/miniforge3/envs/pds/lib/python3.10/site-packages/sklearn/preprocessing/_encoders.py:242: UserWarning: Found unknown categories in columns [26, 47] during transform. These unknown categories will be encoded as all zeros\n",
      "  warnings.warn(\n",
      "/Users/andrewzhou/miniforge3/envs/pds/lib/python3.10/site-packages/sklearn/preprocessing/_data.py:2785: UserWarning: n_quantiles (1000) is greater than the total number of samples (832). n_quantiles is set to n_samples.\n",
      "  warnings.warn(\n",
      "/Users/andrewzhou/miniforge3/envs/pds/lib/python3.10/site-packages/sklearn/preprocessing/_data.py:2785: UserWarning: n_quantiles (1000) is greater than the total number of samples (832). n_quantiles is set to n_samples.\n",
      "  warnings.warn(\n",
      "/Users/andrewzhou/miniforge3/envs/pds/lib/python3.10/site-packages/sklearn/preprocessing/_encoders.py:242: UserWarning: Found unknown categories in columns [26, 47] during transform. These unknown categories will be encoded as all zeros\n",
      "  warnings.warn(\n",
      "/Users/andrewzhou/miniforge3/envs/pds/lib/python3.10/site-packages/sklearn/preprocessing/_data.py:2785: UserWarning: n_quantiles (1000) is greater than the total number of samples (832). n_quantiles is set to n_samples.\n",
      "  warnings.warn(\n",
      "/Users/andrewzhou/miniforge3/envs/pds/lib/python3.10/site-packages/sklearn/preprocessing/_data.py:2785: UserWarning: n_quantiles (1000) is greater than the total number of samples (832). n_quantiles is set to n_samples.\n",
      "  warnings.warn(\n",
      "/Users/andrewzhou/miniforge3/envs/pds/lib/python3.10/site-packages/sklearn/preprocessing/_data.py:2785: UserWarning: n_quantiles (1000) is greater than the total number of samples (832). n_quantiles is set to n_samples.\n",
      "  warnings.warn(\n",
      "/Users/andrewzhou/miniforge3/envs/pds/lib/python3.10/site-packages/sklearn/preprocessing/_data.py:2785: UserWarning: n_quantiles (1000) is greater than the total number of samples (832). n_quantiles is set to n_samples.\n",
      "  warnings.warn(\n",
      "/Users/andrewzhou/miniforge3/envs/pds/lib/python3.10/site-packages/sklearn/preprocessing/_data.py:2785: UserWarning: n_quantiles (1000) is greater than the total number of samples (832). n_quantiles is set to n_samples.\n",
      "  warnings.warn(\n",
      "/Users/andrewzhou/miniforge3/envs/pds/lib/python3.10/site-packages/sklearn/preprocessing/_data.py:2785: UserWarning: n_quantiles (1000) is greater than the total number of samples (832). n_quantiles is set to n_samples.\n",
      "  warnings.warn(\n",
      "/Users/andrewzhou/miniforge3/envs/pds/lib/python3.10/site-packages/sklearn/preprocessing/_data.py:2785: UserWarning: n_quantiles (1000) is greater than the total number of samples (832). n_quantiles is set to n_samples.\n",
      "  warnings.warn(\n",
      "/Users/andrewzhou/miniforge3/envs/pds/lib/python3.10/site-packages/sklearn/preprocessing/_encoders.py:242: UserWarning: Found unknown categories in columns [26, 47] during transform. These unknown categories will be encoded as all zeros\n",
      "  warnings.warn(\n",
      "/Users/andrewzhou/miniforge3/envs/pds/lib/python3.10/site-packages/sklearn/preprocessing/_data.py:2785: UserWarning: n_quantiles (1000) is greater than the total number of samples (832). n_quantiles is set to n_samples.\n",
      "  warnings.warn(\n",
      "/Users/andrewzhou/miniforge3/envs/pds/lib/python3.10/site-packages/sklearn/preprocessing/_data.py:2785: UserWarning: n_quantiles (1000) is greater than the total number of samples (832). n_quantiles is set to n_samples.\n",
      "  warnings.warn(\n",
      "/Users/andrewzhou/miniforge3/envs/pds/lib/python3.10/site-packages/sklearn/preprocessing/_data.py:2785: UserWarning: n_quantiles (1000) is greater than the total number of samples (832). n_quantiles is set to n_samples.\n",
      "  warnings.warn(\n",
      "/Users/andrewzhou/miniforge3/envs/pds/lib/python3.10/site-packages/sklearn/preprocessing/_data.py:2785: UserWarning: n_quantiles (1000) is greater than the total number of samples (832). n_quantiles is set to n_samples.\n",
      "  warnings.warn(\n",
      "/Users/andrewzhou/miniforge3/envs/pds/lib/python3.10/site-packages/sklearn/preprocessing/_data.py:2785: UserWarning: n_quantiles (1000) is greater than the total number of samples (832). n_quantiles is set to n_samples.\n",
      "  warnings.warn(\n",
      "/Users/andrewzhou/miniforge3/envs/pds/lib/python3.10/site-packages/sklearn/preprocessing/_data.py:2785: UserWarning: n_quantiles (1000) is greater than the total number of samples (832). n_quantiles is set to n_samples.\n",
      "  warnings.warn(\n",
      "/Users/andrewzhou/miniforge3/envs/pds/lib/python3.10/site-packages/sklearn/preprocessing/_data.py:2785: UserWarning: n_quantiles (1000) is greater than the total number of samples (832). n_quantiles is set to n_samples.\n",
      "  warnings.warn(\n",
      "/Users/andrewzhou/miniforge3/envs/pds/lib/python3.10/site-packages/sklearn/preprocessing/_data.py:2785: UserWarning: n_quantiles (1000) is greater than the total number of samples (832). n_quantiles is set to n_samples.\n",
      "  warnings.warn(\n",
      "/Users/andrewzhou/miniforge3/envs/pds/lib/python3.10/site-packages/sklearn/preprocessing/_data.py:2785: UserWarning: n_quantiles (1000) is greater than the total number of samples (832). n_quantiles is set to n_samples.\n",
      "  warnings.warn(\n",
      "/Users/andrewzhou/miniforge3/envs/pds/lib/python3.10/site-packages/sklearn/preprocessing/_data.py:2785: UserWarning: n_quantiles (1000) is greater than the total number of samples (832). n_quantiles is set to n_samples.\n",
      "  warnings.warn(\n",
      "/Users/andrewzhou/miniforge3/envs/pds/lib/python3.10/site-packages/sklearn/preprocessing/_data.py:2785: UserWarning: n_quantiles (1000) is greater than the total number of samples (832). n_quantiles is set to n_samples.\n",
      "  warnings.warn(\n",
      "/Users/andrewzhou/miniforge3/envs/pds/lib/python3.10/site-packages/sklearn/preprocessing/_data.py:2785: UserWarning: n_quantiles (1000) is greater than the total number of samples (832). n_quantiles is set to n_samples.\n",
      "  warnings.warn(\n",
      "/Users/andrewzhou/miniforge3/envs/pds/lib/python3.10/site-packages/sklearn/preprocessing/_data.py:2785: UserWarning: n_quantiles (1000) is greater than the total number of samples (832). n_quantiles is set to n_samples.\n",
      "  warnings.warn(\n",
      "/Users/andrewzhou/miniforge3/envs/pds/lib/python3.10/site-packages/sklearn/preprocessing/_data.py:2785: UserWarning: n_quantiles (1000) is greater than the total number of samples (832). n_quantiles is set to n_samples.\n",
      "  warnings.warn(\n",
      "/Users/andrewzhou/miniforge3/envs/pds/lib/python3.10/site-packages/sklearn/preprocessing/_data.py:2785: UserWarning: n_quantiles (1000) is greater than the total number of samples (832). n_quantiles is set to n_samples.\n",
      "  warnings.warn(\n",
      "/Users/andrewzhou/miniforge3/envs/pds/lib/python3.10/site-packages/sklearn/preprocessing/_data.py:2785: UserWarning: n_quantiles (1000) is greater than the total number of samples (832). n_quantiles is set to n_samples.\n",
      "  warnings.warn(\n",
      "/Users/andrewzhou/miniforge3/envs/pds/lib/python3.10/site-packages/sklearn/preprocessing/_data.py:2785: UserWarning: n_quantiles (1000) is greater than the total number of samples (832). n_quantiles is set to n_samples.\n",
      "  warnings.warn(\n",
      "/Users/andrewzhou/miniforge3/envs/pds/lib/python3.10/site-packages/sklearn/preprocessing/_data.py:2785: UserWarning: n_quantiles (1000) is greater than the total number of samples (832). n_quantiles is set to n_samples.\n",
      "  warnings.warn(\n",
      "/Users/andrewzhou/miniforge3/envs/pds/lib/python3.10/site-packages/sklearn/preprocessing/_data.py:2785: UserWarning: n_quantiles (1000) is greater than the total number of samples (832). n_quantiles is set to n_samples.\n",
      "  warnings.warn(\n",
      "/Users/andrewzhou/miniforge3/envs/pds/lib/python3.10/site-packages/sklearn/preprocessing/_encoders.py:242: UserWarning: Found unknown categories in columns [26, 47] during transform. These unknown categories will be encoded as all zeros\n",
      "  warnings.warn(\n",
      "/Users/andrewzhou/miniforge3/envs/pds/lib/python3.10/site-packages/sklearn/preprocessing/_encoders.py:242: UserWarning: Found unknown categories in columns [26, 47] during transform. These unknown categories will be encoded as all zeros\n",
      "  warnings.warn(\n",
      "/Users/andrewzhou/miniforge3/envs/pds/lib/python3.10/site-packages/sklearn/preprocessing/_data.py:2785: UserWarning: n_quantiles (1000) is greater than the total number of samples (832). n_quantiles is set to n_samples.\n",
      "  warnings.warn(\n",
      "/Users/andrewzhou/miniforge3/envs/pds/lib/python3.10/site-packages/sklearn/preprocessing/_encoders.py:242: UserWarning: Found unknown categories in columns [26, 47] during transform. These unknown categories will be encoded as all zeros\n",
      "  warnings.warn(\n",
      "/Users/andrewzhou/miniforge3/envs/pds/lib/python3.10/site-packages/sklearn/preprocessing/_data.py:2785: UserWarning: n_quantiles (1000) is greater than the total number of samples (832). n_quantiles is set to n_samples.\n",
      "  warnings.warn(\n",
      "/Users/andrewzhou/miniforge3/envs/pds/lib/python3.10/site-packages/sklearn/preprocessing/_data.py:2785: UserWarning: n_quantiles (1000) is greater than the total number of samples (832). n_quantiles is set to n_samples.\n",
      "  warnings.warn(\n",
      "/Users/andrewzhou/miniforge3/envs/pds/lib/python3.10/site-packages/sklearn/preprocessing/_encoders.py:242: UserWarning: Found unknown categories in columns [26, 47] during transform. These unknown categories will be encoded as all zeros\n",
      "  warnings.warn(\n",
      "/Users/andrewzhou/miniforge3/envs/pds/lib/python3.10/site-packages/sklearn/preprocessing/_data.py:2785: UserWarning: n_quantiles (1000) is greater than the total number of samples (832). n_quantiles is set to n_samples.\n",
      "  warnings.warn(\n",
      "/Users/andrewzhou/miniforge3/envs/pds/lib/python3.10/site-packages/sklearn/preprocessing/_data.py:2785: UserWarning: n_quantiles (1000) is greater than the total number of samples (832). n_quantiles is set to n_samples.\n",
      "  warnings.warn(\n",
      "/Users/andrewzhou/miniforge3/envs/pds/lib/python3.10/site-packages/sklearn/preprocessing/_data.py:2785: UserWarning: n_quantiles (1000) is greater than the total number of samples (832). n_quantiles is set to n_samples.\n",
      "  warnings.warn(\n",
      "/Users/andrewzhou/miniforge3/envs/pds/lib/python3.10/site-packages/sklearn/preprocessing/_data.py:2785: UserWarning: n_quantiles (1000) is greater than the total number of samples (832). n_quantiles is set to n_samples.\n",
      "  warnings.warn(\n",
      "/Users/andrewzhou/miniforge3/envs/pds/lib/python3.10/site-packages/sklearn/preprocessing/_data.py:2785: UserWarning: n_quantiles (1000) is greater than the total number of samples (832). n_quantiles is set to n_samples.\n",
      "  warnings.warn(\n",
      "/Users/andrewzhou/miniforge3/envs/pds/lib/python3.10/site-packages/sklearn/preprocessing/_data.py:2785: UserWarning: n_quantiles (1000) is greater than the total number of samples (832). n_quantiles is set to n_samples.\n",
      "  warnings.warn(\n",
      "/Users/andrewzhou/miniforge3/envs/pds/lib/python3.10/site-packages/sklearn/preprocessing/_encoders.py:242: UserWarning: Found unknown categories in columns [26, 47] during transform. These unknown categories will be encoded as all zeros\n",
      "  warnings.warn(\n",
      "/Users/andrewzhou/miniforge3/envs/pds/lib/python3.10/site-packages/sklearn/preprocessing/_data.py:2785: UserWarning: n_quantiles (1000) is greater than the total number of samples (832). n_quantiles is set to n_samples.\n",
      "  warnings.warn(\n",
      "/Users/andrewzhou/miniforge3/envs/pds/lib/python3.10/site-packages/sklearn/preprocessing/_encoders.py:242: UserWarning: Found unknown categories in columns [26, 47] during transform. These unknown categories will be encoded as all zeros\n",
      "  warnings.warn(\n",
      "/Users/andrewzhou/miniforge3/envs/pds/lib/python3.10/site-packages/sklearn/preprocessing/_data.py:2785: UserWarning: n_quantiles (1000) is greater than the total number of samples (832). n_quantiles is set to n_samples.\n",
      "  warnings.warn(\n",
      "/Users/andrewzhou/miniforge3/envs/pds/lib/python3.10/site-packages/sklearn/preprocessing/_data.py:2785: UserWarning: n_quantiles (1000) is greater than the total number of samples (832). n_quantiles is set to n_samples.\n",
      "  warnings.warn(\n",
      "/Users/andrewzhou/miniforge3/envs/pds/lib/python3.10/site-packages/sklearn/preprocessing/_data.py:2785: UserWarning: n_quantiles (1000) is greater than the total number of samples (832). n_quantiles is set to n_samples.\n",
      "  warnings.warn(\n",
      "/Users/andrewzhou/miniforge3/envs/pds/lib/python3.10/site-packages/sklearn/preprocessing/_data.py:2785: UserWarning: n_quantiles (1000) is greater than the total number of samples (832). n_quantiles is set to n_samples.\n",
      "  warnings.warn(\n",
      "/Users/andrewzhou/miniforge3/envs/pds/lib/python3.10/site-packages/sklearn/preprocessing/_data.py:2785: UserWarning: n_quantiles (1000) is greater than the total number of samples (832). n_quantiles is set to n_samples.\n",
      "  warnings.warn(\n",
      "/Users/andrewzhou/miniforge3/envs/pds/lib/python3.10/site-packages/sklearn/preprocessing/_data.py:2785: UserWarning: n_quantiles (1000) is greater than the total number of samples (832). n_quantiles is set to n_samples.\n",
      "  warnings.warn(\n",
      "/Users/andrewzhou/miniforge3/envs/pds/lib/python3.10/site-packages/sklearn/preprocessing/_data.py:2785: UserWarning: n_quantiles (1000) is greater than the total number of samples (832). n_quantiles is set to n_samples.\n",
      "  warnings.warn(\n",
      "/Users/andrewzhou/miniforge3/envs/pds/lib/python3.10/site-packages/sklearn/preprocessing/_data.py:2785: UserWarning: n_quantiles (1000) is greater than the total number of samples (832). n_quantiles is set to n_samples.\n",
      "  warnings.warn(\n",
      "/Users/andrewzhou/miniforge3/envs/pds/lib/python3.10/site-packages/sklearn/preprocessing/_data.py:2785: UserWarning: n_quantiles (1000) is greater than the total number of samples (832). n_quantiles is set to n_samples.\n",
      "  warnings.warn(\n",
      "/Users/andrewzhou/miniforge3/envs/pds/lib/python3.10/site-packages/sklearn/preprocessing/_data.py:2785: UserWarning: n_quantiles (1000) is greater than the total number of samples (832). n_quantiles is set to n_samples.\n",
      "  warnings.warn(\n",
      "/Users/andrewzhou/miniforge3/envs/pds/lib/python3.10/site-packages/sklearn/preprocessing/_data.py:2785: UserWarning: n_quantiles (1000) is greater than the total number of samples (832). n_quantiles is set to n_samples.\n",
      "  warnings.warn(\n",
      "/Users/andrewzhou/miniforge3/envs/pds/lib/python3.10/site-packages/sklearn/preprocessing/_data.py:2785: UserWarning: n_quantiles (1000) is greater than the total number of samples (832). n_quantiles is set to n_samples.\n",
      "  warnings.warn(\n",
      "/Users/andrewzhou/miniforge3/envs/pds/lib/python3.10/site-packages/sklearn/preprocessing/_data.py:2785: UserWarning: n_quantiles (1000) is greater than the total number of samples (832). n_quantiles is set to n_samples.\n",
      "  warnings.warn(\n",
      "/Users/andrewzhou/miniforge3/envs/pds/lib/python3.10/site-packages/sklearn/preprocessing/_data.py:2785: UserWarning: n_quantiles (1000) is greater than the total number of samples (832). n_quantiles is set to n_samples.\n",
      "  warnings.warn(\n",
      "/Users/andrewzhou/miniforge3/envs/pds/lib/python3.10/site-packages/sklearn/preprocessing/_data.py:2785: UserWarning: n_quantiles (1000) is greater than the total number of samples (832). n_quantiles is set to n_samples.\n",
      "  warnings.warn(\n",
      "/Users/andrewzhou/miniforge3/envs/pds/lib/python3.10/site-packages/sklearn/preprocessing/_data.py:2785: UserWarning: n_quantiles (1000) is greater than the total number of samples (832). n_quantiles is set to n_samples.\n",
      "  warnings.warn(\n",
      "/Users/andrewzhou/miniforge3/envs/pds/lib/python3.10/site-packages/sklearn/preprocessing/_data.py:2785: UserWarning: n_quantiles (1000) is greater than the total number of samples (832). n_quantiles is set to n_samples.\n",
      "  warnings.warn(\n",
      "/Users/andrewzhou/miniforge3/envs/pds/lib/python3.10/site-packages/sklearn/preprocessing/_encoders.py:242: UserWarning: Found unknown categories in columns [26, 47] during transform. These unknown categories will be encoded as all zeros\n",
      "  warnings.warn(\n",
      "/Users/andrewzhou/miniforge3/envs/pds/lib/python3.10/site-packages/sklearn/preprocessing/_data.py:2785: UserWarning: n_quantiles (1000) is greater than the total number of samples (832). n_quantiles is set to n_samples.\n",
      "  warnings.warn(\n",
      "/Users/andrewzhou/miniforge3/envs/pds/lib/python3.10/site-packages/sklearn/preprocessing/_data.py:2785: UserWarning: n_quantiles (1000) is greater than the total number of samples (832). n_quantiles is set to n_samples.\n",
      "  warnings.warn(\n",
      "/Users/andrewzhou/miniforge3/envs/pds/lib/python3.10/site-packages/sklearn/preprocessing/_data.py:2785: UserWarning: n_quantiles (1000) is greater than the total number of samples (832). n_quantiles is set to n_samples.\n",
      "  warnings.warn(\n",
      "/Users/andrewzhou/miniforge3/envs/pds/lib/python3.10/site-packages/sklearn/preprocessing/_data.py:2785: UserWarning: n_quantiles (1000) is greater than the total number of samples (832). n_quantiles is set to n_samples.\n",
      "  warnings.warn(\n",
      "/Users/andrewzhou/miniforge3/envs/pds/lib/python3.10/site-packages/sklearn/preprocessing/_encoders.py:242: UserWarning: Found unknown categories in columns [26, 47] during transform. These unknown categories will be encoded as all zeros\n",
      "  warnings.warn(\n",
      "/Users/andrewzhou/miniforge3/envs/pds/lib/python3.10/site-packages/sklearn/preprocessing/_encoders.py:242: UserWarning: Found unknown categories in columns [26, 47] during transform. These unknown categories will be encoded as all zeros\n",
      "  warnings.warn(\n",
      "/Users/andrewzhou/miniforge3/envs/pds/lib/python3.10/site-packages/sklearn/preprocessing/_data.py:2785: UserWarning: n_quantiles (1000) is greater than the total number of samples (832). n_quantiles is set to n_samples.\n",
      "  warnings.warn(\n",
      "/Users/andrewzhou/miniforge3/envs/pds/lib/python3.10/site-packages/sklearn/preprocessing/_data.py:2785: UserWarning: n_quantiles (1000) is greater than the total number of samples (832). n_quantiles is set to n_samples.\n",
      "  warnings.warn(\n",
      "/Users/andrewzhou/miniforge3/envs/pds/lib/python3.10/site-packages/sklearn/preprocessing/_data.py:2785: UserWarning: n_quantiles (1000) is greater than the total number of samples (832). n_quantiles is set to n_samples.\n",
      "  warnings.warn(\n",
      "/Users/andrewzhou/miniforge3/envs/pds/lib/python3.10/site-packages/sklearn/preprocessing/_data.py:2785: UserWarning: n_quantiles (1000) is greater than the total number of samples (832). n_quantiles is set to n_samples.\n",
      "  warnings.warn(\n",
      "/Users/andrewzhou/miniforge3/envs/pds/lib/python3.10/site-packages/sklearn/preprocessing/_data.py:2785: UserWarning: n_quantiles (1000) is greater than the total number of samples (832). n_quantiles is set to n_samples.\n",
      "  warnings.warn(\n",
      "/Users/andrewzhou/miniforge3/envs/pds/lib/python3.10/site-packages/sklearn/preprocessing/_encoders.py:242: UserWarning: Found unknown categories in columns [26, 47] during transform. These unknown categories will be encoded as all zeros\n",
      "  warnings.warn(\n",
      "/Users/andrewzhou/miniforge3/envs/pds/lib/python3.10/site-packages/sklearn/preprocessing/_data.py:2785: UserWarning: n_quantiles (1000) is greater than the total number of samples (832). n_quantiles is set to n_samples.\n",
      "  warnings.warn(\n",
      "/Users/andrewzhou/miniforge3/envs/pds/lib/python3.10/site-packages/sklearn/preprocessing/_data.py:2785: UserWarning: n_quantiles (1000) is greater than the total number of samples (832). n_quantiles is set to n_samples.\n",
      "  warnings.warn(\n",
      "/Users/andrewzhou/miniforge3/envs/pds/lib/python3.10/site-packages/sklearn/preprocessing/_data.py:2785: UserWarning: n_quantiles (1000) is greater than the total number of samples (832). n_quantiles is set to n_samples.\n",
      "  warnings.warn(\n",
      "/Users/andrewzhou/miniforge3/envs/pds/lib/python3.10/site-packages/sklearn/preprocessing/_encoders.py:242: UserWarning: Found unknown categories in columns [26, 47] during transform. These unknown categories will be encoded as all zeros\n",
      "  warnings.warn(\n",
      "/Users/andrewzhou/miniforge3/envs/pds/lib/python3.10/site-packages/sklearn/preprocessing/_data.py:2785: UserWarning: n_quantiles (1000) is greater than the total number of samples (832). n_quantiles is set to n_samples.\n",
      "  warnings.warn(\n",
      "/Users/andrewzhou/miniforge3/envs/pds/lib/python3.10/site-packages/sklearn/preprocessing/_data.py:2785: UserWarning: n_quantiles (1000) is greater than the total number of samples (832). n_quantiles is set to n_samples.\n",
      "  warnings.warn(\n",
      "/Users/andrewzhou/miniforge3/envs/pds/lib/python3.10/site-packages/sklearn/preprocessing/_encoders.py:242: UserWarning: Found unknown categories in columns [26, 47] during transform. These unknown categories will be encoded as all zeros\n",
      "  warnings.warn(\n"
     ]
    },
    {
     "data": {
      "text/plain": [
       "({'model__max_depth': 20,\n",
       "  'model__min_samples_split': 10,\n",
       "  'model__n_estimators': 200},\n",
       " 1.3705290484700026)"
      ]
     },
     "execution_count": 20,
     "metadata": {},
     "output_type": "execute_result"
    }
   ],
   "source": [
    "# TODO\n",
    "\n",
    "from sklearn.ensemble import RandomForestRegressor\n",
    "from sklearn.pipeline import Pipeline\n",
    "from sklearn.compose import ColumnTransformer\n",
    "from sklearn.preprocessing import OneHotEncoder, StandardScaler, FunctionTransformer, QuantileTransformer, PolynomialFeatures\n",
    "from sklearn.model_selection import GridSearchCV\n",
    "from numpy import log1p, expm1\n",
    "\n",
    "# Helper function to map months to seasons\n",
    "def month_to_season(month):\n",
    "    if month in [12, 1, 2]:  # Winter\n",
    "        return 'Winter'\n",
    "    elif month in [3, 4, 5]:  # Spring\n",
    "        return 'Spring'\n",
    "    elif month in [6, 7, 8]:  # Summer\n",
    "        return 'Summer'\n",
    "    else:  # Fall\n",
    "        return 'Fall'\n",
    "\n",
    "# Apply month-to-season transformation\n",
    "outages['SEASON'] = outages['MONTH'].apply(month_to_season)\n",
    "\n",
    "X['SEASON'] = outages['SEASON'].values\n",
    "y = outages['OUTAGE.DURATION']\n",
    "X_train, X_test, y_train, y_test = train_test_split(X, y, test_size=0.2, random_state=42)\n",
    "\n",
    "#save a copy of original\n",
    "y_train_0 = y_train\n",
    "y_test_0 = y_test\n",
    "X_test_0 = X_test\n",
    "\n",
    "# log transform since outage duration is skewed right\n",
    "y_train = log1p(y_train)\n",
    "y_test = log1p(y_test)\n",
    "\n",
    "# Define categorical and numerical columns\n",
    "# categorical_cols = ['POSTAL.CODE', 'SEASON']\n",
    "categorical_cols = [col for col in X_train.columns if col.startswith('POSTAL.CODE')]\n",
    "numerical_cols = ['MONTH']\n",
    "\n",
    "# Preprocessing steps for each type of column\n",
    "categorical_transformer = OneHotEncoder(drop='first', handle_unknown='ignore')\n",
    "numerical_transformer = Pipeline([\n",
    "    ('poly', PolynomialFeatures(degree=3, include_bias=False)),\n",
    "    ('scaler', StandardScaler()),\n",
    "    ('quantile', QuantileTransformer(output_distribution='normal'))\n",
    "])\n",
    "\n",
    "# ColumnTransformer to preprocess features\n",
    "# preprocessor = ColumnTransformer([\n",
    "#     ('cat', categorical_transformer, categorical_cols),\n",
    "#     ('num', numerical_transformer, numerical_cols)\n",
    "# ])\n",
    "\n",
    "preprocessor = ColumnTransformer(\n",
    "    transformers=[\n",
    "        ('cat', categorical_transformer, categorical_cols),\n",
    "        ('num', numerical_transformer, numerical_cols)\n",
    "    ]\n",
    ")\n",
    "\n",
    "# Define the model\n",
    "model = RandomForestRegressor(random_state=42)\n",
    "\n",
    "# Create a pipeline\n",
    "pipeline = Pipeline([\n",
    "    ('preprocessor', preprocessor),\n",
    "    ('model', model)\n",
    "])\n",
    "\n",
    "# Define hyperparameters for tuning\n",
    "param_grid = {\n",
    "    'model__n_estimators': [50, 100, 200],\n",
    "    'model__max_depth': [10, 20, None],\n",
    "    'model__min_samples_split': [2, 5, 10]\n",
    "}\n",
    "\n",
    "# Perform GridSearchCV\n",
    "grid_search = GridSearchCV(\n",
    "    pipeline, param_grid, cv=5, scoring='neg_mean_absolute_error', n_jobs=-1, verbose=1\n",
    ")\n",
    "\n",
    "grid_search.fit(X_train, y_train)\n",
    "\n",
    "# Best parameters and performance\n",
    "best_params = grid_search.best_params_\n",
    "best_score = -grid_search.best_score_  # Convert from negative MAE\n",
    "best_params, best_score\n"
   ]
  },
  {
   "cell_type": "code",
   "execution_count": 21,
   "metadata": {},
   "outputs": [
    {
     "name": "stdout",
     "output_type": "stream",
     "text": [
      "Mean Absolute Error (MAE): 2802.03\n",
      "Relative MAE: 20.62%\n",
      "Relative MAE in original space: 99.76%\n"
     ]
    }
   ],
   "source": [
    "y_pred_test_0 = grid_search.best_estimator_.predict(X_test_0)\n",
    "y_pred_test = grid_search.best_estimator_.predict(X_test)\n",
    "\n",
    "test_mae_0 = mean_absolute_error(y_test_0, y_pred_test_0)\n",
    "test_mae = mean_absolute_error(y_test, y_pred_test)\n",
    "relative_mae = test_mae / y_test.mean()\n",
    "relative_mae_0 = test_mae_0 / y_test_0.mean()\n",
    "\n",
    "print(f\"Mean Absolute Error (MAE): {test_mae_0:.2f}\")\n",
    "print(f\"Relative MAE: {relative_mae:.2%}\")\n",
    "print(f\"Relative MAE in original space: {relative_mae_0:.2%}\")"
   ]
  },
  {
   "cell_type": "code",
   "execution_count": 22,
   "metadata": {},
   "outputs": [
    {
     "name": "stdout",
     "output_type": "stream",
     "text": [
      "Cross-validated MAE: 2728.48 ± 679.21\n"
     ]
    },
    {
     "name": "stderr",
     "output_type": "stream",
     "text": [
      "/Users/andrewzhou/miniforge3/envs/pds/lib/python3.10/site-packages/sklearn/preprocessing/_encoders.py:242: UserWarning: Found unknown categories in columns [20, 21, 39, 45, 46] during transform. These unknown categories will be encoded as all zeros\n",
      "  warnings.warn(\n",
      "/Users/andrewzhou/miniforge3/envs/pds/lib/python3.10/site-packages/sklearn/preprocessing/_encoders.py:242: UserWarning: Found unknown categories in columns [5, 6, 10, 15, 22, 24, 25, 29, 33, 35, 37, 41] during transform. These unknown categories will be encoded as all zeros\n",
      "  warnings.warn(\n",
      "/Users/andrewzhou/miniforge3/envs/pds/lib/python3.10/site-packages/sklearn/preprocessing/_encoders.py:242: UserWarning: Found unknown categories in columns [1, 12, 13, 18, 23, 44] during transform. These unknown categories will be encoded as all zeros\n",
      "  warnings.warn(\n",
      "/Users/andrewzhou/miniforge3/envs/pds/lib/python3.10/site-packages/sklearn/preprocessing/_encoders.py:242: UserWarning: Found unknown categories in columns [0, 3, 4, 8, 9, 11, 14, 17, 19, 26, 27, 28, 30, 31, 34, 38, 42, 43, 47] during transform. These unknown categories will be encoded as all zeros\n",
      "  warnings.warn(\n",
      "/Users/andrewzhou/miniforge3/envs/pds/lib/python3.10/site-packages/sklearn/preprocessing/_encoders.py:242: UserWarning: Found unknown categories in columns [7, 16] during transform. These unknown categories will be encoded as all zeros\n",
      "  warnings.warn(\n"
     ]
    }
   ],
   "source": [
    "cv_scores = cross_val_score(\n",
    "    grid_search.best_estimator_,  # Best model from GridSearchCV\n",
    "    X,                           # Full feature set\n",
    "    y,                           # Full target set\n",
    "    cv=5,                        # Number of folds\n",
    "    scoring='neg_mean_absolute_error',  # Evaluate using MAE\n",
    "    n_jobs=-1                    # Parallel processing\n",
    ")\n",
    "\n",
    "# Report results\n",
    "cv_mae = -cv_scores.mean()  # Convert from negative MAE\n",
    "cv_std = cv_scores.std()    # Standard deviation of MAE\n",
    "\n",
    "print(f\"Cross-validated MAE: {cv_mae:.2f} ± {cv_std:.2f}\")\n"
   ]
  },
  {
   "cell_type": "markdown",
   "metadata": {},
   "source": [
    "Using GridSearchCV to tune hyperparameters in the ranges above, the best hyperparemeters turned out to be:\n",
    "\n",
    "'model__max_depth': 20\n",
    "  \n",
    "  'model__min_samples_split': 10\n",
    "  \n",
    "  'model__n_estimators': 200"
   ]
  },
  {
   "cell_type": "markdown",
   "metadata": {},
   "source": [
    "Our new MAE, although still not ideal, is a slight improvement, decreasing to around 2800 minutes, or around 46.67 hours.\n",
    "\n",
    "In the original feature space, we have a slightly improved, but not excellent, relative MAE, being able to just about decrease it to under 100%.\n",
    "\n",
    "On the other hand, in the transformed space, our relative MAE is at around 20%, which indicates very good performance in the transformed space. This is expected, since after feature engineering, we can more easily work with standardized and symmetric distributions."
   ]
  },
  {
   "cell_type": "markdown",
   "metadata": {},
   "source": [
    "Our new cross-validated MAE is fortunately much lower, so hopefully, our new model generalizes well to unseen data."
   ]
  }
 ],
 "metadata": {
  "kernelspec": {
   "display_name": "Python 3 (ipykernel)",
   "language": "python",
   "name": "python3"
  },
  "language_info": {
   "codemirror_mode": {
    "name": "ipython",
    "version": 3
   },
   "file_extension": ".py",
   "mimetype": "text/x-python",
   "name": "python",
   "nbconvert_exporter": "python",
   "pygments_lexer": "ipython3",
   "version": "3.10.14"
  }
 },
 "nbformat": 4,
 "nbformat_minor": 4
}
